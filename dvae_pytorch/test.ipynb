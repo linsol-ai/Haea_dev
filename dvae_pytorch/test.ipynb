{
 "cells": [
  {
   "cell_type": "code",
   "execution_count": 6,
   "metadata": {},
   "outputs": [
    {
     "name": "stdout",
     "output_type": "stream",
     "text": [
      "torch.Size([1, 8192, 64, 32])\n",
      "torch.Size([1, 2048])\n"
     ]
    }
   ],
   "source": [
    "from models.dvae import DVAE, Conv2DDecoder, Conv2DEncoder\n",
    "import torch\n",
    "\n",
    "model = DVAE(\n",
    "            encoder=Conv2DEncoder(\n",
    "                input_channels=1,\n",
    "                output_channels=8192,\n",
    "                num_layers=3,\n",
    "                num_resnet_blocks=3,\n",
    "                hidden_size=256,\n",
    "            ),\n",
    "            decoder=Conv2DDecoder(\n",
    "                input_channels=512,\n",
    "                output_channels=1,\n",
    "                num_layers=3,\n",
    "                num_resnet_blocks=3,\n",
    "                hidden_size=256,\n",
    "            ),\n",
    "            codebook_size=8192,\n",
    "            codebook_vector_dim=512,\n",
    "            temperature=1,\n",
    "        )\n",
    "\n",
    "print(model.get_codebook_indices(torch.zeros(1, 1, 512, 256)).shape)\n",
    "\n"
   ]
  }
 ],
 "metadata": {
  "kernelspec": {
   "display_name": "venv",
   "language": "python",
   "name": "python3"
  },
  "language_info": {
   "codemirror_mode": {
    "name": "ipython",
    "version": 3
   },
   "file_extension": ".py",
   "mimetype": "text/x-python",
   "name": "python",
   "nbconvert_exporter": "python",
   "pygments_lexer": "ipython3",
   "version": "3.10.13"
  }
 },
 "nbformat": 4,
 "nbformat_minor": 2
}
