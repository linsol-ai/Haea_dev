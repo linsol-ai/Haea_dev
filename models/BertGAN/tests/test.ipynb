{
 "cells": [
  {
   "cell_type": "code",
   "execution_count": 6,
   "metadata": {},
   "outputs": [
    {
     "name": "stdout",
     "output_type": "stream",
     "text": [
      "tensor([-24,   0,  24,  48,  72,  96, 120, 144, 168, 192, 216, 240, 264, 288,\n",
      "        312, 336], dtype=torch.int32)\n"
     ]
    }
   ],
   "source": [
    "import torch\n",
    "max_lead_time = 336\n",
    "time_len = 24\n",
    "sample = torch.arange(-time_len, max_lead_time+1, step=time_len, dtype=torch.int32)\n",
    "\n",
    "print(sample)"
   ]
  },
  {
   "cell_type": "code",
   "execution_count": 12,
   "metadata": {},
   "outputs": [
    {
     "name": "stdout",
     "output_type": "stream",
     "text": [
      "1 25\n",
      "49 73\n"
     ]
    }
   ],
   "source": [
    "def get(t, idx):\n",
    "        t = max(t, time_len-1)\n",
    "        delta = sample[idx].item()\n",
    "        t = t - max(0, (t + delta + time_len) - (1000 - 1))\n",
    "        print(t-time_len+1, t+1)\n",
    "        next = t + delta + 1\n",
    "        print(next, next+time_len)\n",
    "\n",
    "get(24, 2)"
   ]
  }
 ],
 "metadata": {
  "kernelspec": {
   "display_name": "venv",
   "language": "python",
   "name": "python3"
  },
  "language_info": {
   "codemirror_mode": {
    "name": "ipython",
    "version": 3
   },
   "file_extension": ".py",
   "mimetype": "text/x-python",
   "name": "python",
   "nbconvert_exporter": "python",
   "pygments_lexer": "ipython3",
   "version": "3.10.13"
  }
 },
 "nbformat": 4,
 "nbformat_minor": 2
}
