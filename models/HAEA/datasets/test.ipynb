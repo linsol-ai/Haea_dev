{
 "cells": [
  {
   "cell_type": "code",
   "execution_count": 112,
   "metadata": {},
   "outputs": [
    {
     "name": "stdout",
     "output_type": "stream",
     "text": [
      "The autoreload extension is already loaded. To reload it, use:\n",
      "  %reload_ext autoreload\n",
      "1004\n"
     ]
    }
   ],
   "source": [
    "%load_ext autoreload\n",
    "%autoreload 2\n",
    "\n",
    "from denoised_dataset import TimeVocab, DenoisingDataset\n",
    "import torch\n",
    "\n",
    "vocab = TimeVocab(torch.zeros(1000, 250, 100), torch.tensor([1, 2, 3]), torch.tensor([1, 2, 3]), 64, 120)\n",
    "\n",
    "print(len(vocab))\n",
    "\n",
    "dataset = DenoisingDataset(\n",
    "    vocab,\n",
    "    127,\n",
    "    mask=0.3,\n",
    "    mask_random=0.3,\n",
    "    insert=0,\n",
    "    rotate=0,\n",
    "    permute_sentences=0,\n",
    "    replace_length=-1,\n",
    "    mask_length='span-poisson',\n",
    "    poisson_lambda=3\n",
    ")"
   ]
  },
  {
   "cell_type": "code",
   "execution_count": 81,
   "metadata": {},
   "outputs": [
    {
     "name": "stdout",
     "output_type": "stream",
     "text": [
      "tensor([  1,   4,   5,   6,   7,   8,   9,  10,  11,  12,  13,  14,  15,  16,\n",
      "         17,  18,  19,  20,  21,  22,  23,  24,  25,  26,  27,  28,  29,  30,\n",
      "         31,  32,  33,  34,  35,  36,  37,  38,  39,  40,  41,  42,  43,  44,\n",
      "         45,  46,  47,  48,  49,  50,  51,  52,  53,  54,  55,  56,  57,  58,\n",
      "         59,  60,  61,  62,  63,  64,  65,  66,  67,  68,  69,  70,  71,  72,\n",
      "         73,  74,  75,  76,  77,  78,  79,  80,  81,  82,  83,  84,  85,  86,\n",
      "         87,  88,  89,  90,  91,  92,  93,  94,  95,  96,  97,  98,  99, 100,\n",
      "        101, 102, 103, 104, 105, 106, 107, 108, 109, 110, 111, 112, 113, 114,\n",
      "        115, 116, 117, 118, 119, 120, 121, 122, 123,   2])\n"
     ]
    }
   ],
   "source": [
    "print(dataset.dataset[0])"
   ]
  },
  {
   "cell_type": "code",
   "execution_count": 82,
   "metadata": {},
   "outputs": [
    {
     "name": "stdout",
     "output_type": "stream",
     "text": [
      "torch.Size([22, 100])\n",
      "torch.Size([22, 100])\n",
      "torch.Size([384, 100])\n"
     ]
    }
   ],
   "source": [
    "data = dataset[0]\n",
    "print(data['source'].shape)\n"
   ]
  },
  {
   "cell_type": "code",
   "execution_count": 32,
   "metadata": {},
   "outputs": [
    {
     "name": "stdout",
     "output_type": "stream",
     "text": [
      "tensor([[1, 5, 6, 7, 5, 6, 7, 5, 6, 7, 3, 3, 3, 3, 3, 3, 5, 6, 7, 5, 6, 7, 2],\n",
      "        [1, 5, 6, 7, 5, 6, 7, 5, 6, 7, 3, 3, 3, 3, 3, 3, 5, 6, 7, 5, 6, 7, 2]])\n"
     ]
    }
   ],
   "source": [
    "def get_var_seq(var_seq: torch.Tensor, indicate: torch.Tensor):\n",
    "        # indicate.shape = (batch, max_len + 2)\n",
    "        result = []\n",
    "        var_seq = var_seq + len(HaeaVocab.SPECIAL_TOKENS)\n",
    "\n",
    "        for batch in indicate:\n",
    "            seq = []\n",
    "            for item in batch:\n",
    "                if item in HaeaVocab.SPECIAL_TOKENS:\n",
    "                    if item == HaeaVocab.SPECIAL_TOKEN_MASK:\n",
    "                        seq.extend([item for _ in range(len(var_seq))])\n",
    "                    else:\n",
    "                        seq.append(item)\n",
    "                else:\n",
    "                    seq.extend(var_seq)\n",
    "                \n",
    "            result.append(seq)\n",
    "\n",
    "        result = torch.tensor(result)\n",
    "        return result\n",
    "\n",
    "\n",
    "print(get_var_seq(torch.tensor([1, 2, 3]), torch.tensor([[1, 4, 5, 6, 3, 3, 9, 10, 2], [1, 4, 5, 6, 3, 3, 9, 10, 2]])))"
   ]
  },
  {
   "cell_type": "code",
   "execution_count": 20,
   "metadata": {},
   "outputs": [
    {
     "name": "stdout",
     "output_type": "stream",
     "text": [
      "torch.Size([5, 10])\n"
     ]
    }
   ],
   "source": [
    "data = torch.zeros(10, 10)\n",
    "print(data[0].unsqueeze(0).repeat_interleave(5, dim=0).shape)"
   ]
  },
  {
   "cell_type": "code",
   "execution_count": 110,
   "metadata": {},
   "outputs": [],
   "source": [
    "import torch\n",
    "def get_tgt_mask(var_len, max_len, pad_len) -> torch.Tensor:\n",
    "        matrix = torch.zeros(max_len, max_len)\n",
    "        matrix[1, 1] = True\n",
    "        for i in range( (max_len-pad_len-2) // var_len):\n",
    "            s =  (i * var_len) + 1\n",
    "            e =  ((i+1) * var_len) + 1\n",
    "            matrix[s:e, :e] = True\n",
    "        matrix[-pad_len-1, :-pad_len] = True\n",
    "      \n",
    "        return matrix"
   ]
  },
  {
   "cell_type": "code",
   "execution_count": 111,
   "metadata": {},
   "outputs": [
    {
     "name": "stdout",
     "output_type": "stream",
     "text": [
      "tensor([[0., 0., 0., 0., 0., 0., 0., 0., 0., 0., 0., 0., 0., 0., 0., 0., 0.],\n",
      "        [1., 1., 1., 1., 0., 0., 0., 0., 0., 0., 0., 0., 0., 0., 0., 0., 0.],\n",
      "        [1., 1., 1., 1., 0., 0., 0., 0., 0., 0., 0., 0., 0., 0., 0., 0., 0.],\n",
      "        [1., 1., 1., 1., 0., 0., 0., 0., 0., 0., 0., 0., 0., 0., 0., 0., 0.],\n",
      "        [1., 1., 1., 1., 1., 1., 1., 0., 0., 0., 0., 0., 0., 0., 0., 0., 0.],\n",
      "        [1., 1., 1., 1., 1., 1., 1., 0., 0., 0., 0., 0., 0., 0., 0., 0., 0.],\n",
      "        [1., 1., 1., 1., 1., 1., 1., 0., 0., 0., 0., 0., 0., 0., 0., 0., 0.],\n",
      "        [1., 1., 1., 1., 1., 1., 1., 1., 1., 1., 0., 0., 0., 0., 0., 0., 0.],\n",
      "        [1., 1., 1., 1., 1., 1., 1., 1., 1., 1., 0., 0., 0., 0., 0., 0., 0.],\n",
      "        [1., 1., 1., 1., 1., 1., 1., 1., 1., 1., 0., 0., 0., 0., 0., 0., 0.],\n",
      "        [1., 1., 1., 1., 1., 1., 1., 1., 1., 1., 1., 1., 1., 0., 0., 0., 0.],\n",
      "        [1., 1., 1., 1., 1., 1., 1., 1., 1., 1., 1., 1., 1., 0., 0., 0., 0.],\n",
      "        [1., 1., 1., 1., 1., 1., 1., 1., 1., 1., 1., 1., 1., 0., 0., 0., 0.],\n",
      "        [1., 1., 1., 1., 1., 1., 1., 1., 1., 1., 1., 1., 1., 1., 0., 0., 0.],\n",
      "        [0., 0., 0., 0., 0., 0., 0., 0., 0., 0., 0., 0., 0., 0., 0., 0., 0.],\n",
      "        [0., 0., 0., 0., 0., 0., 0., 0., 0., 0., 0., 0., 0., 0., 0., 0., 0.],\n",
      "        [0., 0., 0., 0., 0., 0., 0., 0., 0., 0., 0., 0., 0., 0., 0., 0., 0.]])\n"
     ]
    }
   ],
   "source": [
    "print(get_tgt_mask(3, 17, 3))"
   ]
  }
 ],
 "metadata": {
  "kernelspec": {
   "display_name": "venv",
   "language": "python",
   "name": "python3"
  },
  "language_info": {
   "codemirror_mode": {
    "name": "ipython",
    "version": 3
   },
   "file_extension": ".py",
   "mimetype": "text/x-python",
   "name": "python",
   "nbconvert_exporter": "python",
   "pygments_lexer": "ipython3",
   "version": "3.10.13"
  }
 },
 "nbformat": 4,
 "nbformat_minor": 2
}
