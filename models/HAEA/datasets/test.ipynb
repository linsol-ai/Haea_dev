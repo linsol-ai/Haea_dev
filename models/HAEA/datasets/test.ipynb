{
 "cells": [
  {
   "cell_type": "code",
   "execution_count": 1,
   "metadata": {},
   "outputs": [],
   "source": [
    "from denoised_dataset import HaeaVocab, BARTDenoisingDataset\n",
    "import torch\n",
    "\n",
    "vocab = HaeaVocab(torch.zeros(1000, 300, 100), torch.zeros(1000, 300, 100))\n",
    "args = {\n",
    "    'mask_ratio': 0.3,\n",
    "    'random_ratio': 0,\n",
    "    'mask_length': 'span-poisson',\n",
    "    'replace_length': -1,\n",
    "    'poisson_lambda': 3\n",
    "}\n",
    "dataset = BARTDenoisingDataset(\n",
    "    vocab,\n",
    "    20,\n",
    "    None,\n",
    "    127,\n",
    "    args\n",
    ")"
   ]
  },
  {
   "cell_type": "code",
   "execution_count": 2,
   "metadata": {},
   "outputs": [
    {
     "ename": "AssertionError",
     "evalue": "",
     "output_type": "error",
     "traceback": [
      "\u001b[0;31m---------------------------------------------------------------------------\u001b[0m",
      "\u001b[0;31mAssertionError\u001b[0m                            Traceback (most recent call last)",
      "Cell \u001b[0;32mIn[2], line 1\u001b[0m\n\u001b[0;32m----> 1\u001b[0m \u001b[38;5;28mprint\u001b[39m(\u001b[43mdataset\u001b[49m\u001b[43m[\u001b[49m\u001b[38;5;241;43m0\u001b[39;49m\u001b[43m]\u001b[49m)\n",
      "File \u001b[0;32m/workspace/Haea_dev/models/HAEA/datasets/denoised_dataset.py:124\u001b[0m, in \u001b[0;36mBARTDenoisingDataset.__getitem__\u001b[0;34m(self, index)\u001b[0m\n\u001b[1;32m    122\u001b[0m \u001b[38;5;28;01mwith\u001b[39;00m numpy_seed(\u001b[38;5;28mself\u001b[39m\u001b[38;5;241m.\u001b[39mseed, \u001b[38;5;28mself\u001b[39m\u001b[38;5;241m.\u001b[39mepoch, index):\n\u001b[1;32m    123\u001b[0m     tokens \u001b[38;5;241m=\u001b[39m \u001b[38;5;28mself\u001b[39m\u001b[38;5;241m.\u001b[39mdataset[index]\n\u001b[0;32m--> 124\u001b[0m     \u001b[38;5;28;01massert\u001b[39;00m tokens[\u001b[38;5;241m-\u001b[39m\u001b[38;5;241m1\u001b[39m] \u001b[38;5;241m==\u001b[39m \u001b[38;5;28mself\u001b[39m\u001b[38;5;241m.\u001b[39mvocab\u001b[38;5;241m.\u001b[39mSPECIAL_TOKEN_EOS\n\u001b[1;32m    125\u001b[0m     source, target \u001b[38;5;241m=\u001b[39m tokens, tokens\u001b[38;5;241m.\u001b[39mclone()\n\u001b[1;32m    127\u001b[0m     \u001b[38;5;28;01mif\u001b[39;00m \u001b[38;5;28mself\u001b[39m\u001b[38;5;241m.\u001b[39mmask_ratio \u001b[38;5;241m>\u001b[39m \u001b[38;5;241m0\u001b[39m:\n",
      "\u001b[0;31mAssertionError\u001b[0m: "
     ]
    }
   ],
   "source": [
    "print(dataset[0])"
   ]
  }
 ],
 "metadata": {
  "kernelspec": {
   "display_name": "venv",
   "language": "python",
   "name": "python3"
  },
  "language_info": {
   "codemirror_mode": {
    "name": "ipython",
    "version": 3
   },
   "file_extension": ".py",
   "mimetype": "text/x-python",
   "name": "python",
   "nbconvert_exporter": "python",
   "pygments_lexer": "ipython3",
   "version": "3.10.13"
  }
 },
 "nbformat": 4,
 "nbformat_minor": 2
}
