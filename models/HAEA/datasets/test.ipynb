{
 "cells": [
  {
   "cell_type": "code",
   "execution_count": 31,
   "metadata": {},
   "outputs": [
    {
     "name": "stdout",
     "output_type": "stream",
     "text": [
      "The autoreload extension is already loaded. To reload it, use:\n",
      "  %reload_ext autoreload\n",
      "1004\n"
     ]
    }
   ],
   "source": [
    "%load_ext autoreload\n",
    "%autoreload 2\n",
    "\n",
    "from denoised_dataset import HaeaVocab, DenoisingDataset\n",
    "import torch\n",
    "\n",
    "vocab = HaeaVocab(torch.zeros(1000, 300, 100), torch.zeros(1000, 300, 100), max_len=20)\n",
    "\n",
    "print(len(vocab))\n",
    "\n",
    "dataset = DenoisingDataset(\n",
    "    vocab,\n",
    "    127,\n",
    "    mask=0.3,\n",
    "    mask_random=0,\n",
    "    insert=0,\n",
    "    rotate=0,\n",
    "    permute_sentences=0,\n",
    "    replace_length=-1,\n",
    "    mask_length='span-poisson',\n",
    "    poisson_lambda=3\n",
    ")"
   ]
  },
  {
   "cell_type": "code",
   "execution_count": 29,
   "metadata": {},
   "outputs": [
    {
     "name": "stdout",
     "output_type": "stream",
     "text": [
      "tensor([[   1,    4,    5,  ...,   22,   23,    2],\n",
      "        [   1,    5,    6,  ...,   23,   24,    2],\n",
      "        [   1,    6,    7,  ...,   24,   25,    2],\n",
      "        ...,\n",
      "        [   1,  983,  984,  ..., 1001, 1002,    2],\n",
      "        [   1,  984,  985,  ..., 1002, 1003,    2],\n",
      "        [   1,  985,  986,  ..., 1003, 1004,    2]])\n"
     ]
    }
   ],
   "source": [
    "print(dataset.dataset)"
   ]
  },
  {
   "cell_type": "code",
   "execution_count": 32,
   "metadata": {},
   "outputs": [
    {
     "name": "stdout",
     "output_type": "stream",
     "text": [
      "torch.Size([300, 100])\n",
      "torch.Size([300, 100])\n",
      "torch.Size([300, 100])\n",
      "torch.Size([300, 100])\n",
      "torch.Size([300, 100])\n",
      "torch.Size([300, 100])\n",
      "torch.Size([300, 100])\n",
      "torch.Size([300, 100])\n",
      "torch.Size([300, 100])\n",
      "torch.Size([300, 100])\n",
      "torch.Size([300, 100])\n",
      "torch.Size([300, 100])\n",
      "torch.Size([300, 100])\n",
      "torch.Size([300, 100])\n",
      "torch.Size([300, 100])\n",
      "torch.Size([300, 100])\n",
      "torch.Size([300, 100])\n",
      "torch.Size([300, 100])\n",
      "torch.Size([300, 100])\n",
      "torch.Size([300, 100])\n",
      "torch.Size([300, 100])\n",
      "torch.Size([300, 100])\n",
      "torch.Size([300, 100])\n",
      "torch.Size([300, 100])\n",
      "torch.Size([300, 100])\n",
      "torch.Size([300, 100])\n",
      "torch.Size([300, 100])\n",
      "torch.Size([300, 100])\n",
      "torch.Size([300, 100])\n",
      "torch.Size([300, 100])\n",
      "torch.Size([300, 100])\n"
     ]
    },
    {
     "ename": "IndexError",
     "evalue": "index 30 is out of bounds for dimension 0 with size 30",
     "output_type": "error",
     "traceback": [
      "\u001b[0;31m---------------------------------------------------------------------------\u001b[0m",
      "\u001b[0;31mIndexError\u001b[0m                                Traceback (most recent call last)",
      "Cell \u001b[0;32mIn[32], line 1\u001b[0m\n\u001b[0;32m----> 1\u001b[0m \u001b[38;5;28mprint\u001b[39m(\u001b[43mdataset\u001b[49m\u001b[43m[\u001b[49m\u001b[38;5;241;43m0\u001b[39;49m\u001b[43m]\u001b[49m)\n",
      "File \u001b[0;32m/workspace/Haea_dev/models/HAEA/datasets/denoised_dataset.py:216\u001b[0m, in \u001b[0;36mDenoisingDataset.__getitem__\u001b[0;34m(self, index)\u001b[0m\n\u001b[1;32m    213\u001b[0m \u001b[38;5;28;01massert\u001b[39;00m source[\u001b[38;5;241m0\u001b[39m] \u001b[38;5;241m==\u001b[39m \u001b[38;5;28mself\u001b[39m\u001b[38;5;241m.\u001b[39mvocab\u001b[38;5;241m.\u001b[39mSPECIAL_TOKEN_BOS\n\u001b[1;32m    214\u001b[0m \u001b[38;5;28;01massert\u001b[39;00m source[\u001b[38;5;241m-\u001b[39m\u001b[38;5;241m1\u001b[39m] \u001b[38;5;241m==\u001b[39m \u001b[38;5;28mself\u001b[39m\u001b[38;5;241m.\u001b[39mvocab\u001b[38;5;241m.\u001b[39mSPECIAL_TOKEN_EOS\n\u001b[0;32m--> 216\u001b[0m source_dataset \u001b[38;5;241m=\u001b[39m \u001b[38;5;28;43mself\u001b[39;49m\u001b[38;5;241;43m.\u001b[39;49m\u001b[43mvocab\u001b[49m\u001b[38;5;241;43m.\u001b[39;49m\u001b[43mget\u001b[49m\u001b[43m(\u001b[49m\u001b[43msource\u001b[49m\u001b[43m)\u001b[49m\n\u001b[1;32m    217\u001b[0m target_dataset \u001b[38;5;241m=\u001b[39m \u001b[38;5;28mself\u001b[39m\u001b[38;5;241m.\u001b[39mvocab\u001b[38;5;241m.\u001b[39mget(target)\n\u001b[1;32m    219\u001b[0m \u001b[38;5;28;01mreturn\u001b[39;00m {\n\u001b[1;32m    220\u001b[0m     \u001b[38;5;124m\"\u001b[39m\u001b[38;5;124mid\u001b[39m\u001b[38;5;124m\"\u001b[39m: index,\n\u001b[1;32m    221\u001b[0m     \u001b[38;5;124m\"\u001b[39m\u001b[38;5;124msource\u001b[39m\u001b[38;5;124m\"\u001b[39m: source,\n\u001b[0;32m   (...)\u001b[0m\n\u001b[1;32m    224\u001b[0m     \u001b[38;5;124m\"\u001b[39m\u001b[38;5;124mtarget_dataset\u001b[39m\u001b[38;5;124m\"\u001b[39m: target_dataset\n\u001b[1;32m    225\u001b[0m }\n",
      "File \u001b[0;32m/workspace/Haea_dev/models/HAEA/datasets/denoised_dataset.py:70\u001b[0m, in \u001b[0;36mHaeaVocab.get\u001b[0;34m(self, times)\u001b[0m\n\u001b[1;32m     69\u001b[0m \u001b[38;5;28;01mdef\u001b[39;00m \u001b[38;5;21mget\u001b[39m(\u001b[38;5;28mself\u001b[39m, times: torch\u001b[38;5;241m.\u001b[39mTensor):\n\u001b[0;32m---> 70\u001b[0m     src \u001b[38;5;241m=\u001b[39m \u001b[38;5;28;43mself\u001b[39;49m\u001b[38;5;241;43m.\u001b[39;49m\u001b[43mget_data\u001b[49m\u001b[43m(\u001b[49m\u001b[43mtimes\u001b[49m\u001b[43m,\u001b[49m\u001b[43m \u001b[49m\u001b[38;5;28;43mself\u001b[39;49m\u001b[38;5;241;43m.\u001b[39;49m\u001b[43msource_dataset\u001b[49m\u001b[43m)\u001b[49m\n\u001b[1;32m     71\u001b[0m     tgt \u001b[38;5;241m=\u001b[39m \u001b[38;5;28mself\u001b[39m\u001b[38;5;241m.\u001b[39mget_data(times, \u001b[38;5;28mself\u001b[39m\u001b[38;5;241m.\u001b[39mlabel_dataset, source\u001b[38;5;241m=\u001b[39m\u001b[38;5;28;01mFalse\u001b[39;00m)\n\u001b[1;32m     72\u001b[0m     \u001b[38;5;28;01mreturn\u001b[39;00m src, tgt\n",
      "File \u001b[0;32m/workspace/Haea_dev/models/HAEA/datasets/denoised_dataset.py:62\u001b[0m, in \u001b[0;36mHaeaVocab.get_data\u001b[0;34m(self, indicate, dataset, source)\u001b[0m\n\u001b[1;32m     59\u001b[0m             data \u001b[38;5;241m=\u001b[39m dataset[pos, :, :]\n\u001b[1;32m     61\u001b[0m     \u001b[38;5;28mprint\u001b[39m(data\u001b[38;5;241m.\u001b[39mshape)\n\u001b[0;32m---> 62\u001b[0m     data \u001b[38;5;241m=\u001b[39m data \u001b[38;5;241m+\u001b[39m \u001b[38;5;28;43mself\u001b[39;49m\u001b[38;5;241;43m.\u001b[39;49m\u001b[43mpe\u001b[49m\u001b[43m[\u001b[49m\u001b[43mi\u001b[49m\u001b[43m]\u001b[49m\u001b[38;5;241m.\u001b[39munsqueeze(dim\u001b[38;5;241m=\u001b[39m\u001b[38;5;241m0\u001b[39m)\u001b[38;5;241m.\u001b[39mrepeat_interleave(data\u001b[38;5;241m.\u001b[39msize(\u001b[38;5;241m0\u001b[39m), dim\u001b[38;5;241m=\u001b[39m\u001b[38;5;241m0\u001b[39m)\n\u001b[1;32m     63\u001b[0m     result\u001b[38;5;241m.\u001b[39mappend(data)\n\u001b[1;32m     65\u001b[0m result \u001b[38;5;241m=\u001b[39m torch\u001b[38;5;241m.\u001b[39mcat(result, dim\u001b[38;5;241m=\u001b[39m\u001b[38;5;241m0\u001b[39m)\n",
      "\u001b[0;31mIndexError\u001b[0m: index 30 is out of bounds for dimension 0 with size 30"
     ]
    }
   ],
   "source": [
    "print(dataset[0])"
   ]
  },
  {
   "cell_type": "code",
   "execution_count": 20,
   "metadata": {},
   "outputs": [
    {
     "name": "stdout",
     "output_type": "stream",
     "text": [
      "torch.Size([5, 10])\n"
     ]
    }
   ],
   "source": [
    "data = torch.zeros(10, 10)\n",
    "print(data[0].unsqueeze(0).repeat_interleave(5, dim=0).shape)"
   ]
  }
 ],
 "metadata": {
  "kernelspec": {
   "display_name": "venv",
   "language": "python",
   "name": "python3"
  },
  "language_info": {
   "codemirror_mode": {
    "name": "ipython",
    "version": 3
   },
   "file_extension": ".py",
   "mimetype": "text/x-python",
   "name": "python",
   "nbconvert_exporter": "python",
   "pygments_lexer": "ipython3",
   "version": "3.10.13"
  }
 },
 "nbformat": 4,
 "nbformat_minor": 2
}
