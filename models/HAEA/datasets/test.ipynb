{
 "cells": [
  {
   "cell_type": "code",
   "execution_count": 59,
   "metadata": {},
   "outputs": [
    {
     "name": "stdout",
     "output_type": "stream",
     "text": [
      "1004\n"
     ]
    }
   ],
   "source": [
    "%load_ext autoreload\n",
    "%autoreload 2\n",
    "\n",
    "from denoised_dataset import TimeVocab, DenoisingDataset\n",
    "import torch\n",
    "\n",
    "vocab = TimeVocab(torch.zeros(1000, 250, 100), torch.tensor([1, 2, 3]), torch.tensor([1, 2, 3]), 64, 20)\n",
    "\n",
    "print(len(vocab))\n",
    "\n",
    "dataset = DenoisingDataset(\n",
    "    vocab,\n",
    "    127,\n",
    "    mask=0.3,\n",
    "    mask_random=0.3,\n",
    "    insert=0,\n",
    "    rotate=0,\n",
    "    permute_sentences=0,\n",
    "    replace_length=-1,\n",
    "    mask_length='span-poisson',\n",
    "    poisson_lambda=3\n",
    ")"
   ]
  },
  {
   "cell_type": "code",
   "execution_count": 60,
   "metadata": {},
   "outputs": [
    {
     "name": "stdout",
     "output_type": "stream",
     "text": [
      "tensor([ 1,  4,  5,  6,  7,  8,  9, 10, 11, 12, 13, 14, 15, 16, 17, 18, 19, 20,\n",
      "        21, 22, 23,  2])\n"
     ]
    }
   ],
   "source": [
    "print(dataset.dataset[0])"
   ]
  },
  {
   "cell_type": "code",
   "execution_count": 61,
   "metadata": {},
   "outputs": [
    {
     "ename": "RuntimeError",
     "evalue": "The size of tensor a (100) must match the size of tensor b (400) at non-singleton dimension 1",
     "output_type": "error",
     "traceback": [
      "\u001b[0;31m---------------------------------------------------------------------------\u001b[0m",
      "\u001b[0;31mRuntimeError\u001b[0m                              Traceback (most recent call last)",
      "Cell \u001b[0;32mIn[61], line 1\u001b[0m\n\u001b[0;32m----> 1\u001b[0m data \u001b[38;5;241m=\u001b[39m \u001b[43mdataset\u001b[49m\u001b[43m[\u001b[49m\u001b[38;5;241;43m0\u001b[39;49m\u001b[43m]\u001b[49m\n\u001b[1;32m      2\u001b[0m \u001b[38;5;28mprint\u001b[39m(data[\u001b[38;5;124m'\u001b[39m\u001b[38;5;124msource\u001b[39m\u001b[38;5;124m'\u001b[39m]\u001b[38;5;241m.\u001b[39mshape)\n",
      "File \u001b[0;32m/workspace/Haea_dev/models/HAEA/datasets/denoised_dataset.py:255\u001b[0m, in \u001b[0;36mDenoisingDataset.__getitem__\u001b[0;34m(self, index)\u001b[0m\n\u001b[1;32m    252\u001b[0m \u001b[38;5;28;01massert\u001b[39;00m source[\u001b[38;5;241m0\u001b[39m] \u001b[38;5;241m==\u001b[39m \u001b[38;5;28mself\u001b[39m\u001b[38;5;241m.\u001b[39mvocab\u001b[38;5;241m.\u001b[39mSPECIAL_TOKEN_BOS\n\u001b[1;32m    253\u001b[0m \u001b[38;5;28;01massert\u001b[39;00m source[\u001b[38;5;241m-\u001b[39m\u001b[38;5;241m1\u001b[39m] \u001b[38;5;241m==\u001b[39m \u001b[38;5;28mself\u001b[39m\u001b[38;5;241m.\u001b[39mvocab\u001b[38;5;241m.\u001b[39mSPECIAL_TOKEN_EOS\n\u001b[0;32m--> 255\u001b[0m source_dataset \u001b[38;5;241m=\u001b[39m \u001b[38;5;28;43mself\u001b[39;49m\u001b[38;5;241;43m.\u001b[39;49m\u001b[43mvocab\u001b[49m\u001b[38;5;241;43m.\u001b[39;49m\u001b[43mget_source\u001b[49m\u001b[43m(\u001b[49m\u001b[43msource\u001b[49m\u001b[43m)\u001b[49m\n\u001b[1;32m    256\u001b[0m target_dataset \u001b[38;5;241m=\u001b[39m \u001b[38;5;28mself\u001b[39m\u001b[38;5;241m.\u001b[39mvocab\u001b[38;5;241m.\u001b[39mget_target(target)\n\u001b[1;32m    258\u001b[0m \u001b[38;5;28;01mreturn\u001b[39;00m {\n\u001b[1;32m    259\u001b[0m     \u001b[38;5;124m\"\u001b[39m\u001b[38;5;124msource\u001b[39m\u001b[38;5;124m\"\u001b[39m: source_dataset,\n\u001b[1;32m    260\u001b[0m     \u001b[38;5;124m\"\u001b[39m\u001b[38;5;124msource_id\u001b[39m\u001b[38;5;124m\"\u001b[39m: source,\n\u001b[1;32m    261\u001b[0m     \u001b[38;5;124m\"\u001b[39m\u001b[38;5;124mtarget\u001b[39m\u001b[38;5;124m\"\u001b[39m: target_dataset,\n\u001b[1;32m    262\u001b[0m     \u001b[38;5;124m\"\u001b[39m\u001b[38;5;124mtarget_id\u001b[39m\u001b[38;5;124m\"\u001b[39m: target\n\u001b[1;32m    263\u001b[0m }\n",
      "File \u001b[0;32m/workspace/Haea_dev/models/HAEA/datasets/denoised_dataset.py:89\u001b[0m, in \u001b[0;36mTimeVocab.get_source\u001b[0;34m(self, times)\u001b[0m\n\u001b[1;32m     88\u001b[0m \u001b[38;5;28;01mdef\u001b[39;00m \u001b[38;5;21mget_source\u001b[39m(\u001b[38;5;28mself\u001b[39m, times: torch\u001b[38;5;241m.\u001b[39mTensor):\n\u001b[0;32m---> 89\u001b[0m     src \u001b[38;5;241m=\u001b[39m \u001b[38;5;28;43mself\u001b[39;49m\u001b[38;5;241;43m.\u001b[39;49m\u001b[43mget_data\u001b[49m\u001b[43m(\u001b[49m\u001b[43mtimes\u001b[49m\u001b[43m)\u001b[49m\n\u001b[1;32m     90\u001b[0m     \u001b[38;5;28;01mreturn\u001b[39;00m src\n",
      "File \u001b[0;32m/workspace/Haea_dev/models/HAEA/datasets/denoised_dataset.py:81\u001b[0m, in \u001b[0;36mTimeVocab.get_data\u001b[0;34m(self, indicate, source)\u001b[0m\n\u001b[1;32m     78\u001b[0m \u001b[38;5;28;01melse\u001b[39;00m:\n\u001b[1;32m     79\u001b[0m     padding \u001b[38;5;241m=\u001b[39m torch\u001b[38;5;241m.\u001b[39mzeros(\u001b[38;5;28mself\u001b[39m\u001b[38;5;241m.\u001b[39mtgt_pad, \u001b[38;5;28mself\u001b[39m\u001b[38;5;241m.\u001b[39mdataset\u001b[38;5;241m.\u001b[39msize(\u001b[38;5;241m2\u001b[39m))\n\u001b[0;32m---> 81\u001b[0m padding \u001b[38;5;241m=\u001b[39m \u001b[43mpadding\u001b[49m\u001b[43m \u001b[49m\u001b[38;5;241;43m+\u001b[39;49m\u001b[43m \u001b[49m\u001b[38;5;28;43mself\u001b[39;49m\u001b[38;5;241;43m.\u001b[39;49m\u001b[43mpe\u001b[49m\u001b[43m[\u001b[49m\u001b[38;5;28;43mlen\u001b[39;49m\u001b[43m(\u001b[49m\u001b[43mindicate\u001b[49m\u001b[43m)\u001b[49m\u001b[43m]\u001b[49m\u001b[38;5;241;43m.\u001b[39;49m\u001b[43mrepeat_interleave\u001b[49m\u001b[43m(\u001b[49m\u001b[43mpadding\u001b[49m\u001b[38;5;241;43m.\u001b[39;49m\u001b[43msize\u001b[49m\u001b[43m(\u001b[49m\u001b[38;5;241;43m0\u001b[39;49m\u001b[43m)\u001b[49m\u001b[43m,\u001b[49m\u001b[43m \u001b[49m\u001b[43mdim\u001b[49m\u001b[38;5;241;43m=\u001b[39;49m\u001b[38;5;241;43m0\u001b[39;49m\u001b[43m)\u001b[49m\n\u001b[1;32m     83\u001b[0m result \u001b[38;5;241m=\u001b[39m torch\u001b[38;5;241m.\u001b[39mcat(result, dim\u001b[38;5;241m=\u001b[39m\u001b[38;5;241m0\u001b[39m)\n\u001b[1;32m     84\u001b[0m result \u001b[38;5;241m=\u001b[39m torch\u001b[38;5;241m.\u001b[39mcat([result, padding], dim\u001b[38;5;241m=\u001b[39m\u001b[38;5;241m0\u001b[39m)\n",
      "\u001b[0;31mRuntimeError\u001b[0m: The size of tensor a (100) must match the size of tensor b (400) at non-singleton dimension 1"
     ]
    }
   ],
   "source": [
    "data = dataset[0]\n",
    "print(data['source'].shape)\n"
   ]
  },
  {
   "cell_type": "code",
   "execution_count": 32,
   "metadata": {},
   "outputs": [
    {
     "name": "stdout",
     "output_type": "stream",
     "text": [
      "tensor([[1, 5, 6, 7, 5, 6, 7, 5, 6, 7, 3, 3, 3, 3, 3, 3, 5, 6, 7, 5, 6, 7, 2],\n",
      "        [1, 5, 6, 7, 5, 6, 7, 5, 6, 7, 3, 3, 3, 3, 3, 3, 5, 6, 7, 5, 6, 7, 2]])\n"
     ]
    }
   ],
   "source": [
    "def get_var_seq(var_seq: torch.Tensor, indicate: torch.Tensor):\n",
    "        # indicate.shape = (batch, max_len + 2)\n",
    "        result = []\n",
    "        var_seq = var_seq + len(HaeaVocab.SPECIAL_TOKENS)\n",
    "\n",
    "        for batch in indicate:\n",
    "            seq = []\n",
    "            for item in batch:\n",
    "                if item in HaeaVocab.SPECIAL_TOKENS:\n",
    "                    if item == HaeaVocab.SPECIAL_TOKEN_MASK:\n",
    "                        seq.extend([item for _ in range(len(var_seq))])\n",
    "                    else:\n",
    "                        seq.append(item)\n",
    "                else:\n",
    "                    seq.extend(var_seq)\n",
    "                \n",
    "            result.append(seq)\n",
    "\n",
    "        result = torch.tensor(result)\n",
    "        return result\n",
    "\n",
    "\n",
    "print(get_var_seq(torch.tensor([1, 2, 3]), torch.tensor([[1, 4, 5, 6, 3, 3, 9, 10, 2], [1, 4, 5, 6, 3, 3, 9, 10, 2]])))"
   ]
  },
  {
   "cell_type": "code",
   "execution_count": 20,
   "metadata": {},
   "outputs": [
    {
     "name": "stdout",
     "output_type": "stream",
     "text": [
      "torch.Size([5, 10])\n"
     ]
    }
   ],
   "source": [
    "data = torch.zeros(10, 10)\n",
    "print(data[0].unsqueeze(0).repeat_interleave(5, dim=0).shape)"
   ]
  },
  {
   "cell_type": "code",
   "execution_count": 57,
   "metadata": {},
   "outputs": [],
   "source": [
    "import torch\n",
    "def get_mask(var_len, max_len, pad_len):\n",
    "        matrix = torch.zeros(((max_len-2)*var_len)+2+pad_len, dtype=torch.bool)\n",
    "        matrix[:(max_len-2)*var_len + 2] = True\n",
    "        return matrix"
   ]
  },
  {
   "cell_type": "code",
   "execution_count": 58,
   "metadata": {},
   "outputs": [
    {
     "name": "stdout",
     "output_type": "stream",
     "text": [
      "tensor([ True,  True,  True,  True,  True,  True,  True,  True, False, False,\n",
      "        False])\n"
     ]
    }
   ],
   "source": [
    "print(get_mask(2, 5, 3))"
   ]
  }
 ],
 "metadata": {
  "kernelspec": {
   "display_name": "venv",
   "language": "python",
   "name": "python3"
  },
  "language_info": {
   "codemirror_mode": {
    "name": "ipython",
    "version": 3
   },
   "file_extension": ".py",
   "mimetype": "text/x-python",
   "name": "python",
   "nbconvert_exporter": "python",
   "pygments_lexer": "ipython3",
   "version": "3.10.13"
  }
 },
 "nbformat": 4,
 "nbformat_minor": 2
}
