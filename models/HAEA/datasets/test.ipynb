{
 "cells": [
  {
   "cell_type": "code",
   "execution_count": 1,
   "metadata": {},
   "outputs": [
    {
     "name": "stderr",
     "output_type": "stream",
     "text": [
      "Exception ignored in: <bound method IPythonKernel._clean_thread_parent_frames of <ipykernel.ipkernel.IPythonKernel object at 0x7fe5475cec80>>\n",
      "Traceback (most recent call last):\n",
      "  File \"/workspace/venv/lib/python3.10/site-packages/ipykernel/ipkernel.py\", line 770, in _clean_thread_parent_frames\n",
      "    def _clean_thread_parent_frames(\n",
      "KeyboardInterrupt: \n"
     ]
    },
    {
     "ename": "TypeError",
     "evalue": "HaeaVocab.__init__() missing 2 required positional arguments: 'target_dataset' and 'tgt_var_list'",
     "output_type": "error",
     "traceback": [
      "\u001b[0;31m---------------------------------------------------------------------------\u001b[0m",
      "\u001b[0;31mTypeError\u001b[0m                                 Traceback (most recent call last)",
      "Cell \u001b[0;32mIn[1], line 7\u001b[0m\n\u001b[1;32m      4\u001b[0m \u001b[38;5;28;01mfrom\u001b[39;00m \u001b[38;5;21;01mdenoised_dataset\u001b[39;00m \u001b[38;5;28;01mimport\u001b[39;00m HaeaVocab, DenoisingDataset\n\u001b[1;32m      5\u001b[0m \u001b[38;5;28;01mimport\u001b[39;00m \u001b[38;5;21;01mtorch\u001b[39;00m\n\u001b[0;32m----> 7\u001b[0m vocab \u001b[38;5;241m=\u001b[39m \u001b[43mHaeaVocab\u001b[49m\u001b[43m(\u001b[49m\u001b[43mtorch\u001b[49m\u001b[38;5;241;43m.\u001b[39;49m\u001b[43mzeros\u001b[49m\u001b[43m(\u001b[49m\u001b[38;5;241;43m1000\u001b[39;49m\u001b[43m,\u001b[49m\u001b[43m \u001b[49m\u001b[38;5;241;43m250\u001b[39;49m\u001b[43m,\u001b[49m\u001b[43m \u001b[49m\u001b[38;5;241;43m100\u001b[39;49m\u001b[43m)\u001b[49m\u001b[43m,\u001b[49m\u001b[43m \u001b[49m\u001b[43mtorch\u001b[49m\u001b[38;5;241;43m.\u001b[39;49m\u001b[43mzeros\u001b[49m\u001b[43m(\u001b[49m\u001b[38;5;241;43m1000\u001b[39;49m\u001b[43m,\u001b[49m\u001b[43m \u001b[49m\u001b[38;5;241;43m250\u001b[39;49m\u001b[43m,\u001b[49m\u001b[43m \u001b[49m\u001b[38;5;241;43m100\u001b[39;49m\u001b[43m)\u001b[49m\u001b[43m,\u001b[49m\u001b[43m \u001b[49m\u001b[43mmax_len\u001b[49m\u001b[38;5;241;43m=\u001b[39;49m\u001b[38;5;241;43m72\u001b[39;49m\u001b[43m)\u001b[49m\n\u001b[1;32m      9\u001b[0m \u001b[38;5;28mprint\u001b[39m(\u001b[38;5;28mlen\u001b[39m(vocab))\n\u001b[1;32m     11\u001b[0m dataset \u001b[38;5;241m=\u001b[39m DenoisingDataset(\n\u001b[1;32m     12\u001b[0m     vocab,\n\u001b[1;32m     13\u001b[0m     \u001b[38;5;241m127\u001b[39m,\n\u001b[0;32m   (...)\u001b[0m\n\u001b[1;32m     21\u001b[0m     poisson_lambda\u001b[38;5;241m=\u001b[39m\u001b[38;5;241m3\u001b[39m\n\u001b[1;32m     22\u001b[0m )\n",
      "\u001b[0;31mTypeError\u001b[0m: HaeaVocab.__init__() missing 2 required positional arguments: 'target_dataset' and 'tgt_var_list'"
     ]
    }
   ],
   "source": [
    "%load_ext autoreload\n",
    "%autoreload 2\n",
    "\n",
    "from denoised_dataset import HaeaVocab, DenoisingDataset\n",
    "import torch\n",
    "\n",
    "vocab = HaeaVocab(torch.zeros(1000, 250, 100), [], max_len=72)\n",
    "\n",
    "print(len(vocab))\n",
    "\n",
    "dataset = DenoisingDataset(\n",
    "    vocab,\n",
    "    127,\n",
    "    mask=0.3,\n",
    "    mask_random=0,\n",
    "    insert=0,\n",
    "    rotate=0,\n",
    "    permute_sentences=0,\n",
    "    replace_length=-1,\n",
    "    mask_length='span-poisson',\n",
    "    poisson_lambda=3\n",
    ")"
   ]
  },
  {
   "cell_type": "code",
   "execution_count": 3,
   "metadata": {},
   "outputs": [
    {
     "name": "stdout",
     "output_type": "stream",
     "text": [
      "tensor([ 1,  4,  5,  6,  7,  8,  9, 10, 11, 12, 13, 14, 15, 16, 17, 18, 19, 20,\n",
      "        21, 22, 23, 24, 25, 26, 27, 28, 29, 30, 31, 32, 33, 34, 35, 36, 37, 38,\n",
      "        39, 40, 41, 42, 43, 44, 45, 46, 47, 48, 49, 50, 51, 52, 53, 54, 55, 56,\n",
      "        57, 58, 59, 60, 61, 62, 63, 64, 65, 66, 67, 68, 69, 70, 71, 72, 73, 74,\n",
      "        75,  2])\n"
     ]
    }
   ],
   "source": [
    "print(dataset.dataset[0])"
   ]
  },
  {
   "cell_type": "code",
   "execution_count": 7,
   "metadata": {},
   "outputs": [
    {
     "name": "stdout",
     "output_type": "stream",
     "text": [
      "tensor([ 1,  4,  5,  6,  7,  8,  9, 10, 11, 12, 13, 14, 15, 16,  3,  3,  3,  3,\n",
      "         3,  3, 23, 24, 25, 26, 27,  3,  3,  3,  3, 32, 33, 34, 35, 36, 37,  3,\n",
      "         3, 40, 41, 42, 43, 44, 45, 46, 47, 48, 49, 50, 51, 52, 53, 54, 55, 56,\n",
      "        57, 58, 59, 60, 61,  3,  3,  3,  3,  3, 67,  3,  3,  3, 71, 72, 73, 74,\n",
      "        75,  2])\n"
     ]
    }
   ],
   "source": [
    "data = dataset[0]\n",
    "print(data['source'])\n"
   ]
  },
  {
   "cell_type": "code",
   "execution_count": 32,
   "metadata": {},
   "outputs": [
    {
     "name": "stdout",
     "output_type": "stream",
     "text": [
      "tensor([[1, 5, 6, 7, 5, 6, 7, 5, 6, 7, 3, 3, 3, 3, 3, 3, 5, 6, 7, 5, 6, 7, 2],\n",
      "        [1, 5, 6, 7, 5, 6, 7, 5, 6, 7, 3, 3, 3, 3, 3, 3, 5, 6, 7, 5, 6, 7, 2]])\n"
     ]
    }
   ],
   "source": [
    "def get_var_seq(var_seq: torch.Tensor, indicate: torch.Tensor):\n",
    "        # indicate.shape = (batch, max_len + 2)\n",
    "        result = []\n",
    "        var_seq = var_seq + len(HaeaVocab.SPECIAL_TOKENS)\n",
    "\n",
    "        for batch in indicate:\n",
    "            seq = []\n",
    "            for item in batch:\n",
    "                if item in HaeaVocab.SPECIAL_TOKENS:\n",
    "                    if item == HaeaVocab.SPECIAL_TOKEN_MASK:\n",
    "                        seq.extend([item for _ in range(len(var_seq))])\n",
    "                    else:\n",
    "                        seq.append(item)\n",
    "                else:\n",
    "                    seq.extend(var_seq)\n",
    "                \n",
    "            result.append(seq)\n",
    "\n",
    "        result = torch.tensor(result)\n",
    "        return result\n",
    "\n",
    "\n",
    "print(get_var_seq(torch.tensor([1, 2, 3]), torch.tensor([[1, 4, 5, 6, 3, 3, 9, 10, 2], [1, 4, 5, 6, 3, 3, 9, 10, 2]])))"
   ]
  },
  {
   "cell_type": "code",
   "execution_count": 20,
   "metadata": {},
   "outputs": [
    {
     "name": "stdout",
     "output_type": "stream",
     "text": [
      "torch.Size([5, 10])\n"
     ]
    }
   ],
   "source": [
    "data = torch.zeros(10, 10)\n",
    "print(data[0].unsqueeze(0).repeat_interleave(5, dim=0).shape)"
   ]
  },
  {
   "cell_type": "code",
   "execution_count": 25,
   "metadata": {},
   "outputs": [],
   "source": [
    "def get_tgt_mask(batch, var_len, max_len) -> torch.tensor:\n",
    "        matrix = torch.zeros(batch, var_len * max_len + 2, var_len * max_len + 2)\n",
    "        matrix[:, :, 0] = 1\n",
    "\n",
    "        for i in range(max_len+1):\n",
    "            s =  (i * var_len) + 1\n",
    "            e =  ((i+1) * var_len) + 1\n",
    "            matrix[:, s:e, :e] = 1\n",
    "        \n",
    "        matrix[:, -1, :] = 1\n",
    "        return matrix"
   ]
  },
  {
   "cell_type": "code",
   "execution_count": 28,
   "metadata": {},
   "outputs": [
    {
     "name": "stdout",
     "output_type": "stream",
     "text": [
      "tensor([[[1., 0., 0., 0., 0., 0., 0., 0., 0., 0.],\n",
      "         [1., 1., 1., 0., 0., 0., 0., 0., 0., 0.],\n",
      "         [1., 1., 1., 0., 0., 0., 0., 0., 0., 0.],\n",
      "         [1., 1., 1., 1., 1., 0., 0., 0., 0., 0.],\n",
      "         [1., 1., 1., 1., 1., 0., 0., 0., 0., 0.],\n",
      "         [1., 1., 1., 1., 1., 1., 1., 0., 0., 0.],\n",
      "         [1., 1., 1., 1., 1., 1., 1., 0., 0., 0.],\n",
      "         [1., 1., 1., 1., 1., 1., 1., 1., 1., 0.],\n",
      "         [1., 1., 1., 1., 1., 1., 1., 1., 1., 0.],\n",
      "         [1., 1., 1., 1., 1., 1., 1., 1., 1., 1.]],\n",
      "\n",
      "        [[1., 0., 0., 0., 0., 0., 0., 0., 0., 0.],\n",
      "         [1., 1., 1., 0., 0., 0., 0., 0., 0., 0.],\n",
      "         [1., 1., 1., 0., 0., 0., 0., 0., 0., 0.],\n",
      "         [1., 1., 1., 1., 1., 0., 0., 0., 0., 0.],\n",
      "         [1., 1., 1., 1., 1., 0., 0., 0., 0., 0.],\n",
      "         [1., 1., 1., 1., 1., 1., 1., 0., 0., 0.],\n",
      "         [1., 1., 1., 1., 1., 1., 1., 0., 0., 0.],\n",
      "         [1., 1., 1., 1., 1., 1., 1., 1., 1., 0.],\n",
      "         [1., 1., 1., 1., 1., 1., 1., 1., 1., 0.],\n",
      "         [1., 1., 1., 1., 1., 1., 1., 1., 1., 1.]],\n",
      "\n",
      "        [[1., 0., 0., 0., 0., 0., 0., 0., 0., 0.],\n",
      "         [1., 1., 1., 0., 0., 0., 0., 0., 0., 0.],\n",
      "         [1., 1., 1., 0., 0., 0., 0., 0., 0., 0.],\n",
      "         [1., 1., 1., 1., 1., 0., 0., 0., 0., 0.],\n",
      "         [1., 1., 1., 1., 1., 0., 0., 0., 0., 0.],\n",
      "         [1., 1., 1., 1., 1., 1., 1., 0., 0., 0.],\n",
      "         [1., 1., 1., 1., 1., 1., 1., 0., 0., 0.],\n",
      "         [1., 1., 1., 1., 1., 1., 1., 1., 1., 0.],\n",
      "         [1., 1., 1., 1., 1., 1., 1., 1., 1., 0.],\n",
      "         [1., 1., 1., 1., 1., 1., 1., 1., 1., 1.]]])\n"
     ]
    }
   ],
   "source": [
    "print(get_tgt_mask(3, 2, 4))"
   ]
  }
 ],
 "metadata": {
  "kernelspec": {
   "display_name": "venv",
   "language": "python",
   "name": "python3"
  },
  "language_info": {
   "codemirror_mode": {
    "name": "ipython",
    "version": 3
   },
   "file_extension": ".py",
   "mimetype": "text/x-python",
   "name": "python",
   "nbconvert_exporter": "python",
   "pygments_lexer": "ipython3",
   "version": "3.10.13"
  }
 },
 "nbformat": 4,
 "nbformat_minor": 2
}
