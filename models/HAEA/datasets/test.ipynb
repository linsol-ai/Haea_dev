{
 "cells": [
  {
   "cell_type": "code",
   "execution_count": 2,
   "metadata": {},
   "outputs": [
    {
     "name": "stdout",
     "output_type": "stream",
     "text": [
      "1004\n"
     ]
    }
   ],
   "source": [
    "%load_ext autoreload\n",
    "%autoreload 2\n",
    "\n",
    "from denoised_dataset import HaeaVocab, DenoisingDataset\n",
    "import torch\n",
    "\n",
    "vocab = HaeaVocab(torch.zeros(1000, 250, 100), torch.zeros(1000, 250, 100), max_len=72)\n",
    "\n",
    "print(len(vocab))\n",
    "\n",
    "dataset = DenoisingDataset(\n",
    "    vocab,\n",
    "    127,\n",
    "    mask=0.3,\n",
    "    mask_random=0,\n",
    "    insert=0,\n",
    "    rotate=0,\n",
    "    permute_sentences=0,\n",
    "    replace_length=-1,\n",
    "    mask_length='span-poisson',\n",
    "    poisson_lambda=3\n",
    ")"
   ]
  },
  {
   "cell_type": "code",
   "execution_count": 3,
   "metadata": {},
   "outputs": [
    {
     "name": "stdout",
     "output_type": "stream",
     "text": [
      "tensor([ 1,  4,  5,  6,  7,  8,  9, 10, 11, 12, 13, 14, 15, 16, 17, 18, 19, 20,\n",
      "        21, 22, 23, 24, 25, 26, 27, 28, 29, 30, 31, 32, 33, 34, 35, 36, 37, 38,\n",
      "        39, 40, 41, 42, 43, 44, 45, 46, 47, 48, 49, 50, 51, 52, 53, 54, 55, 56,\n",
      "        57, 58, 59, 60, 61, 62, 63, 64, 65, 66, 67, 68, 69, 70, 71, 72, 73, 74,\n",
      "        75,  2])\n"
     ]
    }
   ],
   "source": [
    "print(dataset.dataset[0])"
   ]
  },
  {
   "cell_type": "code",
   "execution_count": 7,
   "metadata": {},
   "outputs": [
    {
     "name": "stdout",
     "output_type": "stream",
     "text": [
      "tensor([ 1,  4,  5,  6,  7,  8,  9, 10, 11, 12, 13, 14, 15, 16,  3,  3,  3,  3,\n",
      "         3,  3, 23, 24, 25, 26, 27,  3,  3,  3,  3, 32, 33, 34, 35, 36, 37,  3,\n",
      "         3, 40, 41, 42, 43, 44, 45, 46, 47, 48, 49, 50, 51, 52, 53, 54, 55, 56,\n",
      "        57, 58, 59, 60, 61,  3,  3,  3,  3,  3, 67,  3,  3,  3, 71, 72, 73, 74,\n",
      "        75,  2])\n"
     ]
    }
   ],
   "source": [
    "data = dataset[0]\n",
    "print(data['source'])\n"
   ]
  },
  {
   "cell_type": "code",
   "execution_count": 20,
   "metadata": {},
   "outputs": [
    {
     "name": "stdout",
     "output_type": "stream",
     "text": [
      "torch.Size([5, 10])\n"
     ]
    }
   ],
   "source": [
    "data = torch.zeros(10, 10)\n",
    "print(data[0].unsqueeze(0).repeat_interleave(5, dim=0).shape)"
   ]
  }
 ],
 "metadata": {
  "kernelspec": {
   "display_name": "venv",
   "language": "python",
   "name": "python3"
  },
  "language_info": {
   "codemirror_mode": {
    "name": "ipython",
    "version": 3
   },
   "file_extension": ".py",
   "mimetype": "text/x-python",
   "name": "python",
   "nbconvert_exporter": "python",
   "pygments_lexer": "ipython3",
   "version": "3.10.13"
  }
 },
 "nbformat": 4,
 "nbformat_minor": 2
}
