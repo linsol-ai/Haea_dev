{
 "cells": [
  {
   "cell_type": "code",
   "execution_count": 8,
   "metadata": {},
   "outputs": [
    {
     "name": "stdout",
     "output_type": "stream",
     "text": [
      "tensor([[ True, False, False, False, False, False, False, False],\n",
      "        [ True,  True,  True, False, False, False, False, False],\n",
      "        [ True,  True,  True, False, False, False, False, False],\n",
      "        [ True,  True,  True,  True,  True, False, False, False],\n",
      "        [ True,  True,  True,  True,  True, False, False, False],\n",
      "        [ True,  True,  True,  True,  True,  True,  True, False],\n",
      "        [ True,  True,  True,  True,  True,  True,  True, False],\n",
      "        [ True,  True,  True,  True,  True,  True,  True,  True]])\n"
     ]
    }
   ],
   "source": [
    "import torch\n",
    "\n",
    "def get_mask(max_len, pad_len):\n",
    "        matrix = torch.zeros(max_len, dtype=torch.bool)\n",
    "        matrix[:-pad_len] = True\n",
    "        return matrix\n",
    "\n",
    "print(get_tgt_mask(2, 3))"
   ]
  }
 ],
 "metadata": {
  "kernelspec": {
   "display_name": "venv",
   "language": "python",
   "name": "python3"
  },
  "language_info": {
   "codemirror_mode": {
    "name": "ipython",
    "version": 3
   },
   "file_extension": ".py",
   "mimetype": "text/x-python",
   "name": "python",
   "nbconvert_exporter": "python",
   "pygments_lexer": "ipython3",
   "version": "3.10.13"
  }
 },
 "nbformat": 4,
 "nbformat_minor": 2
}
