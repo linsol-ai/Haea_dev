{
 "cells": [
  {
   "cell_type": "code",
   "execution_count": 1,
   "metadata": {},
   "outputs": [],
   "source": [
    "import torch\n",
    "from reformer_pytorch import Reformer\n",
    "\n",
    "model = Reformer(\n",
    "            dim=1296,\n",
    "            bucket_size=64,\n",
    "            depth=6,\n",
    "            heads=16,\n",
    "            causal=False,\n",
    "            ff_glu=True,\n",
    "            n_hashes = 4,\n",
    "            attn_chunks = 8,\n",
    "            lsh_dropout=0.1\n",
    "        ).cuda()\n",
    "\n",
    "x = torch.randn(2, 32768, 1296).cuda()\n",
    "c = torch.randn(2, 32768, 1296).cuda()\n",
    "y = model(x, keys=c) # (1, 8192, 512)"
   ]
  }
 ],
 "metadata": {
  "kernelspec": {
   "display_name": "venv",
   "language": "python",
   "name": "python3"
  },
  "language_info": {
   "codemirror_mode": {
    "name": "ipython",
    "version": 3
   },
   "file_extension": ".py",
   "mimetype": "text/x-python",
   "name": "python",
   "nbconvert_exporter": "python",
   "pygments_lexer": "ipython3",
   "version": "3.10.13"
  }
 },
 "nbformat": 4,
 "nbformat_minor": 2
}
