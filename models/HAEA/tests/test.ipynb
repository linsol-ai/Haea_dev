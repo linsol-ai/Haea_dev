{
 "cells": [
  {
   "cell_type": "code",
   "execution_count": 8,
   "metadata": {},
   "outputs": [
    {
     "name": "stdout",
     "output_type": "stream",
     "text": [
      "tensor([[ True, False, False, False, False, False, False, False],\n",
      "        [ True,  True,  True, False, False, False, False, False],\n",
      "        [ True,  True,  True, False, False, False, False, False],\n",
      "        [ True,  True,  True,  True,  True, False, False, False],\n",
      "        [ True,  True,  True,  True,  True, False, False, False],\n",
      "        [ True,  True,  True,  True,  True,  True,  True, False],\n",
      "        [ True,  True,  True,  True,  True,  True,  True, False],\n",
      "        [ True,  True,  True,  True,  True,  True,  True,  True]])\n"
     ]
    }
   ],
   "source": [
    "import torch\n",
    "\n",
    "def get_tgt_mask(var_len, time_len) -> torch.Tensor:\n",
    "        size = var_len * time_len + 2\n",
    "        matrix = torch.zeros(size, size, dtype=torch.bool)\n",
    "        matrix[0, 0] = True\n",
    "        for i in range(time_len):\n",
    "            s =  (i * var_len) + 1\n",
    "            e =  ((i+1) * var_len) + 1\n",
    "            matrix[s:e, :e] = True\n",
    "        matrix[var_len*time_len+1, :] = True\n",
    "      \n",
    "        return matrix\n",
    "\n",
    "print(get_tgt_mask(2, 3))"
   ]
  }
 ],
 "metadata": {
  "kernelspec": {
   "display_name": "venv",
   "language": "python",
   "name": "python3"
  },
  "language_info": {
   "codemirror_mode": {
    "name": "ipython",
    "version": 3
   },
   "file_extension": ".py",
   "mimetype": "text/x-python",
   "name": "python",
   "nbconvert_exporter": "python",
   "pygments_lexer": "ipython3",
   "version": "3.10.13"
  }
 },
 "nbformat": 4,
 "nbformat_minor": 2
}
