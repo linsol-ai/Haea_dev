{
 "cells": [
  {
   "cell_type": "code",
   "execution_count": 15,
   "metadata": {},
   "outputs": [
    {
     "name": "stdout",
     "output_type": "stream",
     "text": [
      "tensor([[ 0,  4,  5,  6,  1],\n",
      "        [ 0,  5,  6,  7,  1],\n",
      "        [ 0,  6,  7,  8,  1],\n",
      "        [ 0,  7,  8,  9,  1],\n",
      "        [ 0,  8,  9, 10,  1],\n",
      "        [ 0,  9, 10, 11,  1],\n",
      "        [ 0, 10, 11, 12,  1],\n",
      "        [ 0, 11, 12, 13,  1],\n",
      "        [ 0, 12, 13, 14,  1]])\n"
     ]
    }
   ],
   "source": [
    "import torch\n",
    "\n",
    "def make_dataset(size, length):\n",
    "        dataset = []\n",
    "        \n",
    "        for i in range(4, size-length+1):\n",
    "            start = i\n",
    "            end = i + length\n",
    "            data = [0] + [x for x in range(start, end)] + [1]\n",
    "            dataset.append(data)\n",
    "\n",
    "        return torch.tensor(dataset)\n",
    "\n",
    "print(make_dataset(15, 3))"
   ]
  }
 ],
 "metadata": {
  "kernelspec": {
   "display_name": "venv",
   "language": "python",
   "name": "python3"
  },
  "language_info": {
   "codemirror_mode": {
    "name": "ipython",
    "version": 3
   },
   "file_extension": ".py",
   "mimetype": "text/x-python",
   "name": "python",
   "nbconvert_exporter": "python",
   "pygments_lexer": "ipython3",
   "version": "3.10.13"
  }
 },
 "nbformat": 4,
 "nbformat_minor": 2
}
