{
 "cells": [
  {
   "cell_type": "code",
   "execution_count": 1,
   "metadata": {},
   "outputs": [],
   "source": [
    "import os\n",
    "print(os.getcwd())"
   ]
  },
  {
   "cell_type": "code",
   "execution_count": 1,
   "metadata": {},
   "outputs": [],
   "source": [
    "import torch\n",
    "from pytorch_lightning.callbacks import LearningRateMonitor\n",
    "from pytorch_lightning.loggers import WandbLogger\n",
    "from torch.utils.data import DataLoader\n",
    "from absl import app\n",
    "from absl import flags\n",
    "from pytorch_lightning.utilities.model_summary import ModelSummary\n",
    "\n",
    "\n",
    "import sys,os\n",
    "sys.path.append(os.path.dirname(os.path.abspath(os.path.dirname(os.path.abspath(os.path.dirname(os.getcwd()))))))\n",
    "from datasets.weather_bench import WeatherDataset\n",
    "from models.VariableAnalyzer.datasets.dataset import CustomDataset\n",
    "from models.VariableAnalyzer.models.model import VariableAnalyzer\n",
    "from models.VariableAnalyzer.training.configs import TrainingRunConfig\n",
    "from models.VariableAnalyzer.training.lightning import TrainModule\n",
    "from models.VariableAnalyzer.training.callbacks import VariableVaildationCallback"
   ]
  },
  {
   "cell_type": "code",
   "execution_count": 2,
   "metadata": {},
   "outputs": [
    {
     "name": "stdout",
     "output_type": "stream",
     "text": [
      "데이터셋 불러오는 중...\n",
      "<xarray.DataArray 'level' (level: 13)>\n",
      "array([  50,  100,  150,  200,  250,  300,  400,  500,  600,  700,  850,  925,\n",
      "       1000])\n",
      "Coordinates:\n",
      "  * level    (level) int64 50 100 150 200 250 300 400 500 600 700 850 925 1000\n",
      "<xarray.DataArray 'level' (level: 13)>\n",
      "array([  50,  100,  150,  200,  250,  300,  400,  500,  600,  700,  850,  925,\n",
      "       1000])\n",
      "Coordinates:\n",
      "  * level    (level) int64 50 100 150 200 250 300 400 500 600 700 850 925 1000\n",
      "<xarray.DataArray 'level' (level: 13)>\n",
      "array([  50,  100,  150,  200,  250,  300,  400,  500,  600,  700,  850,  925,\n",
      "       1000])\n",
      "Coordinates:\n",
      "  * level    (level) int64 50 100 150 200 250 300 400 500 600 700 850 925 1000\n",
      "==== LOAD DATASET ====\n",
      " <xarray.Dataset>\n",
      "Dimensions:                       (time: 14613, latitude: 28, longitude: 28,\n",
      "                                   level: 13)\n",
      "Coordinates:\n",
      "  * latitude                      (latitude) float32 39.0 38.75 ... 32.5 32.25\n",
      "  * level                         (level) int64 50 100 150 200 ... 850 925 1000\n",
      "  * longitude                     (longitude) float32 124.2 124.5 ... 131.0\n",
      "  * time                          (time) datetime64[ns] 2011-12-31 ... 2021-1...\n",
      "Data variables: (12/15)\n",
      "    10m_u_component_of_wind       (time, latitude, longitude) float32 ...\n",
      "    10m_v_component_of_wind       (time, latitude, longitude) float32 ...\n",
      "    2m_temperature                (time, latitude, longitude) float32 ...\n",
      "    geopotential                  (time, level, latitude, longitude) float32 ...\n",
      "    geopotential_at_surface       (latitude, longitude) float32 ...\n",
      "    mean_sea_level_pressure       (time, latitude, longitude) float32 ...\n",
      "    ...                            ...\n",
      "    toa_incident_solar_radiation  (time, latitude, longitude) float32 ...\n",
      "    total_cloud_cover             (time, latitude, longitude) float32 ...\n",
      "    total_precipitation_6hr       (time, latitude, longitude) float32 ...\n",
      "    u_component_of_wind           (time, level, latitude, longitude) float32 ...\n",
      "    v_component_of_wind           (time, level, latitude, longitude) float32 ...\n",
      "    vertical_velocity             (time, level, latitude, longitude) float32 ...\n"
     ]
    },
    {
     "name": "stderr",
     "output_type": "stream",
     "text": [
      "Processing futures: 0it [00:00, ?it/s]"
     ]
    },
    {
     "name": "stderr",
     "output_type": "stream",
     "text": [
      "Processing futures: 13it [00:02,  4.46it/s]\n"
     ]
    },
    {
     "name": "stdout",
     "output_type": "stream",
     "text": [
      "4.00889 sec\n",
      "==== LOAD DATASET ====\n",
      " <xarray.Dataset>\n",
      "Dimensions:                       (time: 14613, longitude: 14, latitude: 33,\n",
      "                                   level: 13)\n",
      "Coordinates:\n",
      "  * latitude                      (latitude) float64 21.0 22.5 ... 67.5 69.0\n",
      "  * level                         (level) int64 50 100 150 200 ... 850 925 1000\n",
      "  * longitude                     (longitude) float64 121.5 123.0 ... 141.0\n",
      "  * time                          (time) datetime64[ns] 2011-12-31 ... 2021-1...\n",
      "Data variables: (12/15)\n",
      "    10m_u_component_of_wind       (time, longitude, latitude) float32 ...\n",
      "    10m_v_component_of_wind       (time, longitude, latitude) float32 ...\n",
      "    2m_temperature                (time, longitude, latitude) float32 ...\n",
      "    geopotential                  (time, level, longitude, latitude) float32 ...\n",
      "    geopotential_at_surface       (longitude, latitude) float32 ...\n",
      "    mean_sea_level_pressure       (time, longitude, latitude) float32 ...\n",
      "    ...                            ...\n",
      "    toa_incident_solar_radiation  (time, longitude, latitude) float32 ...\n",
      "    total_cloud_cover             (time, longitude, latitude) float32 ...\n",
      "    total_precipitation_6hr       (time, longitude, latitude) float32 ...\n",
      "    u_component_of_wind           (time, level, longitude, latitude) float32 ...\n",
      "    v_component_of_wind           (time, level, longitude, latitude) float32 ...\n",
      "    vertical_velocity             (time, level, longitude, latitude) float32 ...\n"
     ]
    },
    {
     "name": "stderr",
     "output_type": "stream",
     "text": [
      "Processing futures: 13it [00:01,  7.91it/s]\n"
     ]
    },
    {
     "name": "stdout",
     "output_type": "stream",
     "text": [
      "2.29587 sec\n",
      "==== LOAD DATASET ====\n",
      " <xarray.Dataset>\n",
      "Dimensions:                       (time: 14613, longitude: 17, latitude: 12,\n",
      "                                   level: 13)\n",
      "Coordinates:\n",
      "  * latitude                      (latitude) float64 2.903 8.71 ... 60.97 66.77\n",
      "  * level                         (level) int64 50 100 150 200 ... 850 925 1000\n",
      "  * longitude                     (longitude) float64 90.0 95.62 ... 174.4 180.0\n",
      "  * time                          (time) datetime64[ns] 2011-12-31 ... 2021-1...\n",
      "Data variables: (12/15)\n",
      "    10m_u_component_of_wind       (time, longitude, latitude) float32 ...\n",
      "    10m_v_component_of_wind       (time, longitude, latitude) float32 ...\n",
      "    2m_temperature                (time, longitude, latitude) float32 ...\n",
      "    geopotential                  (time, level, longitude, latitude) float32 ...\n",
      "    geopotential_at_surface       (longitude, latitude) float32 ...\n",
      "    mean_sea_level_pressure       (time, longitude, latitude) float32 ...\n",
      "    ...                            ...\n",
      "    toa_incident_solar_radiation  (time, longitude, latitude) float32 ...\n",
      "    total_cloud_cover             (time, longitude, latitude) float32 ...\n",
      "    total_precipitation_6hr       (time, longitude, latitude) float32 ...\n",
      "    u_component_of_wind           (time, level, longitude, latitude) float32 ...\n",
      "    v_component_of_wind           (time, level, longitude, latitude) float32 ...\n",
      "    vertical_velocity             (time, level, longitude, latitude) float32 ...\n"
     ]
    },
    {
     "name": "stderr",
     "output_type": "stream",
     "text": [
      "Processing futures: 13it [00:00, 16.26it/s]\n"
     ]
    },
    {
     "name": "stdout",
     "output_type": "stream",
     "text": [
      "1.16858 sec\n",
      "======= RESULT SHAPE =======\n",
      "result_dataset.shape:  torch.Size([14613, 85, 1450])\n"
     ]
    }
   ],
   "source": [
    "def get_dataset(year_offset: int, src_time_len: int, tgt_time_len: int):\n",
    "    device = (\"cuda\" if torch.cuda.is_available() else \"cpu\" )\n",
    "    device = torch.device(device)\n",
    "\n",
    "    weather = WeatherDataset(year_offset, device=device)\n",
    "    # dataset.shape:  torch.Size([7309, 100, 1450])\n",
    "    input, target, mean_std, dims = weather.load()\n",
    "    dataset = CustomDataset(input, target, src_time_len, tgt_time_len)\n",
    "    return (weather.HAS_LEVEL_VARIABLE, weather.NONE_LEVEL_VARIABLE, weather.PRESSURE_LEVELS), dataset, input.shape, mean_std, dims\n",
    "\n",
    "src_time_len = 4 * 1\n",
    "tgt_time_len = 4 * 3\n",
    "\n",
    "# shape = (time, var, hidden)\n",
    "dataset_info, dataset, shape, mean_std, dims = get_dataset(0, src_time_len, tgt_time_len)"
   ]
  },
  {
   "cell_type": "code",
   "execution_count": 7,
   "metadata": {},
   "outputs": [
    {
     "name": "stdout",
     "output_type": "stream",
     "text": [
      "torch.Size([12, 85, 1450])\n"
     ]
    }
   ],
   "source": [
    "print(dataset[0][1].shape)"
   ]
  },
  {
   "cell_type": "code",
   "execution_count": 4,
   "metadata": {},
   "outputs": [
    {
     "name": "stderr",
     "output_type": "stream",
     "text": [
      "/workspace/Haea/venv/lib/python3.10/site-packages/torch/nn/modules/transformer.py:286: UserWarning: enable_nested_tensor is True, but self.use_nested_tensor is False because encoder_layer.self_attn.num_heads is odd\n",
      "  warnings.warn(f\"enable_nested_tensor is True, but self.use_nested_tensor is False because {why_not_sparsity_fast_path}\")\n",
      "/workspace/Haea/venv/lib/python3.10/site-packages/pytorch_lightning/utilities/parsing.py:198: Attribute 'model' is an instance of `nn.Module` and is already saved during checkpointing. It is recommended to ignore them using `self.save_hyperparameters(ignore=['model'])`.\n"
     ]
    }
   ],
   "source": [
    "import yaml\n",
    "import logging\n",
    "import os\n",
    "\n",
    "config_path = os.path.join(os.path.dirname(os.getcwd()), 'configs/train_config.yaml')\n",
    "\n",
    "try:\n",
    "    with open(config_path) as f:\n",
    "            config_dict = yaml.safe_load(f)\n",
    "            config: TrainingRunConfig = TrainingRunConfig.parse_obj(config_dict)\n",
    "except FileNotFoundError:\n",
    "        logging.error(f\"Config file {config_path} does not exist. Exiting.\")\n",
    "except yaml.YAMLError:\n",
    "        logging.error(f\"Config file {config_path} is not valid YAML. Exiting.\")\n",
    "\n",
    "model = VariableAnalyzer(\n",
    "            var_len=shape[1],\n",
    "            time_len=time_len,\n",
    "            dim_model=shape[2],\n",
    "            predict_dim=dims[0],\n",
    "            batch_size=config.training.batch_size,\n",
    "            num_heads=config.model.num_heads,\n",
    "            n_encoder_layers=config.model.n_encoder_layers,\n",
    "            n_decoder_layers=config.model.n_decoder_layers,\n",
    "            dropout=config.model.dropout\n",
    "        )\n",
    "\n",
    "checkpoint = torch.load('/workspace/Haea/models/VariableAnalyzer/tb_logs/lightning_logs/bnc1ycog/checkpoints/epoch=19-step=25540.ckpt')\n",
    "\n",
    "model_pl = TrainModule.load_from_checkpoint('/workspace/Haea/models/VariableAnalyzer/tb_logs/lightning_logs/bnc1ycog/checkpoints/epoch=19-step=25540.ckpt'\n",
    "                               , model=model, mean_std=mean_std, time_len=time_len, var_len=shape[1], \n",
    "                               predict_dim=dims[0], max_iters=config.training.max_epochs*99, \n",
    "                               var_lv=dataset_info[0], var_nlv=dataset_info[1], levels=dataset_info[2], config=config.training)"
   ]
  },
  {
   "cell_type": "code",
   "execution_count": 5,
   "metadata": {},
   "outputs": [
    {
     "name": "stdout",
     "output_type": "stream",
     "text": [
      "init cuda\n"
     ]
    }
   ],
   "source": [
    "device = (\"cuda\" if torch.cuda.is_available() else \"cpu\" )\n",
    "device = torch.device(device)\n",
    "\n",
    "model = model.to(device)\n",
    "model.init_seq(device)"
   ]
  },
  {
   "cell_type": "code",
   "execution_count": 6,
   "metadata": {},
   "outputs": [
    {
     "name": "stdout",
     "output_type": "stream",
     "text": [
      "torch.Size([1, 12, 85, 1450])\n"
     ]
    }
   ],
   "source": [
    "batch = dataset[1]\n",
    "src = batch[0].unsqueeze(0).to(device)\n",
    "tgt = batch[1].unsqueeze(0).to(device)\n",
    "label = batch[2].unsqueeze(0).to(device)\n",
    "print(label.shape)\n",
    "label = label.view(label.size(0), -1, label.size(3))\n",
    "predict = model(src, tgt)"
   ]
  },
  {
   "cell_type": "code",
   "execution_count": 7,
   "metadata": {},
   "outputs": [
    {
     "name": "stdout",
     "output_type": "stream",
     "text": [
      "tensor([[[ 1.9855e+00,  2.0060e+00,  1.9600e+00,  ...,  2.0277e+00,\n",
      "           1.9964e+00,  2.0333e+00],\n",
      "         [ 1.2893e+00,  1.3049e+00,  1.2767e+00,  ...,  1.3063e+00,\n",
      "           1.3256e+00,  1.3299e+00],\n",
      "         [ 8.2467e-01,  8.4525e-01,  8.5563e-01,  ...,  8.8770e-01,\n",
      "           8.9905e-01,  8.7051e-01],\n",
      "         ...,\n",
      "         [ 2.4798e-01,  2.4414e-01,  2.4530e-01,  ...,  2.8259e-01,\n",
      "           2.9866e-01,  2.8730e-01],\n",
      "         [ 3.1795e-01,  3.0001e-01,  3.0926e-01,  ...,  3.6898e-01,\n",
      "           3.7406e-01,  3.7367e-01],\n",
      "         [ 2.4143e-01,  2.3844e-01,  2.0994e-01,  ...,  2.6419e-01,\n",
      "           2.8906e-01,  2.8419e-01]],\n",
      "\n",
      "        [[ 2.0073e+00,  2.0086e+00,  1.9760e+00,  ...,  2.0124e+00,\n",
      "           2.0122e+00,  2.0197e+00],\n",
      "         [ 1.2939e+00,  1.2682e+00,  1.2514e+00,  ...,  1.3120e+00,\n",
      "           1.3257e+00,  1.3064e+00],\n",
      "         [ 8.6862e-01,  8.4383e-01,  8.3227e-01,  ...,  9.0788e-01,\n",
      "           9.0617e-01,  9.0259e-01],\n",
      "         ...,\n",
      "         [ 1.7153e-01,  1.5741e-01,  1.5220e-01,  ...,  2.0497e-01,\n",
      "           2.0293e-01,  2.1204e-01],\n",
      "         [ 2.9392e-01,  2.9519e-01,  2.8285e-01,  ...,  3.6001e-01,\n",
      "           3.3644e-01,  3.3496e-01],\n",
      "         [ 2.4474e-01,  2.1894e-01,  2.0555e-01,  ...,  2.7809e-01,\n",
      "           2.5715e-01,  2.8157e-01]],\n",
      "\n",
      "        [[ 1.9849e+00,  1.9870e+00,  1.9954e+00,  ...,  2.0378e+00,\n",
      "           2.0216e+00,  2.0227e+00],\n",
      "         [ 1.2787e+00,  1.2711e+00,  1.3060e+00,  ...,  1.3327e+00,\n",
      "           1.3326e+00,  1.3351e+00],\n",
      "         [ 8.6420e-01,  8.4913e-01,  8.5028e-01,  ...,  8.8334e-01,\n",
      "           9.1259e-01,  8.8821e-01],\n",
      "         ...,\n",
      "         [ 9.6490e-02,  8.7034e-02,  1.0155e-01,  ...,  1.3212e-01,\n",
      "           1.4434e-01,  1.4205e-01],\n",
      "         [ 2.9295e-01,  2.6282e-01,  2.6930e-01,  ...,  3.3124e-01,\n",
      "           3.5331e-01,  3.3560e-01],\n",
      "         [-1.1420e+00, -1.1572e+00, -1.1468e+00,  ..., -1.1519e+00,\n",
      "          -1.1521e+00, -1.1479e+00]],\n",
      "\n",
      "        ...,\n",
      "\n",
      "        [[ 1.9971e+00,  1.9842e+00,  1.9478e+00,  ...,  1.9346e+00,\n",
      "           1.9674e+00,  2.0241e+00],\n",
      "         [ 1.2713e+00,  1.2730e+00,  1.2492e+00,  ...,  1.2990e+00,\n",
      "           1.3300e+00,  1.3079e+00],\n",
      "         [ 8.4396e-01,  8.5070e-01,  8.5567e-01,  ...,  9.1160e-01,\n",
      "           9.3386e-01,  9.1351e-01],\n",
      "         ...,\n",
      "         [ 1.1985e-01,  1.1015e-01,  1.1578e-01,  ...,  1.3622e-01,\n",
      "           1.2204e-01,  1.3627e-01],\n",
      "         [ 2.4510e-01,  1.9821e-01,  2.2363e-01,  ...,  2.8161e-01,\n",
      "           2.5840e-01,  2.7728e-01],\n",
      "         [ 2.1980e-01,  2.1646e-01,  2.3799e-01,  ...,  3.0053e-01,\n",
      "           2.8670e-01,  2.8158e-01]],\n",
      "\n",
      "        [[ 1.9983e+00,  1.9725e+00,  1.9823e+00,  ...,  2.0306e+00,\n",
      "           2.0095e+00,  2.0099e+00],\n",
      "         [ 1.2604e+00,  1.2752e+00,  1.2495e+00,  ...,  1.3088e+00,\n",
      "           1.3393e+00,  1.3325e+00],\n",
      "         [ 8.3544e-01,  8.3785e-01,  8.4903e-01,  ...,  8.7887e-01,\n",
      "           9.1585e-01,  8.6543e-01],\n",
      "         ...,\n",
      "         [ 1.5185e-01,  1.2332e-01,  1.4934e-01,  ...,  2.0179e-01,\n",
      "           1.7629e-01,  1.6180e-01],\n",
      "         [ 2.5483e-01,  2.5548e-01,  2.6553e-01,  ...,  2.9890e-01,\n",
      "           3.1012e-01,  2.8004e-01],\n",
      "         [-1.2234e-01, -1.4659e-01, -1.4402e-01,  ..., -8.3275e-02,\n",
      "          -1.1363e-01, -8.6045e-02]],\n",
      "\n",
      "        [[ 1.9854e+00,  1.9685e+00,  2.0219e+00,  ...,  2.0052e+00,\n",
      "           2.0068e+00,  2.0344e+00],\n",
      "         [ 1.2915e+00,  1.2633e+00,  1.2722e+00,  ...,  1.3225e+00,\n",
      "           1.3234e+00,  1.3001e+00],\n",
      "         [ 8.7003e-01,  8.4942e-01,  8.6043e-01,  ...,  9.1514e-01,\n",
      "           9.3331e-01,  9.1908e-01],\n",
      "         ...,\n",
      "         [ 2.0087e-01,  1.6137e-01,  1.6733e-01,  ...,  2.2741e-01,\n",
      "           2.1781e-01,  2.1773e-01],\n",
      "         [ 3.1397e-01,  2.9140e-01,  3.3733e-01,  ...,  3.5978e-01,\n",
      "           3.5360e-01,  3.7607e-01],\n",
      "         [ 9.5014e-03,  9.6796e-04, -4.4264e-03,  ...,  4.2526e-02,\n",
      "           8.0600e-02,  5.9914e-02]]], device='cuda:0',\n",
      "       grad_fn=<ViewBackward0>)\n"
     ]
    }
   ],
   "source": [
    "print(predict)"
   ]
  }
 ],
 "metadata": {
  "kernelspec": {
   "display_name": "venv",
   "language": "python",
   "name": "python3"
  },
  "language_info": {
   "codemirror_mode": {
    "name": "ipython",
    "version": 3
   },
   "file_extension": ".py",
   "mimetype": "text/x-python",
   "name": "python",
   "nbconvert_exporter": "python",
   "pygments_lexer": "ipython3",
   "version": "3.10.13"
  }
 },
 "nbformat": 4,
 "nbformat_minor": 2
}
