{
 "cells": [
  {
   "cell_type": "code",
   "execution_count": 3,
   "metadata": {},
   "outputs": [
    {
     "name": "stdout",
     "output_type": "stream",
     "text": [
      "/workspace/Haea/models/VariableAnalyzer/tests\n"
     ]
    }
   ],
   "source": [
    "import os\n",
    "print(os.getcwd())"
   ]
  },
  {
   "cell_type": "code",
   "execution_count": 4,
   "metadata": {},
   "outputs": [],
   "source": [
    "import torch\n",
    "from pytorch_lightning.callbacks import LearningRateMonitor\n",
    "from pytorch_lightning.loggers import WandbLogger\n",
    "from torch.utils.data import DataLoader\n",
    "from absl import app\n",
    "from absl import flags\n",
    "from pytorch_lightning.utilities.model_summary import ModelSummary\n",
    "\n",
    "\n",
    "import sys,os\n",
    "sys.path.append(os.path.dirname(os.path.abspath(os.path.dirname(os.path.abspath(os.path.dirname(os.getcwd()))))))\n",
    "from datasets.weather_bench import WeatherDataset\n",
    "from models.VariableAnalyzer.datasets.dataset import CustomDataset\n",
    "from models.VariableAnalyzer.models.model import VariableAnalyzer\n",
    "from models.VariableAnalyzer.training.configs import TrainingRunConfig\n",
    "from models.VariableAnalyzer.training.lightning import TrainModule\n",
    "from models.VariableAnalyzer.training.callbacks import VariableVaildationCallback"
   ]
  },
  {
   "cell_type": "code",
   "execution_count": 6,
   "metadata": {},
   "outputs": [
    {
     "name": "stdout",
     "output_type": "stream",
     "text": [
      "데이터셋 불러오는 중...\n",
      "<xarray.DataArray 'level' (level: 13)>\n",
      "array([  50,  100,  150,  200,  250,  300,  400,  500,  600,  700,  850,  925,\n",
      "       1000])\n",
      "Coordinates:\n",
      "  * level    (level) int64 50 100 150 200 250 300 400 500 600 700 850 925 1000\n",
      "<xarray.DataArray 'level' (level: 13)>\n",
      "array([  50,  100,  150,  200,  250,  300,  400,  500,  600,  700,  850,  925,\n",
      "       1000])\n",
      "Coordinates:\n",
      "  * level    (level) int64 50 100 150 200 250 300 400 500 600 700 850 925 1000\n",
      "<xarray.DataArray 'level' (level: 13)>\n",
      "array([  50,  100,  150,  200,  250,  300,  400,  500,  600,  700,  850,  925,\n",
      "       1000])\n",
      "Coordinates:\n",
      "  * level    (level) int64 50 100 150 200 250 300 400 500 600 700 850 925 1000\n",
      "==== LOAD DATASET ====\n",
      " <xarray.Dataset>\n",
      "Dimensions:                       (time: 14613, latitude: 28, longitude: 28,\n",
      "                                   level: 13)\n",
      "Coordinates:\n",
      "  * latitude                      (latitude) float32 39.0 38.75 ... 32.5 32.25\n",
      "  * level                         (level) int64 50 100 150 200 ... 850 925 1000\n",
      "  * longitude                     (longitude) float32 124.2 124.5 ... 131.0\n",
      "  * time                          (time) datetime64[ns] 2011-12-31 ... 2021-1...\n",
      "Data variables: (12/15)\n",
      "    10m_u_component_of_wind       (time, latitude, longitude) float32 ...\n",
      "    10m_v_component_of_wind       (time, latitude, longitude) float32 ...\n",
      "    2m_temperature                (time, latitude, longitude) float32 ...\n",
      "    geopotential                  (time, level, latitude, longitude) float32 ...\n",
      "    geopotential_at_surface       (latitude, longitude) float32 ...\n",
      "    mean_sea_level_pressure       (time, latitude, longitude) float32 ...\n",
      "    ...                            ...\n",
      "    toa_incident_solar_radiation  (time, latitude, longitude) float32 ...\n",
      "    total_cloud_cover             (time, latitude, longitude) float32 ...\n",
      "    total_precipitation_6hr       (time, latitude, longitude) float32 ...\n",
      "    u_component_of_wind           (time, level, latitude, longitude) float32 ...\n",
      "    v_component_of_wind           (time, level, latitude, longitude) float32 ...\n",
      "    vertical_velocity             (time, level, latitude, longitude) float32 ...\n"
     ]
    },
    {
     "name": "stderr",
     "output_type": "stream",
     "text": [
      "Processing futures: 0it [00:00, ?it/s]"
     ]
    },
    {
     "name": "stderr",
     "output_type": "stream",
     "text": [
      "Processing futures: 14it [00:03,  4.63it/s]\n"
     ]
    },
    {
     "name": "stdout",
     "output_type": "stream",
     "text": [
      "4.13900 sec\n",
      "==== LOAD DATASET ====\n",
      " <xarray.Dataset>\n",
      "Dimensions:                       (time: 14613, longitude: 14, latitude: 33,\n",
      "                                   level: 13)\n",
      "Coordinates:\n",
      "  * latitude                      (latitude) float64 21.0 22.5 ... 67.5 69.0\n",
      "  * level                         (level) int64 50 100 150 200 ... 850 925 1000\n",
      "  * longitude                     (longitude) float64 121.5 123.0 ... 141.0\n",
      "  * time                          (time) datetime64[ns] 2011-12-31 ... 2021-1...\n",
      "Data variables: (12/15)\n",
      "    10m_u_component_of_wind       (time, longitude, latitude) float32 ...\n",
      "    10m_v_component_of_wind       (time, longitude, latitude) float32 ...\n",
      "    2m_temperature                (time, longitude, latitude) float32 ...\n",
      "    geopotential                  (time, level, longitude, latitude) float32 ...\n",
      "    geopotential_at_surface       (longitude, latitude) float32 ...\n",
      "    mean_sea_level_pressure       (time, longitude, latitude) float32 ...\n",
      "    ...                            ...\n",
      "    toa_incident_solar_radiation  (time, longitude, latitude) float32 ...\n",
      "    total_cloud_cover             (time, longitude, latitude) float32 ...\n",
      "    total_precipitation_6hr       (time, longitude, latitude) float32 ...\n",
      "    u_component_of_wind           (time, level, longitude, latitude) float32 ...\n",
      "    v_component_of_wind           (time, level, longitude, latitude) float32 ...\n",
      "    vertical_velocity             (time, level, longitude, latitude) float32 ...\n"
     ]
    },
    {
     "name": "stderr",
     "output_type": "stream",
     "text": [
      "Processing futures: 14it [00:01,  7.65it/s]\n"
     ]
    },
    {
     "name": "stdout",
     "output_type": "stream",
     "text": [
      "2.48515 sec\n",
      "==== LOAD DATASET ====\n",
      " <xarray.Dataset>\n",
      "Dimensions:                       (time: 14613, longitude: 17, latitude: 12,\n",
      "                                   level: 13)\n",
      "Coordinates:\n",
      "  * latitude                      (latitude) float64 2.903 8.71 ... 60.97 66.77\n",
      "  * level                         (level) int64 50 100 150 200 ... 850 925 1000\n",
      "  * longitude                     (longitude) float64 90.0 95.62 ... 174.4 180.0\n",
      "  * time                          (time) datetime64[ns] 2011-12-31 ... 2021-1...\n",
      "Data variables: (12/15)\n",
      "    10m_u_component_of_wind       (time, longitude, latitude) float32 ...\n",
      "    10m_v_component_of_wind       (time, longitude, latitude) float32 ...\n",
      "    2m_temperature                (time, longitude, latitude) float32 ...\n",
      "    geopotential                  (time, level, longitude, latitude) float32 ...\n",
      "    geopotential_at_surface       (longitude, latitude) float32 ...\n",
      "    mean_sea_level_pressure       (time, longitude, latitude) float32 ...\n",
      "    ...                            ...\n",
      "    toa_incident_solar_radiation  (time, longitude, latitude) float32 ...\n",
      "    total_cloud_cover             (time, longitude, latitude) float32 ...\n",
      "    total_precipitation_6hr       (time, longitude, latitude) float32 ...\n",
      "    u_component_of_wind           (time, level, longitude, latitude) float32 ...\n",
      "    v_component_of_wind           (time, level, longitude, latitude) float32 ...\n",
      "    vertical_velocity             (time, level, longitude, latitude) float32 ...\n"
     ]
    },
    {
     "name": "stderr",
     "output_type": "stream",
     "text": [
      "Processing futures: 14it [00:00, 16.69it/s]\n"
     ]
    },
    {
     "name": "stdout",
     "output_type": "stream",
     "text": [
      "1.25184 sec\n",
      "======= RESULT SHAPE =======\n",
      "result_dataset.shape:  torch.Size([14613, 86, 1450])\n"
     ]
    }
   ],
   "source": [
    "def get_dataset(year_offset: int, time_len: int):\n",
    "    device = (\"cuda\" if torch.cuda.is_available() else \"cpu\" )\n",
    "    device = torch.device(device)\n",
    "\n",
    "    weather = WeatherDataset(year_offset, device=device)\n",
    "    # dataset.shape:  torch.Size([7309, 100, 1450])\n",
    "    input, target, mean_std, dims = weather.load()\n",
    "    dataset = CustomDataset(input, target, time_len)\n",
    "    return (weather.HAS_LEVEL_VARIABLE, weather.NONE_LEVEL_VARIABLE, weather.PRESSURE_LEVELS), dataset, input.shape, mean_std, dims\n",
    "\n",
    "time_len = 4 * 3\n",
    "dataset_info, dataset, shape, mean_std, dims = get_dataset(0, time_len)"
   ]
  },
  {
   "cell_type": "code",
   "execution_count": 9,
   "metadata": {},
   "outputs": [
    {
     "ename": "RuntimeError",
     "evalue": "Error(s) in loading state_dict for VariableAnalyzer:\n\tMissing key(s) in state_dict: \"transformer.encoder.layers.0.self_attn.in_proj_weight\", \"transformer.encoder.layers.0.self_attn.in_proj_bias\", \"transformer.encoder.layers.0.self_attn.out_proj.weight\", \"transformer.encoder.layers.0.self_attn.out_proj.bias\", \"transformer.encoder.layers.0.linear1.weight\", \"transformer.encoder.layers.0.linear1.bias\", \"transformer.encoder.layers.0.linear2.weight\", \"transformer.encoder.layers.0.linear2.bias\", \"transformer.encoder.layers.0.norm1.weight\", \"transformer.encoder.layers.0.norm1.bias\", \"transformer.encoder.layers.0.norm2.weight\", \"transformer.encoder.layers.0.norm2.bias\", \"transformer.encoder.layers.1.self_attn.in_proj_weight\", \"transformer.encoder.layers.1.self_attn.in_proj_bias\", \"transformer.encoder.layers.1.self_attn.out_proj.weight\", \"transformer.encoder.layers.1.self_attn.out_proj.bias\", \"transformer.encoder.layers.1.linear1.weight\", \"transformer.encoder.layers.1.linear1.bias\", \"transformer.encoder.layers.1.linear2.weight\", \"transformer.encoder.layers.1.linear2.bias\", \"transformer.encoder.layers.1.norm1.weight\", \"transformer.encoder.layers.1.norm1.bias\", \"transformer.encoder.layers.1.norm2.weight\", \"transformer.encoder.layers.1.norm2.bias\", \"transformer.encoder.layers.2.self_attn.in_proj_weight\", \"transformer.encoder.layers.2.self_attn.in_proj_bias\", \"transformer.encoder.layers.2.self_attn.out_proj.weight\", \"transformer.encoder.layers.2.self_attn.out_proj.bias\", \"transformer.encoder.layers.2.linear1.weight\", \"transformer.encoder.layers.2.linear1.bias\", \"transformer.encoder.layers.2.linear2.weight\", \"transformer.encoder.layers.2.linear2.bias\", \"transformer.encoder.layers.2.norm1.weight\", \"transformer.encoder.layers.2.norm1.bias\", \"transformer.encoder.layers.2.norm2.weight\", \"transformer.encoder.layers.2.norm2.bias\", \"transformer.encoder.layers.3.self_attn.in_proj_weight\", \"transformer.encoder.layers.3.self_attn.in_proj_bias\", \"transformer.encoder.layers.3.self_attn.out_proj.weight\", \"transformer.encoder.layers.3.self_attn.out_proj.bias\", \"transformer.encoder.layers.3.linear1.weight\", \"transformer.encoder.layers.3.linear1.bias\", \"transformer.encoder.layers.3.linear2.weight\", \"transformer.encoder.layers.3.linear2.bias\", \"transformer.encoder.layers.3.norm1.weight\", \"transformer.encoder.layers.3.norm1.bias\", \"transformer.encoder.layers.3.norm2.weight\", \"transformer.encoder.layers.3.norm2.bias\", \"transformer.encoder.layers.4.self_attn.in_proj_weight\", \"transformer.encoder.layers.4.self_attn.in_proj_bias\", \"transformer.encoder.layers.4.self_attn.out_proj.weight\", \"transformer.encoder.layers.4.self_attn.out_proj.bias\", \"transformer.encoder.layers.4.linear1.weight\", \"transformer.encoder.layers.4.linear1.bias\", \"transformer.encoder.layers.4.linear2.weight\", \"transformer.encoder.layers.4.linear2.bias\", \"transformer.encoder.layers.4.norm1.weight\", \"transformer.encoder.layers.4.norm1.bias\", \"transformer.encoder.layers.4.norm2.weight\", \"transformer.encoder.layers.4.norm2.bias\", \"transformer.encoder.layers.5.self_attn.in_proj_weight\", \"transformer.encoder.layers.5.self_attn.in_proj_bias\", \"transformer.encoder.layers.5.self_attn.out_proj.weight\", \"transformer.encoder.layers.5.self_attn.out_proj.bias\", \"transformer.encoder.layers.5.linear1.weight\", \"transformer.encoder.layers.5.linear1.bias\", \"transformer.encoder.layers.5.linear2.weight\", \"transformer.encoder.layers.5.linear2.bias\", \"transformer.encoder.layers.5.norm1.weight\", \"transformer.encoder.layers.5.norm1.bias\", \"transformer.encoder.layers.5.norm2.weight\", \"transformer.encoder.layers.5.norm2.bias\", \"transformer.encoder.norm.weight\", \"transformer.encoder.norm.bias\", \"transformer.decoder.layers.0.self_attn.in_proj_weight\", \"transformer.decoder.layers.0.self_attn.in_proj_bias\", \"transformer.decoder.layers.0.self_attn.out_proj.weight\", \"transformer.decoder.layers.0.self_attn.out_proj.bias\", \"transformer.decoder.layers.0.multihead_attn.in_proj_weight\", \"transformer.decoder.layers.0.multihead_attn.in_proj_bias\", \"transformer.decoder.layers.0.multihead_attn.out_proj.weight\", \"transformer.decoder.layers.0.multihead_attn.out_proj.bias\", \"transformer.decoder.layers.0.linear1.weight\", \"transformer.decoder.layers.0.linear1.bias\", \"transformer.decoder.layers.0.linear2.weight\", \"transformer.decoder.layers.0.linear2.bias\", \"transformer.decoder.layers.0.norm1.weight\", \"transformer.decoder.layers.0.norm1.bias\", \"transformer.decoder.layers.0.norm2.weight\", \"transformer.decoder.layers.0.norm2.bias\", \"transformer.decoder.layers.0.norm3.weight\", \"transformer.decoder.layers.0.norm3.bias\", \"transformer.decoder.layers.1.self_attn.in_proj_weight\", \"transformer.decoder.layers.1.self_attn.in_proj_bias\", \"transformer.decoder.layers.1.self_attn.out_proj.weight\", \"transformer.decoder.layers.1.self_attn.out_proj.bias\", \"transformer.decoder.layers.1.multihead_attn.in_proj_weight\", \"transformer.decoder.layers.1.multihead_attn.in_proj_bias\", \"transformer.decoder.layers.1.multihead_attn.out_proj.weight\", \"transformer.decoder.layers.1.multihead_attn.out_proj.bias\", \"transformer.decoder.layers.1.linear1.weight\", \"transformer.decoder.layers.1.linear1.bias\", \"transformer.decoder.layers.1.linear2.weight\", \"transformer.decoder.layers.1.linear2.bias\", \"transformer.decoder.layers.1.norm1.weight\", \"transformer.decoder.layers.1.norm1.bias\", \"transformer.decoder.layers.1.norm2.weight\", \"transformer.decoder.layers.1.norm2.bias\", \"transformer.decoder.layers.1.norm3.weight\", \"transformer.decoder.layers.1.norm3.bias\", \"transformer.decoder.layers.2.self_attn.in_proj_weight\", \"transformer.decoder.layers.2.self_attn.in_proj_bias\", \"transformer.decoder.layers.2.self_attn.out_proj.weight\", \"transformer.decoder.layers.2.self_attn.out_proj.bias\", \"transformer.decoder.layers.2.multihead_attn.in_proj_weight\", \"transformer.decoder.layers.2.multihead_attn.in_proj_bias\", \"transformer.decoder.layers.2.multihead_attn.out_proj.weight\", \"transformer.decoder.layers.2.multihead_attn.out_proj.bias\", \"transformer.decoder.layers.2.linear1.weight\", \"transformer.decoder.layers.2.linear1.bias\", \"transformer.decoder.layers.2.linear2.weight\", \"transformer.decoder.layers.2.linear2.bias\", \"transformer.decoder.layers.2.norm1.weight\", \"transformer.decoder.layers.2.norm1.bias\", \"transformer.decoder.layers.2.norm2.weight\", \"transformer.decoder.layers.2.norm2.bias\", \"transformer.decoder.layers.2.norm3.weight\", \"transformer.decoder.layers.2.norm3.bias\", \"transformer.decoder.layers.3.self_attn.in_proj_weight\", \"transformer.decoder.layers.3.self_attn.in_proj_bias\", \"transformer.decoder.layers.3.self_attn.out_proj.weight\", \"transformer.decoder.layers.3.self_attn.out_proj.bias\", \"transformer.decoder.layers.3.multihead_attn.in_proj_weight\", \"transformer.decoder.layers.3.multihead_attn.in_proj_bias\", \"transformer.decoder.layers.3.multihead_attn.out_proj.weight\", \"transformer.decoder.layers.3.multihead_attn.out_proj.bias\", \"transformer.decoder.layers.3.linear1.weight\", \"transformer.decoder.layers.3.linear1.bias\", \"transformer.decoder.layers.3.linear2.weight\", \"transformer.decoder.layers.3.linear2.bias\", \"transformer.decoder.layers.3.norm1.weight\", \"transformer.decoder.layers.3.norm1.bias\", \"transformer.decoder.layers.3.norm2.weight\", \"transformer.decoder.layers.3.norm2.bias\", \"transformer.decoder.layers.3.norm3.weight\", \"transformer.decoder.layers.3.norm3.bias\", \"transformer.decoder.layers.4.self_attn.in_proj_weight\", \"transformer.decoder.layers.4.self_attn.in_proj_bias\", \"transformer.decoder.layers.4.self_attn.out_proj.weight\", \"transformer.decoder.layers.4.self_attn.out_proj.bias\", \"transformer.decoder.layers.4.multihead_attn.in_proj_weight\", \"transformer.decoder.layers.4.multihead_attn.in_proj_bias\", \"transformer.decoder.layers.4.multihead_attn.out_proj.weight\", \"transformer.decoder.layers.4.multihead_attn.out_proj.bias\", \"transformer.decoder.layers.4.linear1.weight\", \"transformer.decoder.layers.4.linear1.bias\", \"transformer.decoder.layers.4.linear2.weight\", \"transformer.decoder.layers.4.linear2.bias\", \"transformer.decoder.layers.4.norm1.weight\", \"transformer.decoder.layers.4.norm1.bias\", \"transformer.decoder.layers.4.norm2.weight\", \"transformer.decoder.layers.4.norm2.bias\", \"transformer.decoder.layers.4.norm3.weight\", \"transformer.decoder.layers.4.norm3.bias\", \"transformer.decoder.layers.5.self_attn.in_proj_weight\", \"transformer.decoder.layers.5.self_attn.in_proj_bias\", \"transformer.decoder.layers.5.self_attn.out_proj.weight\", \"transformer.decoder.layers.5.self_attn.out_proj.bias\", \"transformer.decoder.layers.5.multihead_attn.in_proj_weight\", \"transformer.decoder.layers.5.multihead_attn.in_proj_bias\", \"transformer.decoder.layers.5.multihead_attn.out_proj.weight\", \"transformer.decoder.layers.5.multihead_attn.out_proj.bias\", \"transformer.decoder.layers.5.linear1.weight\", \"transformer.decoder.layers.5.linear1.bias\", \"transformer.decoder.layers.5.linear2.weight\", \"transformer.decoder.layers.5.linear2.bias\", \"transformer.decoder.layers.5.norm1.weight\", \"transformer.decoder.layers.5.norm1.bias\", \"transformer.decoder.layers.5.norm2.weight\", \"transformer.decoder.layers.5.norm2.bias\", \"transformer.decoder.layers.5.norm3.weight\", \"transformer.decoder.layers.5.norm3.bias\", \"transformer.decoder.norm.weight\", \"transformer.decoder.norm.bias\", \"tgt_embedding.variable.weight\", \"tgt_embedding.position.weight\", \"src_embedding.variable.weight\", \"out.weight\", \"out.bias\". \n\tUnexpected key(s) in state_dict: \"model.transformer.encoder.layers.0.self_attn.in_proj_weight\", \"model.transformer.encoder.layers.0.self_attn.in_proj_bias\", \"model.transformer.encoder.layers.0.self_attn.out_proj.weight\", \"model.transformer.encoder.layers.0.self_attn.out_proj.bias\", \"model.transformer.encoder.layers.0.linear1.weight\", \"model.transformer.encoder.layers.0.linear1.bias\", \"model.transformer.encoder.layers.0.linear2.weight\", \"model.transformer.encoder.layers.0.linear2.bias\", \"model.transformer.encoder.layers.0.norm1.weight\", \"model.transformer.encoder.layers.0.norm1.bias\", \"model.transformer.encoder.layers.0.norm2.weight\", \"model.transformer.encoder.layers.0.norm2.bias\", \"model.transformer.encoder.layers.1.self_attn.in_proj_weight\", \"model.transformer.encoder.layers.1.self_attn.in_proj_bias\", \"model.transformer.encoder.layers.1.self_attn.out_proj.weight\", \"model.transformer.encoder.layers.1.self_attn.out_proj.bias\", \"model.transformer.encoder.layers.1.linear1.weight\", \"model.transformer.encoder.layers.1.linear1.bias\", \"model.transformer.encoder.layers.1.linear2.weight\", \"model.transformer.encoder.layers.1.linear2.bias\", \"model.transformer.encoder.layers.1.norm1.weight\", \"model.transformer.encoder.layers.1.norm1.bias\", \"model.transformer.encoder.layers.1.norm2.weight\", \"model.transformer.encoder.layers.1.norm2.bias\", \"model.transformer.encoder.layers.2.self_attn.in_proj_weight\", \"model.transformer.encoder.layers.2.self_attn.in_proj_bias\", \"model.transformer.encoder.layers.2.self_attn.out_proj.weight\", \"model.transformer.encoder.layers.2.self_attn.out_proj.bias\", \"model.transformer.encoder.layers.2.linear1.weight\", \"model.transformer.encoder.layers.2.linear1.bias\", \"model.transformer.encoder.layers.2.linear2.weight\", \"model.transformer.encoder.layers.2.linear2.bias\", \"model.transformer.encoder.layers.2.norm1.weight\", \"model.transformer.encoder.layers.2.norm1.bias\", \"model.transformer.encoder.layers.2.norm2.weight\", \"model.transformer.encoder.layers.2.norm2.bias\", \"model.transformer.encoder.layers.3.self_attn.in_proj_weight\", \"model.transformer.encoder.layers.3.self_attn.in_proj_bias\", \"model.transformer.encoder.layers.3.self_attn.out_proj.weight\", \"model.transformer.encoder.layers.3.self_attn.out_proj.bias\", \"model.transformer.encoder.layers.3.linear1.weight\", \"model.transformer.encoder.layers.3.linear1.bias\", \"model.transformer.encoder.layers.3.linear2.weight\", \"model.transformer.encoder.layers.3.linear2.bias\", \"model.transformer.encoder.layers.3.norm1.weight\", \"model.transformer.encoder.layers.3.norm1.bias\", \"model.transformer.encoder.layers.3.norm2.weight\", \"model.transformer.encoder.layers.3.norm2.bias\", \"model.transformer.encoder.layers.4.self_attn.in_proj_weight\", \"model.transformer.encoder.layers.4.self_attn.in_proj_bias\", \"model.transformer.encoder.layers.4.self_attn.out_proj.weight\", \"model.transformer.encoder.layers.4.self_attn.out_proj.bias\", \"model.transformer.encoder.layers.4.linear1.weight\", \"model.transformer.encoder.layers.4.linear1.bias\", \"model.transformer.encoder.layers.4.linear2.weight\", \"model.transformer.encoder.layers.4.linear2.bias\", \"model.transformer.encoder.layers.4.norm1.weight\", \"model.transformer.encoder.layers.4.norm1.bias\", \"model.transformer.encoder.layers.4.norm2.weight\", \"model.transformer.encoder.layers.4.norm2.bias\", \"model.transformer.encoder.layers.5.self_attn.in_proj_weight\", \"model.transformer.encoder.layers.5.self_attn.in_proj_bias\", \"model.transformer.encoder.layers.5.self_attn.out_proj.weight\", \"model.transformer.encoder.layers.5.self_attn.out_proj.bias\", \"model.transformer.encoder.layers.5.linear1.weight\", \"model.transformer.encoder.layers.5.linear1.bias\", \"model.transformer.encoder.layers.5.linear2.weight\", \"model.transformer.encoder.layers.5.linear2.bias\", \"model.transformer.encoder.layers.5.norm1.weight\", \"model.transformer.encoder.layers.5.norm1.bias\", \"model.transformer.encoder.layers.5.norm2.weight\", \"model.transformer.encoder.layers.5.norm2.bias\", \"model.transformer.encoder.norm.weight\", \"model.transformer.encoder.norm.bias\", \"model.transformer.decoder.layers.0.self_attn.in_proj_weight\", \"model.transformer.decoder.layers.0.self_attn.in_proj_bias\", \"model.transformer.decoder.layers.0.self_attn.out_proj.weight\", \"model.transformer.decoder.layers.0.self_attn.out_proj.bias\", \"model.transformer.decoder.layers.0.multihead_attn.in_proj_weight\", \"model.transformer.decoder.layers.0.multihead_attn.in_proj_bias\", \"model.transformer.decoder.layers.0.multihead_attn.out_proj.weight\", \"model.transformer.decoder.layers.0.multihead_attn.out_proj.bias\", \"model.transformer.decoder.layers.0.linear1.weight\", \"model.transformer.decoder.layers.0.linear1.bias\", \"model.transformer.decoder.layers.0.linear2.weight\", \"model.transformer.decoder.layers.0.linear2.bias\", \"model.transformer.decoder.layers.0.norm1.weight\", \"model.transformer.decoder.layers.0.norm1.bias\", \"model.transformer.decoder.layers.0.norm2.weight\", \"model.transformer.decoder.layers.0.norm2.bias\", \"model.transformer.decoder.layers.0.norm3.weight\", \"model.transformer.decoder.layers.0.norm3.bias\", \"model.transformer.decoder.layers.1.self_attn.in_proj_weight\", \"model.transformer.decoder.layers.1.self_attn.in_proj_bias\", \"model.transformer.decoder.layers.1.self_attn.out_proj.weight\", \"model.transformer.decoder.layers.1.self_attn.out_proj.bias\", \"model.transformer.decoder.layers.1.multihead_attn.in_proj_weight\", \"model.transformer.decoder.layers.1.multihead_attn.in_proj_bias\", \"model.transformer.decoder.layers.1.multihead_attn.out_proj.weight\", \"model.transformer.decoder.layers.1.multihead_attn.out_proj.bias\", \"model.transformer.decoder.layers.1.linear1.weight\", \"model.transformer.decoder.layers.1.linear1.bias\", \"model.transformer.decoder.layers.1.linear2.weight\", \"model.transformer.decoder.layers.1.linear2.bias\", \"model.transformer.decoder.layers.1.norm1.weight\", \"model.transformer.decoder.layers.1.norm1.bias\", \"model.transformer.decoder.layers.1.norm2.weight\", \"model.transformer.decoder.layers.1.norm2.bias\", \"model.transformer.decoder.layers.1.norm3.weight\", \"model.transformer.decoder.layers.1.norm3.bias\", \"model.transformer.decoder.layers.2.self_attn.in_proj_weight\", \"model.transformer.decoder.layers.2.self_attn.in_proj_bias\", \"model.transformer.decoder.layers.2.self_attn.out_proj.weight\", \"model.transformer.decoder.layers.2.self_attn.out_proj.bias\", \"model.transformer.decoder.layers.2.multihead_attn.in_proj_weight\", \"model.transformer.decoder.layers.2.multihead_attn.in_proj_bias\", \"model.transformer.decoder.layers.2.multihead_attn.out_proj.weight\", \"model.transformer.decoder.layers.2.multihead_attn.out_proj.bias\", \"model.transformer.decoder.layers.2.linear1.weight\", \"model.transformer.decoder.layers.2.linear1.bias\", \"model.transformer.decoder.layers.2.linear2.weight\", \"model.transformer.decoder.layers.2.linear2.bias\", \"model.transformer.decoder.layers.2.norm1.weight\", \"model.transformer.decoder.layers.2.norm1.bias\", \"model.transformer.decoder.layers.2.norm2.weight\", \"model.transformer.decoder.layers.2.norm2.bias\", \"model.transformer.decoder.layers.2.norm3.weight\", \"model.transformer.decoder.layers.2.norm3.bias\", \"model.transformer.decoder.layers.3.self_attn.in_proj_weight\", \"model.transformer.decoder.layers.3.self_attn.in_proj_bias\", \"model.transformer.decoder.layers.3.self_attn.out_proj.weight\", \"model.transformer.decoder.layers.3.self_attn.out_proj.bias\", \"model.transformer.decoder.layers.3.multihead_attn.in_proj_weight\", \"model.transformer.decoder.layers.3.multihead_attn.in_proj_bias\", \"model.transformer.decoder.layers.3.multihead_attn.out_proj.weight\", \"model.transformer.decoder.layers.3.multihead_attn.out_proj.bias\", \"model.transformer.decoder.layers.3.linear1.weight\", \"model.transformer.decoder.layers.3.linear1.bias\", \"model.transformer.decoder.layers.3.linear2.weight\", \"model.transformer.decoder.layers.3.linear2.bias\", \"model.transformer.decoder.layers.3.norm1.weight\", \"model.transformer.decoder.layers.3.norm1.bias\", \"model.transformer.decoder.layers.3.norm2.weight\", \"model.transformer.decoder.layers.3.norm2.bias\", \"model.transformer.decoder.layers.3.norm3.weight\", \"model.transformer.decoder.layers.3.norm3.bias\", \"model.transformer.decoder.layers.4.self_attn.in_proj_weight\", \"model.transformer.decoder.layers.4.self_attn.in_proj_bias\", \"model.transformer.decoder.layers.4.self_attn.out_proj.weight\", \"model.transformer.decoder.layers.4.self_attn.out_proj.bias\", \"model.transformer.decoder.layers.4.multihead_attn.in_proj_weight\", \"model.transformer.decoder.layers.4.multihead_attn.in_proj_bias\", \"model.transformer.decoder.layers.4.multihead_attn.out_proj.weight\", \"model.transformer.decoder.layers.4.multihead_attn.out_proj.bias\", \"model.transformer.decoder.layers.4.linear1.weight\", \"model.transformer.decoder.layers.4.linear1.bias\", \"model.transformer.decoder.layers.4.linear2.weight\", \"model.transformer.decoder.layers.4.linear2.bias\", \"model.transformer.decoder.layers.4.norm1.weight\", \"model.transformer.decoder.layers.4.norm1.bias\", \"model.transformer.decoder.layers.4.norm2.weight\", \"model.transformer.decoder.layers.4.norm2.bias\", \"model.transformer.decoder.layers.4.norm3.weight\", \"model.transformer.decoder.layers.4.norm3.bias\", \"model.transformer.decoder.layers.5.self_attn.in_proj_weight\", \"model.transformer.decoder.layers.5.self_attn.in_proj_bias\", \"model.transformer.decoder.layers.5.self_attn.out_proj.weight\", \"model.transformer.decoder.layers.5.self_attn.out_proj.bias\", \"model.transformer.decoder.layers.5.multihead_attn.in_proj_weight\", \"model.transformer.decoder.layers.5.multihead_attn.in_proj_bias\", \"model.transformer.decoder.layers.5.multihead_attn.out_proj.weight\", \"model.transformer.decoder.layers.5.multihead_attn.out_proj.bias\", \"model.transformer.decoder.layers.5.linear1.weight\", \"model.transformer.decoder.layers.5.linear1.bias\", \"model.transformer.decoder.layers.5.linear2.weight\", \"model.transformer.decoder.layers.5.linear2.bias\", \"model.transformer.decoder.layers.5.norm1.weight\", \"model.transformer.decoder.layers.5.norm1.bias\", \"model.transformer.decoder.layers.5.norm2.weight\", \"model.transformer.decoder.layers.5.norm2.bias\", \"model.transformer.decoder.layers.5.norm3.weight\", \"model.transformer.decoder.layers.5.norm3.bias\", \"model.transformer.decoder.norm.weight\", \"model.transformer.decoder.norm.bias\", \"model.tgt_embedding.variable.weight\", \"model.tgt_embedding.position.weight\", \"model.src_embedding.variable.weight\", \"model.out.weight\", \"model.out.bias\". ",
     "output_type": "error",
     "traceback": [
      "\u001b[0;31m---------------------------------------------------------------------------\u001b[0m",
      "\u001b[0;31mRuntimeError\u001b[0m                              Traceback (most recent call last)",
      "Cell \u001b[0;32mIn[9], line 30\u001b[0m\n\u001b[1;32m     16\u001b[0m model \u001b[38;5;241m=\u001b[39m VariableAnalyzer(\n\u001b[1;32m     17\u001b[0m             var_len\u001b[38;5;241m=\u001b[39mshape[\u001b[38;5;241m1\u001b[39m],\n\u001b[1;32m     18\u001b[0m             time_len\u001b[38;5;241m=\u001b[39mtime_len,\n\u001b[0;32m   (...)\u001b[0m\n\u001b[1;32m     25\u001b[0m             dropout\u001b[38;5;241m=\u001b[39mconfig\u001b[38;5;241m.\u001b[39mmodel\u001b[38;5;241m.\u001b[39mdropout\n\u001b[1;32m     26\u001b[0m         )\n\u001b[1;32m     28\u001b[0m checkpoint \u001b[38;5;241m=\u001b[39m torch\u001b[38;5;241m.\u001b[39mload(\u001b[38;5;124m'\u001b[39m\u001b[38;5;124m/workspace/Haea/models/VariableAnalyzer/tb_logs/lightning_logs/bnc1ycog/checkpoints/epoch=19-step=25540.ckpt\u001b[39m\u001b[38;5;124m'\u001b[39m)\n\u001b[0;32m---> 30\u001b[0m \u001b[43mmodel\u001b[49m\u001b[38;5;241;43m.\u001b[39;49m\u001b[43mload_state_dict\u001b[49m\u001b[43m(\u001b[49m\u001b[43mcheckpoint\u001b[49m\u001b[43m[\u001b[49m\u001b[38;5;124;43m\"\u001b[39;49m\u001b[38;5;124;43mstate_dict\u001b[39;49m\u001b[38;5;124;43m\"\u001b[39;49m\u001b[43m]\u001b[49m\u001b[43m)\u001b[49m\n",
      "File \u001b[0;32m/workspace/Haea/venv/lib/python3.10/site-packages/torch/nn/modules/module.py:2153\u001b[0m, in \u001b[0;36mModule.load_state_dict\u001b[0;34m(self, state_dict, strict, assign)\u001b[0m\n\u001b[1;32m   2148\u001b[0m         error_msgs\u001b[38;5;241m.\u001b[39minsert(\n\u001b[1;32m   2149\u001b[0m             \u001b[38;5;241m0\u001b[39m, \u001b[38;5;124m'\u001b[39m\u001b[38;5;124mMissing key(s) in state_dict: \u001b[39m\u001b[38;5;132;01m{}\u001b[39;00m\u001b[38;5;124m. \u001b[39m\u001b[38;5;124m'\u001b[39m\u001b[38;5;241m.\u001b[39mformat(\n\u001b[1;32m   2150\u001b[0m                 \u001b[38;5;124m'\u001b[39m\u001b[38;5;124m, \u001b[39m\u001b[38;5;124m'\u001b[39m\u001b[38;5;241m.\u001b[39mjoin(\u001b[38;5;124mf\u001b[39m\u001b[38;5;124m'\u001b[39m\u001b[38;5;124m\"\u001b[39m\u001b[38;5;132;01m{\u001b[39;00mk\u001b[38;5;132;01m}\u001b[39;00m\u001b[38;5;124m\"\u001b[39m\u001b[38;5;124m'\u001b[39m \u001b[38;5;28;01mfor\u001b[39;00m k \u001b[38;5;129;01min\u001b[39;00m missing_keys)))\n\u001b[1;32m   2152\u001b[0m \u001b[38;5;28;01mif\u001b[39;00m \u001b[38;5;28mlen\u001b[39m(error_msgs) \u001b[38;5;241m>\u001b[39m \u001b[38;5;241m0\u001b[39m:\n\u001b[0;32m-> 2153\u001b[0m     \u001b[38;5;28;01mraise\u001b[39;00m \u001b[38;5;167;01mRuntimeError\u001b[39;00m(\u001b[38;5;124m'\u001b[39m\u001b[38;5;124mError(s) in loading state_dict for \u001b[39m\u001b[38;5;132;01m{}\u001b[39;00m\u001b[38;5;124m:\u001b[39m\u001b[38;5;130;01m\\n\u001b[39;00m\u001b[38;5;130;01m\\t\u001b[39;00m\u001b[38;5;132;01m{}\u001b[39;00m\u001b[38;5;124m'\u001b[39m\u001b[38;5;241m.\u001b[39mformat(\n\u001b[1;32m   2154\u001b[0m                        \u001b[38;5;28mself\u001b[39m\u001b[38;5;241m.\u001b[39m\u001b[38;5;18m__class__\u001b[39m\u001b[38;5;241m.\u001b[39m\u001b[38;5;18m__name__\u001b[39m, \u001b[38;5;124m\"\u001b[39m\u001b[38;5;130;01m\\n\u001b[39;00m\u001b[38;5;130;01m\\t\u001b[39;00m\u001b[38;5;124m\"\u001b[39m\u001b[38;5;241m.\u001b[39mjoin(error_msgs)))\n\u001b[1;32m   2155\u001b[0m \u001b[38;5;28;01mreturn\u001b[39;00m _IncompatibleKeys(missing_keys, unexpected_keys)\n",
      "\u001b[0;31mRuntimeError\u001b[0m: Error(s) in loading state_dict for VariableAnalyzer:\n\tMissing key(s) in state_dict: \"transformer.encoder.layers.0.self_attn.in_proj_weight\", \"transformer.encoder.layers.0.self_attn.in_proj_bias\", \"transformer.encoder.layers.0.self_attn.out_proj.weight\", \"transformer.encoder.layers.0.self_attn.out_proj.bias\", \"transformer.encoder.layers.0.linear1.weight\", \"transformer.encoder.layers.0.linear1.bias\", \"transformer.encoder.layers.0.linear2.weight\", \"transformer.encoder.layers.0.linear2.bias\", \"transformer.encoder.layers.0.norm1.weight\", \"transformer.encoder.layers.0.norm1.bias\", \"transformer.encoder.layers.0.norm2.weight\", \"transformer.encoder.layers.0.norm2.bias\", \"transformer.encoder.layers.1.self_attn.in_proj_weight\", \"transformer.encoder.layers.1.self_attn.in_proj_bias\", \"transformer.encoder.layers.1.self_attn.out_proj.weight\", \"transformer.encoder.layers.1.self_attn.out_proj.bias\", \"transformer.encoder.layers.1.linear1.weight\", \"transformer.encoder.layers.1.linear1.bias\", \"transformer.encoder.layers.1.linear2.weight\", \"transformer.encoder.layers.1.linear2.bias\", \"transformer.encoder.layers.1.norm1.weight\", \"transformer.encoder.layers.1.norm1.bias\", \"transformer.encoder.layers.1.norm2.weight\", \"transformer.encoder.layers.1.norm2.bias\", \"transformer.encoder.layers.2.self_attn.in_proj_weight\", \"transformer.encoder.layers.2.self_attn.in_proj_bias\", \"transformer.encoder.layers.2.self_attn.out_proj.weight\", \"transformer.encoder.layers.2.self_attn.out_proj.bias\", \"transformer.encoder.layers.2.linear1.weight\", \"transformer.encoder.layers.2.linear1.bias\", \"transformer.encoder.layers.2.linear2.weight\", \"transformer.encoder.layers.2.linear2.bias\", \"transformer.encoder.layers.2.norm1.weight\", \"transformer.encoder.layers.2.norm1.bias\", \"transformer.encoder.layers.2.norm2.weight\", \"transformer.encoder.layers.2.norm2.bias\", \"transformer.encoder.layers.3.self_attn.in_proj_weight\", \"transformer.encoder.layers.3.self_attn.in_proj_bias\", \"transformer.encoder.layers.3.self_attn.out_proj.weight\", \"transformer.encoder.layers.3.self_attn.out_proj.bias\", \"transformer.encoder.layers.3.linear1.weight\", \"transformer.encoder.layers.3.linear1.bias\", \"transformer.encoder.layers.3.linear2.weight\", \"transformer.encoder.layers.3.linear2.bias\", \"transformer.encoder.layers.3.norm1.weight\", \"transformer.encoder.layers.3.norm1.bias\", \"transformer.encoder.layers.3.norm2.weight\", \"transformer.encoder.layers.3.norm2.bias\", \"transformer.encoder.layers.4.self_attn.in_proj_weight\", \"transformer.encoder.layers.4.self_attn.in_proj_bias\", \"transformer.encoder.layers.4.self_attn.out_proj.weight\", \"transformer.encoder.layers.4.self_attn.out_proj.bias\", \"transformer.encoder.layers.4.linear1.weight\", \"transformer.encoder.layers.4.linear1.bias\", \"transformer.encoder.layers.4.linear2.weight\", \"transformer.encoder.layers.4.linear2.bias\", \"transformer.encoder.layers.4.norm1.weight\", \"transformer.encoder.layers.4.norm1.bias\", \"transformer.encoder.layers.4.norm2.weight\", \"transformer.encoder.layers.4.norm2.bias\", \"transformer.encoder.layers.5.self_attn.in_proj_weight\", \"transformer.encoder.layers.5.self_attn.in_proj_bias\", \"transformer.encoder.layers.5.self_attn.out_proj.weight\", \"transformer.encoder.layers.5.self_attn.out_proj.bias\", \"transformer.encoder.layers.5.linear1.weight\", \"transformer.encoder.layers.5.linear1.bias\", \"transformer.encoder.layers.5.linear2.weight\", \"transformer.encoder.layers.5.linear2.bias\", \"transformer.encoder.layers.5.norm1.weight\", \"transformer.encoder.layers.5.norm1.bias\", \"transformer.encoder.layers.5.norm2.weight\", \"transformer.encoder.layers.5.norm2.bias\", \"transformer.encoder.norm.weight\", \"transformer.encoder.norm.bias\", \"transformer.decoder.layers.0.self_attn.in_proj_weight\", \"transformer.decoder.layers.0.self_attn.in_proj_bias\", \"transformer.decoder.layers.0.self_attn.out_proj.weight\", \"transformer.decoder.layers.0.self_attn.out_proj.bias\", \"transformer.decoder.layers.0.multihead_attn.in_proj_weight\", \"transformer.decoder.layers.0.multihead_attn.in_proj_bias\", \"transformer.decoder.layers.0.multihead_attn.out_proj.weight\", \"transformer.decoder.layers.0.multihead_attn.out_proj.bias\", \"transformer.decoder.layers.0.linear1.weight\", \"transformer.decoder.layers.0.linear1.bias\", \"transformer.decoder.layers.0.linear2.weight\", \"transformer.decoder.layers.0.linear2.bias\", \"transformer.decoder.layers.0.norm1.weight\", \"transformer.decoder.layers.0.norm1.bias\", \"transformer.decoder.layers.0.norm2.weight\", \"transformer.decoder.layers.0.norm2.bias\", \"transformer.decoder.layers.0.norm3.weight\", \"transformer.decoder.layers.0.norm3.bias\", \"transformer.decoder.layers.1.self_attn.in_proj_weight\", \"transformer.decoder.layers.1.self_attn.in_proj_bias\", \"transformer.decoder.layers.1.self_attn.out_proj.weight\", \"transformer.decoder.layers.1.self_attn.out_proj.bias\", \"transformer.decoder.layers.1.multihead_attn.in_proj_weight\", \"transformer.decoder.layers.1.multihead_attn.in_proj_bias\", \"transformer.decoder.layers.1.multihead_attn.out_proj.weight\", \"transformer.decoder.layers.1.multihead_attn.out_proj.bias\", \"transformer.decoder.layers.1.linear1.weight\", \"transformer.decoder.layers.1.linear1.bias\", \"transformer.decoder.layers.1.linear2.weight\", \"transformer.decoder.layers.1.linear2.bias\", \"transformer.decoder.layers.1.norm1.weight\", \"transformer.decoder.layers.1.norm1.bias\", \"transformer.decoder.layers.1.norm2.weight\", \"transformer.decoder.layers.1.norm2.bias\", \"transformer.decoder.layers.1.norm3.weight\", \"transformer.decoder.layers.1.norm3.bias\", \"transformer.decoder.layers.2.self_attn.in_proj_weight\", \"transformer.decoder.layers.2.self_attn.in_proj_bias\", \"transformer.decoder.layers.2.self_attn.out_proj.weight\", \"transformer.decoder.layers.2.self_attn.out_proj.bias\", \"transformer.decoder.layers.2.multihead_attn.in_proj_weight\", \"transformer.decoder.layers.2.multihead_attn.in_proj_bias\", \"transformer.decoder.layers.2.multihead_attn.out_proj.weight\", \"transformer.decoder.layers.2.multihead_attn.out_proj.bias\", \"transformer.decoder.layers.2.linear1.weight\", \"transformer.decoder.layers.2.linear1.bias\", \"transformer.decoder.layers.2.linear2.weight\", \"transformer.decoder.layers.2.linear2.bias\", \"transformer.decoder.layers.2.norm1.weight\", \"transformer.decoder.layers.2.norm1.bias\", \"transformer.decoder.layers.2.norm2.weight\", \"transformer.decoder.layers.2.norm2.bias\", \"transformer.decoder.layers.2.norm3.weight\", \"transformer.decoder.layers.2.norm3.bias\", \"transformer.decoder.layers.3.self_attn.in_proj_weight\", \"transformer.decoder.layers.3.self_attn.in_proj_bias\", \"transformer.decoder.layers.3.self_attn.out_proj.weight\", \"transformer.decoder.layers.3.self_attn.out_proj.bias\", \"transformer.decoder.layers.3.multihead_attn.in_proj_weight\", \"transformer.decoder.layers.3.multihead_attn.in_proj_bias\", \"transformer.decoder.layers.3.multihead_attn.out_proj.weight\", \"transformer.decoder.layers.3.multihead_attn.out_proj.bias\", \"transformer.decoder.layers.3.linear1.weight\", \"transformer.decoder.layers.3.linear1.bias\", \"transformer.decoder.layers.3.linear2.weight\", \"transformer.decoder.layers.3.linear2.bias\", \"transformer.decoder.layers.3.norm1.weight\", \"transformer.decoder.layers.3.norm1.bias\", \"transformer.decoder.layers.3.norm2.weight\", \"transformer.decoder.layers.3.norm2.bias\", \"transformer.decoder.layers.3.norm3.weight\", \"transformer.decoder.layers.3.norm3.bias\", \"transformer.decoder.layers.4.self_attn.in_proj_weight\", \"transformer.decoder.layers.4.self_attn.in_proj_bias\", \"transformer.decoder.layers.4.self_attn.out_proj.weight\", \"transformer.decoder.layers.4.self_attn.out_proj.bias\", \"transformer.decoder.layers.4.multihead_attn.in_proj_weight\", \"transformer.decoder.layers.4.multihead_attn.in_proj_bias\", \"transformer.decoder.layers.4.multihead_attn.out_proj.weight\", \"transformer.decoder.layers.4.multihead_attn.out_proj.bias\", \"transformer.decoder.layers.4.linear1.weight\", \"transformer.decoder.layers.4.linear1.bias\", \"transformer.decoder.layers.4.linear2.weight\", \"transformer.decoder.layers.4.linear2.bias\", \"transformer.decoder.layers.4.norm1.weight\", \"transformer.decoder.layers.4.norm1.bias\", \"transformer.decoder.layers.4.norm2.weight\", \"transformer.decoder.layers.4.norm2.bias\", \"transformer.decoder.layers.4.norm3.weight\", \"transformer.decoder.layers.4.norm3.bias\", \"transformer.decoder.layers.5.self_attn.in_proj_weight\", \"transformer.decoder.layers.5.self_attn.in_proj_bias\", \"transformer.decoder.layers.5.self_attn.out_proj.weight\", \"transformer.decoder.layers.5.self_attn.out_proj.bias\", \"transformer.decoder.layers.5.multihead_attn.in_proj_weight\", \"transformer.decoder.layers.5.multihead_attn.in_proj_bias\", \"transformer.decoder.layers.5.multihead_attn.out_proj.weight\", \"transformer.decoder.layers.5.multihead_attn.out_proj.bias\", \"transformer.decoder.layers.5.linear1.weight\", \"transformer.decoder.layers.5.linear1.bias\", \"transformer.decoder.layers.5.linear2.weight\", \"transformer.decoder.layers.5.linear2.bias\", \"transformer.decoder.layers.5.norm1.weight\", \"transformer.decoder.layers.5.norm1.bias\", \"transformer.decoder.layers.5.norm2.weight\", \"transformer.decoder.layers.5.norm2.bias\", \"transformer.decoder.layers.5.norm3.weight\", \"transformer.decoder.layers.5.norm3.bias\", \"transformer.decoder.norm.weight\", \"transformer.decoder.norm.bias\", \"tgt_embedding.variable.weight\", \"tgt_embedding.position.weight\", \"src_embedding.variable.weight\", \"out.weight\", \"out.bias\". \n\tUnexpected key(s) in state_dict: \"model.transformer.encoder.layers.0.self_attn.in_proj_weight\", \"model.transformer.encoder.layers.0.self_attn.in_proj_bias\", \"model.transformer.encoder.layers.0.self_attn.out_proj.weight\", \"model.transformer.encoder.layers.0.self_attn.out_proj.bias\", \"model.transformer.encoder.layers.0.linear1.weight\", \"model.transformer.encoder.layers.0.linear1.bias\", \"model.transformer.encoder.layers.0.linear2.weight\", \"model.transformer.encoder.layers.0.linear2.bias\", \"model.transformer.encoder.layers.0.norm1.weight\", \"model.transformer.encoder.layers.0.norm1.bias\", \"model.transformer.encoder.layers.0.norm2.weight\", \"model.transformer.encoder.layers.0.norm2.bias\", \"model.transformer.encoder.layers.1.self_attn.in_proj_weight\", \"model.transformer.encoder.layers.1.self_attn.in_proj_bias\", \"model.transformer.encoder.layers.1.self_attn.out_proj.weight\", \"model.transformer.encoder.layers.1.self_attn.out_proj.bias\", \"model.transformer.encoder.layers.1.linear1.weight\", \"model.transformer.encoder.layers.1.linear1.bias\", \"model.transformer.encoder.layers.1.linear2.weight\", \"model.transformer.encoder.layers.1.linear2.bias\", \"model.transformer.encoder.layers.1.norm1.weight\", \"model.transformer.encoder.layers.1.norm1.bias\", \"model.transformer.encoder.layers.1.norm2.weight\", \"model.transformer.encoder.layers.1.norm2.bias\", \"model.transformer.encoder.layers.2.self_attn.in_proj_weight\", \"model.transformer.encoder.layers.2.self_attn.in_proj_bias\", \"model.transformer.encoder.layers.2.self_attn.out_proj.weight\", \"model.transformer.encoder.layers.2.self_attn.out_proj.bias\", \"model.transformer.encoder.layers.2.linear1.weight\", \"model.transformer.encoder.layers.2.linear1.bias\", \"model.transformer.encoder.layers.2.linear2.weight\", \"model.transformer.encoder.layers.2.linear2.bias\", \"model.transformer.encoder.layers.2.norm1.weight\", \"model.transformer.encoder.layers.2.norm1.bias\", \"model.transformer.encoder.layers.2.norm2.weight\", \"model.transformer.encoder.layers.2.norm2.bias\", \"model.transformer.encoder.layers.3.self_attn.in_proj_weight\", \"model.transformer.encoder.layers.3.self_attn.in_proj_bias\", \"model.transformer.encoder.layers.3.self_attn.out_proj.weight\", \"model.transformer.encoder.layers.3.self_attn.out_proj.bias\", \"model.transformer.encoder.layers.3.linear1.weight\", \"model.transformer.encoder.layers.3.linear1.bias\", \"model.transformer.encoder.layers.3.linear2.weight\", \"model.transformer.encoder.layers.3.linear2.bias\", \"model.transformer.encoder.layers.3.norm1.weight\", \"model.transformer.encoder.layers.3.norm1.bias\", \"model.transformer.encoder.layers.3.norm2.weight\", \"model.transformer.encoder.layers.3.norm2.bias\", \"model.transformer.encoder.layers.4.self_attn.in_proj_weight\", \"model.transformer.encoder.layers.4.self_attn.in_proj_bias\", \"model.transformer.encoder.layers.4.self_attn.out_proj.weight\", \"model.transformer.encoder.layers.4.self_attn.out_proj.bias\", \"model.transformer.encoder.layers.4.linear1.weight\", \"model.transformer.encoder.layers.4.linear1.bias\", \"model.transformer.encoder.layers.4.linear2.weight\", \"model.transformer.encoder.layers.4.linear2.bias\", \"model.transformer.encoder.layers.4.norm1.weight\", \"model.transformer.encoder.layers.4.norm1.bias\", \"model.transformer.encoder.layers.4.norm2.weight\", \"model.transformer.encoder.layers.4.norm2.bias\", \"model.transformer.encoder.layers.5.self_attn.in_proj_weight\", \"model.transformer.encoder.layers.5.self_attn.in_proj_bias\", \"model.transformer.encoder.layers.5.self_attn.out_proj.weight\", \"model.transformer.encoder.layers.5.self_attn.out_proj.bias\", \"model.transformer.encoder.layers.5.linear1.weight\", \"model.transformer.encoder.layers.5.linear1.bias\", \"model.transformer.encoder.layers.5.linear2.weight\", \"model.transformer.encoder.layers.5.linear2.bias\", \"model.transformer.encoder.layers.5.norm1.weight\", \"model.transformer.encoder.layers.5.norm1.bias\", \"model.transformer.encoder.layers.5.norm2.weight\", \"model.transformer.encoder.layers.5.norm2.bias\", \"model.transformer.encoder.norm.weight\", \"model.transformer.encoder.norm.bias\", \"model.transformer.decoder.layers.0.self_attn.in_proj_weight\", \"model.transformer.decoder.layers.0.self_attn.in_proj_bias\", \"model.transformer.decoder.layers.0.self_attn.out_proj.weight\", \"model.transformer.decoder.layers.0.self_attn.out_proj.bias\", \"model.transformer.decoder.layers.0.multihead_attn.in_proj_weight\", \"model.transformer.decoder.layers.0.multihead_attn.in_proj_bias\", \"model.transformer.decoder.layers.0.multihead_attn.out_proj.weight\", \"model.transformer.decoder.layers.0.multihead_attn.out_proj.bias\", \"model.transformer.decoder.layers.0.linear1.weight\", \"model.transformer.decoder.layers.0.linear1.bias\", \"model.transformer.decoder.layers.0.linear2.weight\", \"model.transformer.decoder.layers.0.linear2.bias\", \"model.transformer.decoder.layers.0.norm1.weight\", \"model.transformer.decoder.layers.0.norm1.bias\", \"model.transformer.decoder.layers.0.norm2.weight\", \"model.transformer.decoder.layers.0.norm2.bias\", \"model.transformer.decoder.layers.0.norm3.weight\", \"model.transformer.decoder.layers.0.norm3.bias\", \"model.transformer.decoder.layers.1.self_attn.in_proj_weight\", \"model.transformer.decoder.layers.1.self_attn.in_proj_bias\", \"model.transformer.decoder.layers.1.self_attn.out_proj.weight\", \"model.transformer.decoder.layers.1.self_attn.out_proj.bias\", \"model.transformer.decoder.layers.1.multihead_attn.in_proj_weight\", \"model.transformer.decoder.layers.1.multihead_attn.in_proj_bias\", \"model.transformer.decoder.layers.1.multihead_attn.out_proj.weight\", \"model.transformer.decoder.layers.1.multihead_attn.out_proj.bias\", \"model.transformer.decoder.layers.1.linear1.weight\", \"model.transformer.decoder.layers.1.linear1.bias\", \"model.transformer.decoder.layers.1.linear2.weight\", \"model.transformer.decoder.layers.1.linear2.bias\", \"model.transformer.decoder.layers.1.norm1.weight\", \"model.transformer.decoder.layers.1.norm1.bias\", \"model.transformer.decoder.layers.1.norm2.weight\", \"model.transformer.decoder.layers.1.norm2.bias\", \"model.transformer.decoder.layers.1.norm3.weight\", \"model.transformer.decoder.layers.1.norm3.bias\", \"model.transformer.decoder.layers.2.self_attn.in_proj_weight\", \"model.transformer.decoder.layers.2.self_attn.in_proj_bias\", \"model.transformer.decoder.layers.2.self_attn.out_proj.weight\", \"model.transformer.decoder.layers.2.self_attn.out_proj.bias\", \"model.transformer.decoder.layers.2.multihead_attn.in_proj_weight\", \"model.transformer.decoder.layers.2.multihead_attn.in_proj_bias\", \"model.transformer.decoder.layers.2.multihead_attn.out_proj.weight\", \"model.transformer.decoder.layers.2.multihead_attn.out_proj.bias\", \"model.transformer.decoder.layers.2.linear1.weight\", \"model.transformer.decoder.layers.2.linear1.bias\", \"model.transformer.decoder.layers.2.linear2.weight\", \"model.transformer.decoder.layers.2.linear2.bias\", \"model.transformer.decoder.layers.2.norm1.weight\", \"model.transformer.decoder.layers.2.norm1.bias\", \"model.transformer.decoder.layers.2.norm2.weight\", \"model.transformer.decoder.layers.2.norm2.bias\", \"model.transformer.decoder.layers.2.norm3.weight\", \"model.transformer.decoder.layers.2.norm3.bias\", \"model.transformer.decoder.layers.3.self_attn.in_proj_weight\", \"model.transformer.decoder.layers.3.self_attn.in_proj_bias\", \"model.transformer.decoder.layers.3.self_attn.out_proj.weight\", \"model.transformer.decoder.layers.3.self_attn.out_proj.bias\", \"model.transformer.decoder.layers.3.multihead_attn.in_proj_weight\", \"model.transformer.decoder.layers.3.multihead_attn.in_proj_bias\", \"model.transformer.decoder.layers.3.multihead_attn.out_proj.weight\", \"model.transformer.decoder.layers.3.multihead_attn.out_proj.bias\", \"model.transformer.decoder.layers.3.linear1.weight\", \"model.transformer.decoder.layers.3.linear1.bias\", \"model.transformer.decoder.layers.3.linear2.weight\", \"model.transformer.decoder.layers.3.linear2.bias\", \"model.transformer.decoder.layers.3.norm1.weight\", \"model.transformer.decoder.layers.3.norm1.bias\", \"model.transformer.decoder.layers.3.norm2.weight\", \"model.transformer.decoder.layers.3.norm2.bias\", \"model.transformer.decoder.layers.3.norm3.weight\", \"model.transformer.decoder.layers.3.norm3.bias\", \"model.transformer.decoder.layers.4.self_attn.in_proj_weight\", \"model.transformer.decoder.layers.4.self_attn.in_proj_bias\", \"model.transformer.decoder.layers.4.self_attn.out_proj.weight\", \"model.transformer.decoder.layers.4.self_attn.out_proj.bias\", \"model.transformer.decoder.layers.4.multihead_attn.in_proj_weight\", \"model.transformer.decoder.layers.4.multihead_attn.in_proj_bias\", \"model.transformer.decoder.layers.4.multihead_attn.out_proj.weight\", \"model.transformer.decoder.layers.4.multihead_attn.out_proj.bias\", \"model.transformer.decoder.layers.4.linear1.weight\", \"model.transformer.decoder.layers.4.linear1.bias\", \"model.transformer.decoder.layers.4.linear2.weight\", \"model.transformer.decoder.layers.4.linear2.bias\", \"model.transformer.decoder.layers.4.norm1.weight\", \"model.transformer.decoder.layers.4.norm1.bias\", \"model.transformer.decoder.layers.4.norm2.weight\", \"model.transformer.decoder.layers.4.norm2.bias\", \"model.transformer.decoder.layers.4.norm3.weight\", \"model.transformer.decoder.layers.4.norm3.bias\", \"model.transformer.decoder.layers.5.self_attn.in_proj_weight\", \"model.transformer.decoder.layers.5.self_attn.in_proj_bias\", \"model.transformer.decoder.layers.5.self_attn.out_proj.weight\", \"model.transformer.decoder.layers.5.self_attn.out_proj.bias\", \"model.transformer.decoder.layers.5.multihead_attn.in_proj_weight\", \"model.transformer.decoder.layers.5.multihead_attn.in_proj_bias\", \"model.transformer.decoder.layers.5.multihead_attn.out_proj.weight\", \"model.transformer.decoder.layers.5.multihead_attn.out_proj.bias\", \"model.transformer.decoder.layers.5.linear1.weight\", \"model.transformer.decoder.layers.5.linear1.bias\", \"model.transformer.decoder.layers.5.linear2.weight\", \"model.transformer.decoder.layers.5.linear2.bias\", \"model.transformer.decoder.layers.5.norm1.weight\", \"model.transformer.decoder.layers.5.norm1.bias\", \"model.transformer.decoder.layers.5.norm2.weight\", \"model.transformer.decoder.layers.5.norm2.bias\", \"model.transformer.decoder.layers.5.norm3.weight\", \"model.transformer.decoder.layers.5.norm3.bias\", \"model.transformer.decoder.norm.weight\", \"model.transformer.decoder.norm.bias\", \"model.tgt_embedding.variable.weight\", \"model.tgt_embedding.position.weight\", \"model.src_embedding.variable.weight\", \"model.out.weight\", \"model.out.bias\". "
     ]
    }
   ],
   "source": [
    "import yaml\n",
    "import logging\n",
    "import os\n",
    "\n",
    "config_path = os.path.join(os.path.dirname(os.getcwd()), 'configs/train_config.yaml')\n",
    "\n",
    "try:\n",
    "    with open(config_path) as f:\n",
    "            config_dict = yaml.safe_load(f)\n",
    "            config: TrainingRunConfig = TrainingRunConfig.parse_obj(config_dict)\n",
    "except FileNotFoundError:\n",
    "        logging.error(f\"Config file {config_path} does not exist. Exiting.\")\n",
    "except yaml.YAMLError:\n",
    "        logging.error(f\"Config file {config_path} is not valid YAML. Exiting.\")\n",
    "\n",
    "model = VariableAnalyzer(\n",
    "            var_len=shape[1],\n",
    "            time_len=time_len,\n",
    "            dim_model=shape[2],\n",
    "            predict_dim=dims[0],\n",
    "            batch_size=config.training.batch_size,\n",
    "            num_heads=config.model.num_heads,\n",
    "            n_encoder_layers=config.model.n_encoder_layers,\n",
    "            n_decoder_layers=config.model.n_decoder_layers,\n",
    "            dropout=config.model.dropout\n",
    "        )\n",
    "\n",
    "checkpoint = torch.load('/workspace/Haea/models/VariableAnalyzer/tb_logs/lightning_logs/bnc1ycog/checkpoints/epoch=19-step=25540.ckpt')\n",
    "\n",
    "model.load_state_dict(checkpoint[\"state_dict\"])"
   ]
  }
 ],
 "metadata": {
  "kernelspec": {
   "display_name": "venv",
   "language": "python",
   "name": "python3"
  },
  "language_info": {
   "codemirror_mode": {
    "name": "ipython",
    "version": 3
   },
   "file_extension": ".py",
   "mimetype": "text/x-python",
   "name": "python",
   "nbconvert_exporter": "python",
   "pygments_lexer": "ipython3",
   "version": "3.10.13"
  }
 },
 "nbformat": 4,
 "nbformat_minor": 2
}
