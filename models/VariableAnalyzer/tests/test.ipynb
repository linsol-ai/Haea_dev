{
 "cells": [
  {
   "cell_type": "code",
   "execution_count": 1,
   "metadata": {},
   "outputs": [],
   "source": [
    "%load_ext autoreload\n",
    "%autoreload 2\n",
    "import sys,os\n",
    "import torch\n",
    "current_directory = os.getcwd()\n",
    "sys.path.append(os.path.dirname(os.path.abspath(os.path.dirname(os.path.abspath(os.path.dirname(current_directory))))))\n",
    "from datasets.weather_bench import WeatherDataset"
   ]
  },
  {
   "cell_type": "code",
   "execution_count": 2,
   "metadata": {},
   "outputs": [
    {
     "name": "stdout",
     "output_type": "stream",
     "text": [
      "데이터셋 불러오는 중...\n",
      "==== LOAD DATASET ====\n",
      " <xarray.Dataset>\n",
      "Dimensions:                   (time: 7309, latitude: 28, longitude: 28,\n",
      "                               level: 13)\n",
      "Coordinates:\n",
      "  * latitude                  (latitude) float32 39.0 38.75 38.5 ... 32.5 32.25\n",
      "  * level                     (level) int64 50 100 150 200 ... 700 850 925 1000\n",
      "  * longitude                 (longitude) float32 124.2 124.5 ... 130.8 131.0\n",
      "  * time                      (time) datetime64[ns] 2011-12-31 ... 2016-12-31\n",
      "Data variables: (12/14)\n",
      "    10m_u_component_of_wind   (time, latitude, longitude) float32 ...\n",
      "    10m_v_component_of_wind   (time, latitude, longitude) float32 ...\n",
      "    2m_temperature            (time, latitude, longitude) float32 ...\n",
      "    geopotential              (time, level, latitude, longitude) float32 ...\n",
      "    mean_sea_level_pressure   (time, latitude, longitude) float32 ...\n",
      "    sea_surface_temperature   (time, latitude, longitude) float32 ...\n",
      "    ...                        ...\n",
      "    total_cloud_cover         (time, latitude, longitude) float32 ...\n",
      "    total_precipitation_24hr  (time, latitude, longitude) float32 ...\n",
      "    total_precipitation_6hr   (time, latitude, longitude) float32 ...\n",
      "    u_component_of_wind       (time, level, latitude, longitude) float32 ...\n",
      "    v_component_of_wind       (time, level, latitude, longitude) float32 ...\n",
      "    vertical_velocity         (time, level, latitude, longitude) float32 ...\n"
     ]
    },
    {
     "name": "stderr",
     "output_type": "stream",
     "text": [
      "Processing futures: 0it [00:00, ?it/s]"
     ]
    },
    {
     "name": "stderr",
     "output_type": "stream",
     "text": [
      "Processing futures: 13it [00:01, 10.76it/s]\n",
      "Processing futures: 2it [00:02,  1.10s/it]\n"
     ]
    },
    {
     "name": "stdout",
     "output_type": "stream",
     "text": [
      "3.74402 sec\n",
      "==== LOAD DATASET ====\n",
      " <xarray.Dataset>\n",
      "Dimensions:                   (time: 7309, longitude: 14, latitude: 33,\n",
      "                               level: 13)\n",
      "Coordinates:\n",
      "  * latitude                  (latitude) float64 21.0 22.5 24.0 ... 67.5 69.0\n",
      "  * level                     (level) int64 50 100 150 200 ... 700 850 925 1000\n",
      "  * longitude                 (longitude) float64 121.5 123.0 ... 139.5 141.0\n",
      "  * time                      (time) datetime64[ns] 2011-12-31 ... 2016-12-31\n",
      "Data variables: (12/14)\n",
      "    10m_u_component_of_wind   (time, longitude, latitude) float32 ...\n",
      "    10m_v_component_of_wind   (time, longitude, latitude) float32 ...\n",
      "    2m_temperature            (time, longitude, latitude) float32 ...\n",
      "    geopotential              (time, level, longitude, latitude) float32 ...\n",
      "    mean_sea_level_pressure   (time, longitude, latitude) float32 ...\n",
      "    sea_surface_temperature   (time, longitude, latitude) float32 ...\n",
      "    ...                        ...\n",
      "    total_cloud_cover         (time, longitude, latitude) float32 ...\n",
      "    total_precipitation_24hr  (time, longitude, latitude) float32 ...\n",
      "    total_precipitation_6hr   (time, longitude, latitude) float32 ...\n",
      "    u_component_of_wind       (time, level, longitude, latitude) float32 ...\n",
      "    v_component_of_wind       (time, level, longitude, latitude) float32 ...\n",
      "    vertical_velocity         (time, level, longitude, latitude) float32 ...\n"
     ]
    },
    {
     "name": "stderr",
     "output_type": "stream",
     "text": [
      "Processing futures: 13it [00:00, 18.45it/s]\n",
      "Processing futures: 2it [00:01,  1.87it/s]\n"
     ]
    },
    {
     "name": "stdout",
     "output_type": "stream",
     "text": [
      "2.02509 sec\n",
      "==== LOAD DATASET ====\n",
      " <xarray.Dataset>\n",
      "Dimensions:                   (time: 7309, longitude: 17, latitude: 12,\n",
      "                               level: 13)\n",
      "Coordinates:\n",
      "  * latitude                  (latitude) float64 2.903 8.71 ... 60.97 66.77\n",
      "  * level                     (level) int64 50 100 150 200 ... 700 850 925 1000\n",
      "  * longitude                 (longitude) float64 90.0 95.62 ... 174.4 180.0\n",
      "  * time                      (time) datetime64[ns] 2011-12-31 ... 2016-12-31\n",
      "Data variables: (12/14)\n",
      "    10m_u_component_of_wind   (time, longitude, latitude) float32 ...\n",
      "    10m_v_component_of_wind   (time, longitude, latitude) float32 ...\n",
      "    2m_temperature            (time, longitude, latitude) float32 ...\n",
      "    geopotential              (time, level, longitude, latitude) float32 ...\n",
      "    mean_sea_level_pressure   (time, longitude, latitude) float32 ...\n",
      "    sea_surface_temperature   (time, longitude, latitude) float32 ...\n",
      "    ...                        ...\n",
      "    total_cloud_cover         (time, longitude, latitude) float32 ...\n",
      "    total_precipitation_24hr  (time, longitude, latitude) float32 ...\n",
      "    total_precipitation_6hr   (time, longitude, latitude) float32 ...\n",
      "    u_component_of_wind       (time, level, longitude, latitude) float32 ...\n",
      "    v_component_of_wind       (time, level, longitude, latitude) float32 ...\n",
      "    vertical_velocity         (time, level, longitude, latitude) float32 ...\n"
     ]
    },
    {
     "name": "stderr",
     "output_type": "stream",
     "text": [
      "Processing futures: 13it [00:00, 34.93it/s]\n",
      "Processing futures: 2it [00:00,  4.16it/s]\n"
     ]
    },
    {
     "name": "stdout",
     "output_type": "stream",
     "text": [
      "1.06547 sec\n",
      "======= RESULT SHAPE =======\n",
      "result_dataset.shape:  torch.Size([7309, 99, 1450])\n"
     ]
    }
   ],
   "source": [
    "device = (\"cuda\" if torch.cuda.is_available() else \"cpu\" )\n",
    "device = torch.device(device)\n",
    "\n",
    "weather = WeatherDataset(1, device=device, normalize=True)\n",
    "# dataset.shape:  torch.Size([7309, 100, 1450])\n",
    "original = weather.load()"
   ]
  },
  {
   "cell_type": "code",
   "execution_count": 5,
   "metadata": {},
   "outputs": [
    {
     "name": "stdout",
     "output_type": "stream",
     "text": [
      "torch.Size([1450])\n"
     ]
    },
    {
     "ename": "",
     "evalue": "",
     "output_type": "error",
     "traceback": [
      "\u001b[1;31m현재 셀 또는 이전 셀에서 코드를 실행하는 동안 Kernel이 충돌했습니다. \n",
      "\u001b[1;31m셀의 코드를 검토하여 가능한 오류 원인을 식별하세요. \n",
      "\u001b[1;31m자세한 내용을 보려면 <a href='https://aka.ms/vscodeJupyterKernelCrash'>여기</a>를 클릭하세요. \n",
      "\u001b[1;31m자세한 내용은 Jupyter <a href='command:jupyter.viewOutput'>로그</a>를 참조하세요."
     ]
    }
   ],
   "source": [
    "print(original[0][0][-1])"
   ]
  },
  {
   "cell_type": "code",
   "execution_count": 14,
   "metadata": {},
   "outputs": [
    {
     "name": "stdout",
     "output_type": "stream",
     "text": [
      "The autoreload extension is already loaded. To reload it, use:\n",
      "  %reload_ext autoreload\n"
     ]
    }
   ],
   "source": [
    "%load_ext autoreload\n",
    "%autoreload 2\n",
    "from models.VariableAnalyzer.datasets.dataset import CustomDataset\n",
    "dataset = CustomDataset(original[0], 4 * 7, device)"
   ]
  },
  {
   "cell_type": "code",
   "execution_count": 16,
   "metadata": {},
   "outputs": [
    {
     "name": "stdout",
     "output_type": "stream",
     "text": [
      "torch.Size([29, 99, 1450])\n"
     ]
    }
   ],
   "source": [
    "print(dataset[3].shape)"
   ]
  },
  {
   "cell_type": "code",
   "execution_count": 17,
   "metadata": {},
   "outputs": [],
   "source": [
    "from torch.utils.data import DataLoader, Dataset\n",
    "\n",
    "dataloader = DataLoader(dataset, 32, shuffle=True)"
   ]
  },
  {
   "cell_type": "code",
   "execution_count": 18,
   "metadata": {},
   "outputs": [
    {
     "name": "stdout",
     "output_type": "stream",
     "text": [
      "228\n"
     ]
    }
   ],
   "source": [
    "print(len(dataloader))"
   ]
  },
  {
   "cell_type": "code",
   "execution_count": 19,
   "metadata": {},
   "outputs": [
    {
     "name": "stdout",
     "output_type": "stream",
     "text": [
      "0\n",
      "1\n",
      "2\n",
      "3\n",
      "4\n",
      "5\n",
      "6\n",
      "7\n",
      "8\n",
      "9\n",
      "10\n",
      "11\n",
      "12\n",
      "13\n",
      "14\n",
      "15\n",
      "16\n",
      "17\n",
      "18\n",
      "19\n",
      "20\n",
      "21\n",
      "22\n",
      "23\n",
      "24\n",
      "25\n",
      "26\n",
      "27\n",
      "28\n",
      "29\n",
      "30\n",
      "31\n",
      "32\n",
      "33\n",
      "34\n",
      "35\n",
      "36\n",
      "37\n",
      "38\n",
      "39\n",
      "40\n",
      "41\n",
      "42\n",
      "43\n",
      "44\n",
      "45\n",
      "46\n",
      "47\n",
      "48\n",
      "49\n",
      "50\n",
      "51\n",
      "52\n",
      "53\n",
      "54\n",
      "55\n",
      "56\n"
     ]
    }
   ],
   "source": [
    "for i, batch in enumerate(dataloader):\n",
    "    print(i)"
   ]
  },
  {
   "cell_type": "code",
   "execution_count": 50,
   "metadata": {},
   "outputs": [
    {
     "name": "stdout",
     "output_type": "stream",
     "text": [
      "The autoreload extension is already loaded. To reload it, use:\n",
      "  %reload_ext autoreload\n"
     ]
    }
   ],
   "source": [
    "%load_ext autoreload\n",
    "%autoreload 2\n",
    "from models.VariableAnalyzer.models.model import VariableAnalyzer\n",
    "\n",
    "model = VariableAnalyzer(100, 4 * 7, 1450, 10, 3, 3).to(device)"
   ]
  },
  {
   "cell_type": "code",
   "execution_count": 57,
   "metadata": {},
   "outputs": [
    {
     "name": "stdout",
     "output_type": "stream",
     "text": [
      "torch.Size([32, 2800])\n"
     ]
    }
   ],
   "source": [
    "for i, batch in enumerate(dataloader):\n",
    "    print(model.get_time_seq(batch).)\n",
    "    if i == 0:\n",
    "        break"
   ]
  },
  {
   "cell_type": "code",
   "execution_count": 26,
   "metadata": {},
   "outputs": [
    {
     "name": "stdout",
     "output_type": "stream",
     "text": [
      "(slice(0, 3, None), 1)\n"
     ]
    },
    {
     "ename": "TypeError",
     "evalue": "list indices must be integers or slices, not tuple",
     "output_type": "error",
     "traceback": [
      "\u001b[0;31m---------------------------------------------------------------------------\u001b[0m",
      "\u001b[0;31mTypeError\u001b[0m                                 Traceback (most recent call last)",
      "Cell \u001b[0;32mIn[26], line 9\u001b[0m\n\u001b[1;32m      5\u001b[0m             time_seq\u001b[38;5;241m.\u001b[39mextend(seq)\n\u001b[1;32m      6\u001b[0m         \u001b[38;5;28;01mreturn\u001b[39;00m torch\u001b[38;5;241m.\u001b[39mtensor([time_seq \u001b[38;5;28;01mfor\u001b[39;00m _ \u001b[38;5;129;01min\u001b[39;00m \u001b[38;5;28mrange\u001b[39m(src\u001b[38;5;241m.\u001b[39msize(\u001b[38;5;241m0\u001b[39m))])\n\u001b[0;32m----> 9\u001b[0m \u001b[38;5;28mprint\u001b[39m(get_time_seq(\u001b[43mdataset\u001b[49m\u001b[43m[\u001b[49m\u001b[38;5;241;43m0\u001b[39;49m\u001b[43m:\u001b[49m\u001b[38;5;241;43m3\u001b[39;49m\u001b[43m,\u001b[49m\u001b[43m \u001b[49m\u001b[38;5;241;43m1\u001b[39;49m\u001b[43m]\u001b[49m))\n",
      "File \u001b[0;32m/workspace/Haea/models/VariableAnalyzer/datasets/dataset.py:44\u001b[0m, in \u001b[0;36mCustomDataset.__getitem__\u001b[0;34m(self, item)\u001b[0m\n\u001b[1;32m     42\u001b[0m \u001b[38;5;28;01mdef\u001b[39;00m \u001b[38;5;21m__getitem__\u001b[39m(\u001b[38;5;28mself\u001b[39m, item):\n\u001b[1;32m     43\u001b[0m     \u001b[38;5;28mprint\u001b[39m(item)\n\u001b[0;32m---> 44\u001b[0m     src, tgt \u001b[38;5;241m=\u001b[39m \u001b[38;5;28;43mself\u001b[39;49m\u001b[38;5;241;43m.\u001b[39;49m\u001b[43mdataset_inc\u001b[49m\u001b[43m[\u001b[49m\u001b[43mitem\u001b[49m\u001b[43m]\u001b[49m\n\u001b[1;32m     45\u001b[0m     \u001b[38;5;28;01mreturn\u001b[39;00m \u001b[38;5;28mself\u001b[39m\u001b[38;5;241m.\u001b[39mget_data(src), \u001b[38;5;28mself\u001b[39m\u001b[38;5;241m.\u001b[39mget_data(tgt)\n",
      "\u001b[0;31mTypeError\u001b[0m: list indices must be integers or slices, not tuple"
     ]
    }
   ],
   "source": [
    "def get_time_seq(src: torch.Tensor):\n",
    "        time_seq = []\n",
    "        for i in range(4 * 7):\n",
    "            seq = [i for _ in range(100)]\n",
    "            time_seq.extend(seq)\n",
    "        return torch.tensor([time_seq for _ in range(src.size(0))])\n",
    "\n",
    "\n",
    "for i, batch in enumerate(dataloader):\n",
    "    print()\n",
    "    if i == 0:\n",
    "        break"
   ]
  }
 ],
 "metadata": {
  "kernelspec": {
   "display_name": "venv",
   "language": "python",
   "name": "python3"
  },
  "language_info": {
   "codemirror_mode": {
    "name": "ipython",
    "version": 3
   },
   "file_extension": ".py",
   "mimetype": "text/x-python",
   "name": "python",
   "nbconvert_exporter": "python",
   "pygments_lexer": "ipython3",
   "version": "3.10.13"
  }
 },
 "nbformat": 4,
 "nbformat_minor": 2
}
