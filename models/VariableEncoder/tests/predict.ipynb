{
 "cells": [
  {
   "cell_type": "code",
   "execution_count": 1,
   "metadata": {},
   "outputs": [
    {
     "name": "stdout",
     "output_type": "stream",
     "text": [
      "데이터셋 불러오는 중...\n",
      "==== LOAD DATASET ====\n",
      " <xarray.Dataset>\n",
      "Dimensions:                    (time: 87649, latitude: 36, longitude: 36,\n",
      "                                level: 37)\n",
      "Coordinates:\n",
      "  * latitude                   (latitude) float64 20.04 20.74 ... 43.95 44.65\n",
      "  * level                      (level) int64 1 2 3 5 7 ... 900 925 950 975 1000\n",
      "  * longitude                  (longitude) float64 115.3 116.0 ... 139.2 139.9\n",
      "  * time                       (time) datetime64[ns] 2013-01-01 ... 2023-01-01\n",
      "Data variables: (12/14)\n",
      "    10m_u_component_of_wind    (time, latitude, longitude) float32 dask.array<chunksize=(256, 36, 36), meta=np.ndarray>\n",
      "    10m_v_component_of_wind    (time, latitude, longitude) float32 dask.array<chunksize=(256, 36, 36), meta=np.ndarray>\n",
      "    2m_temperature             (time, latitude, longitude) float32 dask.array<chunksize=(256, 36, 36), meta=np.ndarray>\n",
      "    geopotential               (time, level, latitude, longitude) float32 dask.array<chunksize=(256, 37, 36, 36), meta=np.ndarray>\n",
      "    mean_sea_level_pressure    (time, latitude, longitude) float32 dask.array<chunksize=(256, 36, 36), meta=np.ndarray>\n",
      "    specific_humidity          (time, level, latitude, longitude) float32 dask.array<chunksize=(256, 37, 36, 36), meta=np.ndarray>\n",
      "    ...                         ...\n",
      "    total_column_water         (time, latitude, longitude) float32 dask.array<chunksize=(256, 36, 36), meta=np.ndarray>\n",
      "    total_column_water_vapour  (time, latitude, longitude) float32 dask.array<chunksize=(256, 36, 36), meta=np.ndarray>\n",
      "    total_precipitation        (time, latitude, longitude) float32 dask.array<chunksize=(256, 36, 36), meta=np.ndarray>\n",
      "    u_component_of_wind        (time, level, latitude, longitude) float32 dask.array<chunksize=(256, 37, 36, 36), meta=np.ndarray>\n",
      "    v_component_of_wind        (time, level, latitude, longitude) float32 dask.array<chunksize=(256, 37, 36, 36), meta=np.ndarray>\n",
      "    vertical_velocity          (time, level, latitude, longitude) float32 dask.array<chunksize=(256, 37, 36, 36), meta=np.ndarray>\n"
     ]
    },
    {
     "name": "stderr",
     "output_type": "stream",
     "text": [
      "100%|██████████| 12/12 [00:47<00:00,  3.99s/it]\n"
     ]
    },
    {
     "name": "stdout",
     "output_type": "stream",
     "text": [
      "52.47678 sec\n"
     ]
    }
   ],
   "source": [
    "import sys,os\n",
    "import torch\n",
    "import yaml\n",
    "import logging\n",
    "from pydantic import ValidationError\n",
    "\n",
    "sys.path.append(os.path.dirname(os.path.abspath(os.path.dirname(os.path.abspath(os.path.dirname(os.getcwd()))))))\n",
    "from datasets.weather_bench import WeatherDataset\n",
    "from models.VariableEncoder.datasets.dataset import CustomDataset\n",
    "from models.VariableEncoder.training.configs import TrainingConfig\n",
    "from models.VariableEncoder.training.configs import TrainingRunConfig\n",
    "\n",
    "def get_normal_dataset(config: TrainingConfig):\n",
    "    tgt_time_len = 1 * config.tgt_time_len\n",
    "    device = (\"cuda\" if torch.cuda.is_available() else \"cpu\" )\n",
    "    device = torch.device(device)\n",
    "\n",
    "    weather = WeatherDataset(config.train_offset, device=device)\n",
    "    # dataset.shape:  torch.Size([7309, 100, 1450])\n",
    "    source, mean_std = weather.load_one(config.air_variable, config.surface_variable, config.only_input_variable, \n",
    "                                        config.constant_variable, config.train_start, config.train_end)\n",
    "    dataset = CustomDataset(source, tgt_time_len, n_only_input=len(config.only_input_variable)+len(config.constant_variable))\n",
    "    src_var_list = weather.get_var_code(config.air_variable, config.surface_variable + config.only_input_variable+config.constant_variable)\n",
    "    tgt_var_list = weather.get_var_code(config.air_variable, config.surface_variable)\n",
    "    return dataset, mean_std, (src_var_list, tgt_var_list)\n",
    "\n",
    "config_path = os.path.join(os.path.dirname(os.getcwd()), 'configs/train_config.yaml')\n",
    "\n",
    "try:\n",
    "    with open(config_path) as f:\n",
    "        config_dict = yaml.safe_load(f)\n",
    "    config: TrainingRunConfig = TrainingRunConfig.parse_obj(config_dict)\n",
    "except FileNotFoundError:\n",
    "    logging.error(f\"Config file {config_path} does not exist. Exiting.\")\n",
    "except yaml.YAMLError:\n",
    "    logging.error(f\"Config file {config_path} is not valid YAML. Exiting.\")\n",
    "except ValidationError as e:\n",
    "    logging.error(f\"Config file {config_path} is not valid. Exiting.\\n{e}\")\n",
    "\n",
    "\n",
    "dataset, mean_std, var_list = get_normal_dataset(config.training)"
   ]
  },
  {
   "cell_type": "code",
   "execution_count": 2,
   "metadata": {},
   "outputs": [
    {
     "name": "stderr",
     "output_type": "stream",
     "text": [
      "/workspace/venv/lib/python3.10/site-packages/pytorch_lightning/utilities/parsing.py:198: Attribute 'model' is an instance of `nn.Module` and is already saved during checkpointing. It is recommended to ignore them using `self.save_hyperparameters(ignore=['model'])`.\n"
     ]
    }
   ],
   "source": [
    "%load_ext autoreload\n",
    "%autoreload 2\n",
    "\n",
    "from models.VariableEncoder.training.lightning import TrainModule\n",
    "\n",
    "model = TrainModule.load_from_checkpoint('/workspace/Haea_dev/models/VariableEncoder/tb_logs/lightning_logs/3u8ictz8/checkpoints/epoch=4-step=21910.ckpt')"
   ]
  },
  {
   "cell_type": "code",
   "execution_count": 3,
   "metadata": {},
   "outputs": [],
   "source": [
    "import matplotlib.pyplot as plt\n",
    "import numpy as np\n",
    "\n",
    "def visualize(loss: torch.Tensor, title):\n",
    "    print(loss.min())\n",
    "    plt.plot(loss, label=\"rmse loss\")\n",
    "    plt.title(title)\n",
    "    plt.show()"
   ]
  },
  {
   "cell_type": "code",
   "execution_count": 4,
   "metadata": {},
   "outputs": [],
   "source": [
    "from torch.utils.data import DataLoader\n",
    "\n",
    "data_loader = DataLoader(dataset, batch_size=16, shuffle=True, drop_last=True)\n",
    "\n",
    "loss_set = []\n",
    "\n",
    "for batch in data_loader:\n",
    "    # loss.shape = (var_len, batch, time_len)\n",
    "    loss = model(batch)\n",
    "    loss_set.append(loss)\n",
    "\n",
    "\n",
    "loss_set = torch.cat(loss_set, dim=1)"
   ]
  }
 ],
 "metadata": {
  "kernelspec": {
   "display_name": "venv",
   "language": "python",
   "name": "python3"
  },
  "language_info": {
   "codemirror_mode": {
    "name": "ipython",
    "version": 3
   },
   "file_extension": ".py",
   "mimetype": "text/x-python",
   "name": "python",
   "nbconvert_exporter": "python",
   "pygments_lexer": "ipython3",
   "version": "3.10.13"
  }
 },
 "nbformat": 4,
 "nbformat_minor": 2
}
