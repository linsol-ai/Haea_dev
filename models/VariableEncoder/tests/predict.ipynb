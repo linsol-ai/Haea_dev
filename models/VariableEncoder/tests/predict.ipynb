{
 "cells": [
  {
   "cell_type": "code",
   "execution_count": 1,
   "metadata": {},
   "outputs": [
    {
     "name": "stdout",
     "output_type": "stream",
     "text": [
      "데이터셋 불러오는 중...\n",
      "==== LOAD DATASET ====\n",
      " <xarray.Dataset>\n",
      "Dimensions:                       (time: 87673, latitude: 30, longitude: 30,\n",
      "                                   level: 37)\n",
      "Coordinates:\n",
      "  * latitude                      (latitude) float32 32.0 32.25 ... 39.0 39.25\n",
      "  * level                         (level) int64 1 2 3 5 7 ... 925 950 975 1000\n",
      "  * longitude                     (longitude) float32 124.0 124.2 ... 131.2\n",
      "  * time                          (time) datetime64[ns] 2011-12-31 ... 2021-1...\n",
      "Data variables: (12/15)\n",
      "    10m_u_component_of_wind       (time, latitude, longitude) float32 dask.array<chunksize=(128, 30, 30), meta=np.ndarray>\n",
      "    10m_v_component_of_wind       (time, latitude, longitude) float32 dask.array<chunksize=(128, 30, 30), meta=np.ndarray>\n",
      "    2m_temperature                (time, latitude, longitude) float32 dask.array<chunksize=(128, 30, 30), meta=np.ndarray>\n",
      "    geopotential                  (time, level, latitude, longitude) float32 dask.array<chunksize=(128, 37, 30, 30), meta=np.ndarray>\n",
      "    geopotential_at_surface       (latitude, longitude) float32 dask.array<chunksize=(30, 30), meta=np.ndarray>\n",
      "    land_sea_mask                 (latitude, longitude) float32 dask.array<chunksize=(30, 30), meta=np.ndarray>\n",
      "    ...                            ...\n",
      "    toa_incident_solar_radiation  (time, latitude, longitude) float32 dask.array<chunksize=(128, 30, 30), meta=np.ndarray>\n",
      "    total_cloud_cover             (time, latitude, longitude) float32 dask.array<chunksize=(128, 30, 30), meta=np.ndarray>\n",
      "    total_precipitation           (time, latitude, longitude) float32 dask.array<chunksize=(128, 30, 30), meta=np.ndarray>\n",
      "    u_component_of_wind           (time, level, latitude, longitude) float32 dask.array<chunksize=(128, 37, 30, 30), meta=np.ndarray>\n",
      "    v_component_of_wind           (time, level, latitude, longitude) float32 dask.array<chunksize=(128, 37, 30, 30), meta=np.ndarray>\n",
      "    vertical_velocity             (time, level, latitude, longitude) float32 dask.array<chunksize=(128, 37, 30, 30), meta=np.ndarray>\n"
     ]
    },
    {
     "name": "stderr",
     "output_type": "stream",
     "text": [
      "100%|██████████| 13/13 [00:53<00:00,  4.14s/it]\n"
     ]
    },
    {
     "name": "stdout",
     "output_type": "stream",
     "text": [
      "65.73858 sec\n",
      "==== LOAD DATASET ====\n",
      " <xarray.Dataset>\n",
      "Dimensions:                       (time: 87673, latitude: 20, longitude: 20,\n",
      "                                   level: 37)\n",
      "Coordinates:\n",
      "  * latitude                      (latitude) float64 21.0 22.5 ... 48.0 49.5\n",
      "  * level                         (level) int64 1 2 3 5 7 ... 925 950 975 1000\n",
      "  * longitude                     (longitude) float64 115.5 117.0 ... 144.0\n",
      "  * time                          (time) datetime64[ns] 2011-12-31 ... 2021-1...\n",
      "Data variables: (12/15)\n",
      "    10m_u_component_of_wind       (time, latitude, longitude) float32 dask.array<chunksize=(128, 20, 20), meta=np.ndarray>\n",
      "    10m_v_component_of_wind       (time, latitude, longitude) float32 dask.array<chunksize=(128, 20, 20), meta=np.ndarray>\n",
      "    2m_temperature                (time, latitude, longitude) float32 dask.array<chunksize=(128, 20, 20), meta=np.ndarray>\n",
      "    geopotential                  (time, level, latitude, longitude) float32 dask.array<chunksize=(128, 37, 20, 20), meta=np.ndarray>\n",
      "    geopotential_at_surface       (latitude, longitude) float32 dask.array<chunksize=(20, 20), meta=np.ndarray>\n",
      "    land_sea_mask                 (latitude, longitude) float32 dask.array<chunksize=(20, 20), meta=np.ndarray>\n",
      "    ...                            ...\n",
      "    toa_incident_solar_radiation  (time, latitude, longitude) float32 dask.array<chunksize=(128, 20, 20), meta=np.ndarray>\n",
      "    total_cloud_cover             (time, latitude, longitude) float32 dask.array<chunksize=(128, 20, 20), meta=np.ndarray>\n",
      "    total_precipitation           (time, latitude, longitude) float32 dask.array<chunksize=(128, 20, 20), meta=np.ndarray>\n",
      "    u_component_of_wind           (time, level, latitude, longitude) float32 dask.array<chunksize=(128, 37, 20, 20), meta=np.ndarray>\n",
      "    v_component_of_wind           (time, level, latitude, longitude) float32 dask.array<chunksize=(128, 37, 20, 20), meta=np.ndarray>\n",
      "    vertical_velocity             (time, level, latitude, longitude) float32 dask.array<chunksize=(128, 37, 20, 20), meta=np.ndarray>\n"
     ]
    },
    {
     "name": "stderr",
     "output_type": "stream",
     "text": [
      "100%|██████████| 13/13 [00:29<00:00,  2.29s/it]\n"
     ]
    },
    {
     "name": "stdout",
     "output_type": "stream",
     "text": [
      "35.82630 sec\n"
     ]
    }
   ],
   "source": [
    "import sys,os\n",
    "import torch\n",
    "import yaml\n",
    "import logging\n",
    "from pydantic import ValidationError\n",
    "\n",
    "sys.path.append(os.path.dirname(os.path.abspath(os.path.dirname(os.path.abspath(os.path.dirname(os.getcwd()))))))\n",
    "from datasets.weather_bench import WeatherDataset\n",
    "from models.VariableEncoder.datasets.dataset import CustomDataset\n",
    "from models.VariableEncoder.training.configs import TrainingConfig\n",
    "from models.VariableEncoder.training.configs import TrainingRunConfig\n",
    "\n",
    "def get_normal_dataset(config: TrainingConfig):\n",
    "    tgt_time_len = 1 * config.tgt_time_len\n",
    "    device = (\"cuda\" if torch.cuda.is_available() else \"cpu\" )\n",
    "    device = torch.device(device)\n",
    "\n",
    "    weather = WeatherDataset(config.train_offset, device=device)\n",
    "    # dataset.shape:  torch.Size([7309, 100, 1450])\n",
    "    source, label, mean_std = weather.load(config.air_variable, config.surface_variable, config.only_input_variable, config.constant_variable)\n",
    "    dataset = CustomDataset(source, label, tgt_time_len, n_only_input=len(config.only_input_variable)+len(config.constant_variable))\n",
    "    src_var_list = weather.get_var_code(config.air_variable, config.surface_variable + config.only_input_variable+config.constant_variable)\n",
    "    tgt_var_list = weather.get_var_code(config.air_variable, config.surface_variable)\n",
    "    return dataset, mean_std, (src_var_list, tgt_var_list)\n",
    "\n",
    "config_path = os.path.join(os.path.dirname(os.getcwd()), 'configs/train_config.yaml')\n",
    "\n",
    "try:\n",
    "    with open(config_path) as f:\n",
    "        config_dict = yaml.safe_load(f)\n",
    "    config: TrainingRunConfig = TrainingRunConfig.parse_obj(config_dict)\n",
    "except FileNotFoundError:\n",
    "    logging.error(f\"Config file {config_path} does not exist. Exiting.\")\n",
    "except yaml.YAMLError:\n",
    "    logging.error(f\"Config file {config_path} is not valid YAML. Exiting.\")\n",
    "except ValidationError as e:\n",
    "    logging.error(f\"Config file {config_path} is not valid. Exiting.\\n{e}\")\n",
    "\n",
    "\n",
    "dataset, mean_std, var_list = get_normal_dataset(config.training)"
   ]
  },
  {
   "cell_type": "code",
   "execution_count": 2,
   "metadata": {},
   "outputs": [
    {
     "name": "stderr",
     "output_type": "stream",
     "text": [
      "/workspace/venv/lib/python3.10/site-packages/pytorch_lightning/utilities/parsing.py:198: Attribute 'model' is an instance of `nn.Module` and is already saved during checkpointing. It is recommended to ignore them using `self.save_hyperparameters(ignore=['model'])`.\n"
     ]
    }
   ],
   "source": [
    "%load_ext autoreload\n",
    "%autoreload 2\n",
    "\n",
    "from models.VariableEncoder.training.lightning import TrainModule\n",
    "\n",
    "model = TrainModule.load_from_checkpoint('/workspace/Haea_dev/models/VariableEncoder/tb_logs/lightning_logs/hzgku0jm/checkpoints/epoch=3-step=17532.ckpt')"
   ]
  },
  {
   "cell_type": "code",
   "execution_count": 3,
   "metadata": {},
   "outputs": [
    {
     "name": "stderr",
     "output_type": "stream",
     "text": [
      "GPU available: True (cuda), used: True\n",
      "TPU available: False, using: 0 TPU cores\n",
      "IPU available: False, using: 0 IPUs\n",
      "HPU available: False, using: 0 HPUs\n",
      "/workspace/venv/lib/python3.10/site-packages/pytorch_lightning/trainer/connectors/logger_connector/logger_connector.py:67: Starting from v1.9.0, `tensorboardX` has been removed as a dependency of the `pytorch_lightning` package, due to potential conflicts with other packages in the ML ecosystem. For this reason, `logger=True` will use `CSVLogger` as the default logger, unless the `tensorboard` or `tensorboardX` packages are found. Please `pip install lightning[extra]` or one of them to enable TensorBoard support by default\n",
      "You are using a CUDA device ('NVIDIA GeForce RTX 4090') that has Tensor Cores. To properly utilize them, you should set `torch.set_float32_matmul_precision('medium' | 'high')` which will trade-off precision for performance. For more details, read https://pytorch.org/docs/stable/generated/torch.set_float32_matmul_precision.html#torch.set_float32_matmul_precision\n",
      "LOCAL_RANK: 0 - CUDA_VISIBLE_DEVICES: [0]\n"
     ]
    },
    {
     "name": "stdout",
     "output_type": "stream",
     "text": [
      "TrainerFn.PREDICTING\n",
      "init cuda:0\n"
     ]
    }
   ],
   "source": [
    "from torch.utils.data import DataLoader\n",
    "import pytorch_lightning as pl\n",
    "\n",
    "train_ds, test_ds = torch.utils.data.random_split(\n",
    "            dataset,\n",
    "            [0.9, 0.1],\n",
    "        )\n",
    "\n",
    "data_loader = DataLoader(test_ds, batch_size=16, shuffle=True, drop_last=True, num_workers=8)\n",
    "trainer = pl.Trainer()\n",
    "\n",
    "predict = trainer.predict(model, data_loader, return_predictions=True)\n"
   ]
  }
 ],
 "metadata": {
  "kernelspec": {
   "display_name": "venv",
   "language": "python",
   "name": "python3"
  },
  "language_info": {
   "codemirror_mode": {
    "name": "ipython",
    "version": 3
   },
   "file_extension": ".py",
   "mimetype": "text/x-python",
   "name": "python",
   "nbconvert_exporter": "python",
   "pygments_lexer": "ipython3",
   "version": "3.10.13"
  }
 },
 "nbformat": 4,
 "nbformat_minor": 2
}
