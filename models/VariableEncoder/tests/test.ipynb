{
 "cells": [
  {
   "cell_type": "code",
   "execution_count": 3,
   "metadata": {},
   "outputs": [],
   "source": [
    "import xarray_beam as xbeam"
   ]
  },
  {
   "cell_type": "code",
   "execution_count": 13,
   "metadata": {},
   "outputs": [
    {
     "name": "stdout",
     "output_type": "stream",
     "text": [
      "{'time': 8, 'longitude': 240, 'latitude': 121, 'level': 37}\n"
     ]
    }
   ],
   "source": [
    "ds, chunk = xbeam.open_zarr('gcs://gcp-public-data-arco-era5/ar/1959-2022-1h-240x121_equiangular_with_poles_conservative.zarr')\n",
    "print(chunk)"
   ]
  },
  {
   "cell_type": "code",
   "execution_count": 14,
   "metadata": {},
   "outputs": [
    {
     "name": "stdout",
     "output_type": "stream",
     "text": [
      "14947.185841456\n"
     ]
    }
   ],
   "source": [
    "print(ds.nbytes / 10**9)"
   ]
  },
  {
   "cell_type": "code",
   "execution_count": 21,
   "metadata": {},
   "outputs": [
    {
     "name": "stdout",
     "output_type": "stream",
     "text": [
      "[ 74  75  76  77  78  79  80  81  82  83  84  85  86  87  88  89  90  91\n",
      "  92  93  94  95  96  97  98  99 100 101 102 103 104 105 106]\n",
      "<xarray.Dataset>\n",
      "Dimensions:                                           (time: 25, longitude: 14,\n",
      "                                                       latitude: 33, level: 37)\n",
      "Coordinates:\n",
      "  * latitude                                          (latitude) float64 21.0...\n",
      "  * level                                             (level) int64 1 2 ... 1000\n",
      "  * longitude                                         (longitude) float64 121...\n",
      "  * time                                              (time) datetime64[ns] 2...\n",
      "Data variables: (12/31)\n",
      "    10m_u_component_of_wind                           (time, longitude, latitude) float32 ...\n",
      "    10m_v_component_of_wind                           (time, longitude, latitude) float32 ...\n",
      "    2m_temperature                                    (time, longitude, latitude) float32 ...\n",
      "    angle_of_sub_gridscale_orography                  (longitude, latitude) float32 ...\n",
      "    anisotropy_of_sub_gridscale_orography             (longitude, latitude) float32 ...\n",
      "    geopotential                                      (time, level, longitude, latitude) float32 ...\n",
      "    ...                                                ...\n",
      "    total_precipitation                               (time, longitude, latitude) float32 ...\n",
      "    type_of_high_vegetation                           (longitude, latitude) float32 ...\n",
      "    type_of_low_vegetation                            (longitude, latitude) float32 ...\n",
      "    u_component_of_wind                               (time, level, longitude, latitude) float32 ...\n",
      "    v_component_of_wind                               (time, level, longitude, latitude) float32 ...\n",
      "    vertical_velocity                                 (time, level, longitude, latitude) float32 ...\n"
     ]
    }
   ],
   "source": [
    "import numpy as np\n",
    "import pandas as pd\n",
    "\n",
    "lat_min, lat_max = (20, 70)\n",
    "lon_min, lon_max = (120, 142)\n",
    "\n",
    "lat_indices = np.where((ds.latitude >= lat_min) & (ds.latitude <= lat_max))[0]\n",
    "lon_indices = np.where((ds.longitude >= lon_min) & (ds.longitude <= lon_max))[0]\n",
    "\n",
    "print(lat_indices)\n",
    "\n",
    "start_date = pd.to_datetime('2021-12-28')\n",
    "end_date = pd.to_datetime('2021-12-29')\n",
    "source_dataset = ds.sel(time=slice(start_date, end_date))\n",
    "source_dataset = source_dataset.isel(latitude=lat_indices, longitude=lon_indices)\n",
    "\n",
    "print(source_dataset)\n",
    "\n"
   ]
  },
  {
   "cell_type": "code",
   "execution_count": 26,
   "metadata": {},
   "outputs": [
    {
     "ename": "AxisError",
     "evalue": "axis2: axis 2 is out of bounds for array of dimension 2",
     "output_type": "error",
     "traceback": [
      "\u001b[0;31m---------------------------------------------------------------------------\u001b[0m",
      "\u001b[0;31mAxisError\u001b[0m                                 Traceback (most recent call last)",
      "Cell \u001b[0;32mIn[26], line 2\u001b[0m\n\u001b[1;32m      1\u001b[0m dataset \u001b[38;5;241m=\u001b[39m source_dataset[\u001b[38;5;124m'\u001b[39m\u001b[38;5;124mland_sea_mask\u001b[39m\u001b[38;5;124m'\u001b[39m]\u001b[38;5;241m.\u001b[39mvalues\n\u001b[0;32m----> 2\u001b[0m dataset \u001b[38;5;241m=\u001b[39m \u001b[43mdataset\u001b[49m\u001b[38;5;241;43m.\u001b[39;49m\u001b[43mswapaxes\u001b[49m\u001b[43m(\u001b[49m\u001b[38;5;241;43m1\u001b[39;49m\u001b[43m,\u001b[49m\u001b[43m \u001b[49m\u001b[38;5;241;43m2\u001b[39;49m\u001b[43m)\u001b[49m\n",
      "\u001b[0;31mAxisError\u001b[0m: axis2: axis 2 is out of bounds for array of dimension 2"
     ]
    }
   ],
   "source": [
    "dataset = source_dataset['land_sea_mask'].values\n",
    "dataset = dataset.swapaxes(0, 1)"
   ]
  },
  {
   "cell_type": "code",
   "execution_count": 25,
   "metadata": {},
   "outputs": [
    {
     "name": "stdout",
     "output_type": "stream",
     "text": [
      "(33, 14)\n"
     ]
    },
    {
     "data": {
      "image/png": "[encoded data removed]",
      "text/plain": [
       "<Figure size 1000x500 with 2 Axes>"
      ]
     },
     "metadata": {},
     "output_type": "display_data"
    }
   ],
   "source": [
    "import numpy as np\n",
    "import matplotlib.pyplot as plt\n",
    "import cartopy.crs as ccrs\n",
    "import cartopy.feature as cfeature\n",
    "\n",
    "# 예제 NumPy 배열 생성\n",
    "data = dataset[0] - 273.15\n",
    "print(data.shape)\n",
    "\n",
    "# 지도 생성 및 데이터 시각화\n",
    "fig = plt.figure(figsize=(10, 5))\n",
    "ax = plt.axes(projection=ccrs.PlateCarree())\n",
    "ax.set_extent([lon_min, lon_max, lat_min, lat_max], crs=ccrs.PlateCarree())\n",
    "\n",
    "# 지도에 기본 레이어 추가\n",
    "ax.add_feature(cfeature.LAND)\n",
    "ax.add_feature(cfeature.OCEAN)\n",
    "ax.add_feature(cfeature.COASTLINE)\n",
    "ax.add_feature(cfeature.BORDERS, linestyle=':')\n",
    "\n",
    "# NumPy 배열을 지도 위에 표시 (임의의 위경도 범위에 맞게 조정)\n",
    "lons = np.linspace(lon_min, lon_max, data.shape[1])\n",
    "lats = np.linspace(lat_min, lat_max, data.shape[0])\n",
    "Lons, Lats = np.meshgrid(lons, lats)\n",
    "mesh = ax.pcolormesh(Lons, Lats, data, transform=ccrs.PlateCarree())\n",
    "\n",
    "plt.colorbar(mesh, ax=ax, shrink=0.5, aspect=5)\n",
    "\n",
    "plt.show()"
   ]
  },
  {
   "cell_type": "code",
   "execution_count": 27,
   "metadata": {},
   "outputs": [
    {
     "name": "stdout",
     "output_type": "stream",
     "text": [
      "tensor([[0., 0., 0., -inf, -inf, -inf, -inf, -inf, -inf, -inf, -inf, -inf, -inf, -inf, -inf],\n",
      "        [0., 0., 0., -inf, -inf, -inf, -inf, -inf, -inf, -inf, -inf, -inf, -inf, -inf, -inf],\n",
      "        [0., 0., 0., -inf, -inf, -inf, -inf, -inf, -inf, -inf, -inf, -inf, -inf, -inf, -inf],\n",
      "        [0., 0., 0., 0., 0., 0., -inf, -inf, -inf, -inf, -inf, -inf, -inf, -inf, -inf],\n",
      "        [0., 0., 0., 0., 0., 0., -inf, -inf, -inf, -inf, -inf, -inf, -inf, -inf, -inf],\n",
      "        [0., 0., 0., 0., 0., 0., -inf, -inf, -inf, -inf, -inf, -inf, -inf, -inf, -inf],\n",
      "        [0., 0., 0., 0., 0., 0., 0., 0., 0., -inf, -inf, -inf, -inf, -inf, -inf],\n",
      "        [0., 0., 0., 0., 0., 0., 0., 0., 0., -inf, -inf, -inf, -inf, -inf, -inf],\n",
      "        [0., 0., 0., 0., 0., 0., 0., 0., 0., -inf, -inf, -inf, -inf, -inf, -inf],\n",
      "        [0., 0., 0., 0., 0., 0., 0., 0., 0., 0., 0., 0., -inf, -inf, -inf],\n",
      "        [0., 0., 0., 0., 0., 0., 0., 0., 0., 0., 0., 0., -inf, -inf, -inf],\n",
      "        [0., 0., 0., 0., 0., 0., 0., 0., 0., 0., 0., 0., -inf, -inf, -inf],\n",
      "        [0., 0., 0., 0., 0., 0., 0., 0., 0., 0., 0., 0., 0., 0., 0.],\n",
      "        [0., 0., 0., 0., 0., 0., 0., 0., 0., 0., 0., 0., 0., 0., 0.],\n",
      "        [0., 0., 0., 0., 0., 0., 0., 0., 0., 0., 0., 0., 0., 0., 0.]])\n"
     ]
    }
   ],
   "source": [
    "import torch\n",
    "\n",
    "def get_tgt_mask(var_len, tgt_time_len) -> torch.tensor:\n",
    "        matrix = torch.zeros(var_len * tgt_time_len, var_len * tgt_time_len)\n",
    "\n",
    "        for i in range(tgt_time_len):\n",
    "            for j in range(var_len):\n",
    "                inf_idx = min(((i)*var_len), var_len * tgt_time_len)\n",
    "                matrix[:(i*var_len), inf_idx:] = float('-inf')\n",
    "        return matrix\n",
    "\n",
    "\n",
    "print(get_tgt_mask(3, 5))"
   ]
  }
 ],
 "metadata": {
  "kernelspec": {
   "display_name": "venv",
   "language": "python",
   "name": "python3"
  },
  "language_info": {
   "codemirror_mode": {
    "name": "ipython",
    "version": 3
   },
   "file_extension": ".py",
   "mimetype": "text/x-python",
   "name": "python",
   "nbconvert_exporter": "python",
   "pygments_lexer": "ipython3",
   "version": "3.10.13"
  }
 },
 "nbformat": 4,
 "nbformat_minor": 2
}
