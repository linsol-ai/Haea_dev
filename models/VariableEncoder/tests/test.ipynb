{
 "cells": [
  {
   "cell_type": "code",
   "execution_count": 8,
   "metadata": {},
   "outputs": [],
   "source": [
    "import xarray\n",
    "import xarray_beam as xbeam\n",
    "\n",
    "source_dataset, source_chunks = xbeam.open_zarr('gcs://gcp-public-data-arco-era5/ar/1959-2022-full_37-1h-0p25deg-chunk-1.zarr-v2')"
   ]
  },
  {
   "cell_type": "code",
   "execution_count": 10,
   "metadata": {},
   "outputs": [],
   "source": [
    "import pandas as pd\n",
    "start_date = pd.to_datetime('2016-12-31')\n",
    "end_date = pd.to_datetime('2021-12-31')\n",
    "source_dataset = source_dataset.sel(time=slice(start_date, end_date))"
   ]
  },
  {
   "cell_type": "code",
   "execution_count": 16,
   "metadata": {},
   "outputs": [
    {
     "name": "stdout",
     "output_type": "stream",
     "text": [
      "721\n"
     ]
    }
   ],
   "source": [
    "print(source_dataset.latitude.size)"
   ]
  },
  {
   "cell_type": "code",
   "execution_count": 7,
   "metadata": {},
   "outputs": [
    {
     "name": "stdout",
     "output_type": "stream",
     "text": [
      "데이터셋 불러오는 중...\n",
      "==== LOAD DATASET ====\n",
      " <xarray.Dataset>\n",
      "Dimensions:                       (time: 87673, latitude: 30, longitude: 30,\n",
      "                                   level: 37)\n",
      "Coordinates:\n",
      "  * latitude                      (latitude) float32 32.0 32.25 ... 39.0 39.25\n",
      "  * level                         (level) int64 1 2 3 5 7 ... 925 950 975 1000\n",
      "  * longitude                     (longitude) float32 124.0 124.2 ... 131.2\n",
      "  * time                          (time) datetime64[ns] 2011-12-31 ... 2021-1...\n",
      "Data variables: (12/15)\n",
      "    10m_u_component_of_wind       (time, latitude, longitude) float32 dask.array<chunksize=(128, 30, 30), meta=np.ndarray>\n",
      "    10m_v_component_of_wind       (time, latitude, longitude) float32 dask.array<chunksize=(128, 30, 30), meta=np.ndarray>\n",
      "    2m_temperature                (time, latitude, longitude) float32 dask.array<chunksize=(128, 30, 30), meta=np.ndarray>\n",
      "    geopotential                  (time, level, latitude, longitude) float32 dask.array<chunksize=(128, 37, 30, 30), meta=np.ndarray>\n",
      "    geopotential_at_surface       (latitude, longitude) float32 dask.array<chunksize=(30, 30), meta=np.ndarray>\n",
      "    land_sea_mask                 (latitude, longitude) float32 dask.array<chunksize=(30, 30), meta=np.ndarray>\n",
      "    ...                            ...\n",
      "    toa_incident_solar_radiation  (time, latitude, longitude) float32 dask.array<chunksize=(128, 30, 30), meta=np.ndarray>\n",
      "    total_cloud_cover             (time, latitude, longitude) float32 dask.array<chunksize=(128, 30, 30), meta=np.ndarray>\n",
      "    total_precipitation           (time, latitude, longitude) float32 dask.array<chunksize=(128, 30, 30), meta=np.ndarray>\n",
      "    u_component_of_wind           (time, level, latitude, longitude) float32 dask.array<chunksize=(128, 37, 30, 30), meta=np.ndarray>\n",
      "    v_component_of_wind           (time, level, latitude, longitude) float32 dask.array<chunksize=(128, 37, 30, 30), meta=np.ndarray>\n",
      "    vertical_velocity             (time, level, latitude, longitude) float32 dask.array<chunksize=(128, 37, 30, 30), meta=np.ndarray>\n"
     ]
    },
    {
     "name": "stderr",
     "output_type": "stream",
     "text": [
      "100%|██████████| 13/13 [00:50<00:00,  3.86s/it]\n"
     ]
    },
    {
     "name": "stdout",
     "output_type": "stream",
     "text": [
      "torch.Size([2, 1, 900])\n",
      "61.86535 sec\n",
      "==== LOAD DATASET ====\n",
      " <xarray.Dataset>\n",
      "Dimensions:                       (time: 87673, latitude: 20, longitude: 20,\n",
      "                                   level: 37)\n",
      "Coordinates:\n",
      "  * latitude                      (latitude) float64 21.0 22.5 ... 48.0 49.5\n",
      "  * level                         (level) int64 1 2 3 5 7 ... 925 950 975 1000\n",
      "  * longitude                     (longitude) float64 115.5 117.0 ... 144.0\n",
      "  * time                          (time) datetime64[ns] 2011-12-31 ... 2021-1...\n",
      "Data variables: (12/15)\n",
      "    10m_u_component_of_wind       (time, latitude, longitude) float32 dask.array<chunksize=(128, 20, 20), meta=np.ndarray>\n",
      "    10m_v_component_of_wind       (time, latitude, longitude) float32 dask.array<chunksize=(128, 20, 20), meta=np.ndarray>\n",
      "    2m_temperature                (time, latitude, longitude) float32 dask.array<chunksize=(128, 20, 20), meta=np.ndarray>\n",
      "    geopotential                  (time, level, latitude, longitude) float32 dask.array<chunksize=(128, 37, 20, 20), meta=np.ndarray>\n",
      "    geopotential_at_surface       (latitude, longitude) float32 dask.array<chunksize=(20, 20), meta=np.ndarray>\n",
      "    land_sea_mask                 (latitude, longitude) float32 dask.array<chunksize=(20, 20), meta=np.ndarray>\n",
      "    ...                            ...\n",
      "    toa_incident_solar_radiation  (time, latitude, longitude) float32 dask.array<chunksize=(128, 20, 20), meta=np.ndarray>\n",
      "    total_cloud_cover             (time, latitude, longitude) float32 dask.array<chunksize=(128, 20, 20), meta=np.ndarray>\n",
      "    total_precipitation           (time, latitude, longitude) float32 dask.array<chunksize=(128, 20, 20), meta=np.ndarray>\n",
      "    u_component_of_wind           (time, level, latitude, longitude) float32 dask.array<chunksize=(128, 37, 20, 20), meta=np.ndarray>\n",
      "    v_component_of_wind           (time, level, latitude, longitude) float32 dask.array<chunksize=(128, 37, 20, 20), meta=np.ndarray>\n",
      "    vertical_velocity             (time, level, latitude, longitude) float32 dask.array<chunksize=(128, 37, 20, 20), meta=np.ndarray>\n"
     ]
    },
    {
     "name": "stderr",
     "output_type": "stream",
     "text": [
      "100%|██████████| 13/13 [00:28<00:00,  2.21s/it]\n"
     ]
    },
    {
     "name": "stdout",
     "output_type": "stream",
     "text": [
      "torch.Size([2, 1, 400])\n",
      "34.52733 sec\n"
     ]
    }
   ],
   "source": [
    "import sys,os\n",
    "import torch\n",
    "import yaml\n",
    "import logging\n",
    "from pydantic import ValidationError\n",
    "\n",
    "sys.path.append(os.path.dirname(os.path.abspath(os.path.dirname(os.path.abspath(os.path.dirname(os.getcwd()))))))\n",
    "from datasets.weather_bench import WeatherDataset\n",
    "from models.VariableEncoder.datasets.dataset import CustomDataset\n",
    "from models.VariableEncoder.training.configs import TrainingConfig\n",
    "from models.VariableEncoder.training.configs import TrainingRunConfig\n",
    "from models.VariableEncoder.training.lightning import TrainModule\n",
    "\n",
    "def get_normal_dataset(config: TrainingConfig):\n",
    "    tgt_time_len = 1 * config.tgt_time_len\n",
    "    device = (\"cuda\" if torch.cuda.is_available() else \"cpu\" )\n",
    "    device = torch.device(device)\n",
    "\n",
    "    weather = WeatherDataset(config.train_offset, device=device)\n",
    "    # dataset.shape:  torch.Size([7309, 100, 1450])\n",
    "    source, label, mean_std = weather.load(config.air_variable, config.surface_variable, config.only_input_variable, config.constant_variable)\n",
    "    dataset = CustomDataset(source, label, tgt_time_len, n_only_input=len(config.only_input_variable)+len(config.constant_variable))\n",
    "    src_var_list = weather.get_var_code(config.air_variable, config.surface_variable + config.only_input_variable+config.constant_variable)\n",
    "    tgt_var_list = weather.get_var_code(config.air_variable, config.surface_variable)\n",
    "    return dataset, mean_std, (src_var_list, tgt_var_list)\n",
    "\n",
    "config_path = os.path.join(os.path.dirname(os.getcwd()), 'configs/train_config.yaml')\n",
    "\n",
    "try:\n",
    "    with open(config_path) as f:\n",
    "        config_dict = yaml.safe_load(f)\n",
    "    config: TrainingRunConfig = TrainingRunConfig.parse_obj(config_dict)\n",
    "except FileNotFoundError:\n",
    "    logging.error(f\"Config file {config_path} does not exist. Exiting.\")\n",
    "except yaml.YAMLError:\n",
    "    logging.error(f\"Config file {config_path} is not valid YAML. Exiting.\")\n",
    "except ValidationError as e:\n",
    "    logging.error(f\"Config file {config_path} is not valid. Exiting.\\n{e}\")\n",
    "\n",
    "\n",
    "dataset, _, _ = get_normal_dataset(config.training)"
   ]
  },
  {
   "cell_type": "code",
   "execution_count": 8,
   "metadata": {},
   "outputs": [
    {
     "name": "stderr",
     "output_type": "stream",
     "text": [
      "/workspace/venv/lib/python3.10/site-packages/pytorch_lightning/utilities/parsing.py:198: Attribute 'model' is an instance of `nn.Module` and is already saved during checkpointing. It is recommended to ignore them using `self.save_hyperparameters(ignore=['model'])`.\n"
     ]
    }
   ],
   "source": [
    "model = TrainModule.load_from_checkpoint('/workspace/Haea_dev/models/VariableEncoder/tb_logs/lightning_logs/yebfhl4r/checkpoints/epoch=5-step=26298.ckpt')"
   ]
  },
  {
   "cell_type": "code",
   "execution_count": 12,
   "metadata": {},
   "outputs": [
    {
     "ename": "RuntimeError",
     "evalue": "The size of tensor a (231) must match the size of tensor b (16) at non-singleton dimension 1",
     "output_type": "error",
     "traceback": [
      "\u001b[0;31m---------------------------------------------------------------------------\u001b[0m",
      "\u001b[0;31mRuntimeError\u001b[0m                              Traceback (most recent call last)",
      "Cell \u001b[0;32mIn[12], line 3\u001b[0m\n\u001b[1;32m      1\u001b[0m device \u001b[38;5;241m=\u001b[39m (\u001b[38;5;124m\"\u001b[39m\u001b[38;5;124mcuda\u001b[39m\u001b[38;5;124m\"\u001b[39m \u001b[38;5;28;01mif\u001b[39;00m torch\u001b[38;5;241m.\u001b[39mcuda\u001b[38;5;241m.\u001b[39mis_available() \u001b[38;5;28;01melse\u001b[39;00m \u001b[38;5;124m\"\u001b[39m\u001b[38;5;124mcpu\u001b[39m\u001b[38;5;124m\"\u001b[39m )\n\u001b[1;32m      2\u001b[0m device \u001b[38;5;241m=\u001b[39m torch\u001b[38;5;241m.\u001b[39mdevice(device)\n\u001b[0;32m----> 3\u001b[0m att_map \u001b[38;5;241m=\u001b[39m \u001b[43mmodel\u001b[49m\u001b[38;5;241;43m.\u001b[39;49m\u001b[43mmodel\u001b[49m\u001b[38;5;241;43m.\u001b[39;49m\u001b[43mget_attention_maps\u001b[49m\u001b[43m(\u001b[49m\u001b[43mdataset\u001b[49m\u001b[38;5;241;43m.\u001b[39;49m\u001b[43msource_dataset\u001b[49m\u001b[43m[\u001b[49m\u001b[43m:\u001b[49m\u001b[38;5;241;43m3\u001b[39;49m\u001b[43m]\u001b[49m\u001b[38;5;241;43m.\u001b[39;49m\u001b[43mto\u001b[49m\u001b[43m(\u001b[49m\u001b[43mdevice\u001b[49m\u001b[43m)\u001b[49m\u001b[43m)\u001b[49m\n",
      "File \u001b[0;32m/workspace/venv/lib/python3.10/site-packages/torch/utils/_contextlib.py:115\u001b[0m, in \u001b[0;36mcontext_decorator.<locals>.decorate_context\u001b[0;34m(*args, **kwargs)\u001b[0m\n\u001b[1;32m    112\u001b[0m \u001b[38;5;129m@functools\u001b[39m\u001b[38;5;241m.\u001b[39mwraps(func)\n\u001b[1;32m    113\u001b[0m \u001b[38;5;28;01mdef\u001b[39;00m \u001b[38;5;21mdecorate_context\u001b[39m(\u001b[38;5;241m*\u001b[39margs, \u001b[38;5;241m*\u001b[39m\u001b[38;5;241m*\u001b[39mkwargs):\n\u001b[1;32m    114\u001b[0m     \u001b[38;5;28;01mwith\u001b[39;00m ctx_factory():\n\u001b[0;32m--> 115\u001b[0m         \u001b[38;5;28;01mreturn\u001b[39;00m \u001b[43mfunc\u001b[49m\u001b[43m(\u001b[49m\u001b[38;5;241;43m*\u001b[39;49m\u001b[43margs\u001b[49m\u001b[43m,\u001b[49m\u001b[43m \u001b[49m\u001b[38;5;241;43m*\u001b[39;49m\u001b[38;5;241;43m*\u001b[39;49m\u001b[43mkwargs\u001b[49m\u001b[43m)\u001b[49m\n",
      "File \u001b[0;32m/workspace/Haea_dev/models/VariableEncoder/models/model.py:155\u001b[0m, in \u001b[0;36mVariableEncoder.get_attention_maps\u001b[0;34m(self, x)\u001b[0m\n\u001b[1;32m    152\u001b[0m x \u001b[38;5;241m=\u001b[39m x\u001b[38;5;241m.\u001b[39mview(x\u001b[38;5;241m.\u001b[39msize(\u001b[38;5;241m0\u001b[39m), \u001b[38;5;241m-\u001b[39m\u001b[38;5;241m1\u001b[39m, x\u001b[38;5;241m.\u001b[39msize(\u001b[38;5;241m3\u001b[39m))\n\u001b[1;32m    153\u001b[0m src_var_seq \u001b[38;5;241m=\u001b[39m torch\u001b[38;5;241m.\u001b[39mtensor([\u001b[38;5;28mlen\u001b[39m(\u001b[38;5;28mself\u001b[39m\u001b[38;5;241m.\u001b[39msrc_var_list) \u001b[38;5;28;01mfor\u001b[39;00m _ \u001b[38;5;129;01min\u001b[39;00m \u001b[38;5;28mrange\u001b[39m(\u001b[38;5;28mself\u001b[39m\u001b[38;5;241m.\u001b[39mbatch_size)], device\u001b[38;5;241m=\u001b[39mx\u001b[38;5;241m.\u001b[39mdevice)\n\u001b[0;32m--> 155\u001b[0m x \u001b[38;5;241m=\u001b[39m \u001b[38;5;28;43mself\u001b[39;49m\u001b[38;5;241;43m.\u001b[39;49m\u001b[43membedding\u001b[49m\u001b[43m(\u001b[49m\u001b[43mx\u001b[49m\u001b[43m,\u001b[49m\u001b[43m \u001b[49m\u001b[43msrc_var_seq\u001b[49m\u001b[43m)\u001b[49m \u001b[38;5;241m*\u001b[39m math\u001b[38;5;241m.\u001b[39msqrt(\u001b[38;5;28mself\u001b[39m\u001b[38;5;241m.\u001b[39min_dim)\n\u001b[1;32m    157\u001b[0m attention_maps \u001b[38;5;241m=\u001b[39m []\n\u001b[1;32m    158\u001b[0m \u001b[38;5;28;01mfor\u001b[39;00m layer \u001b[38;5;129;01min\u001b[39;00m \u001b[38;5;28mself\u001b[39m\u001b[38;5;241m.\u001b[39mtransformer\u001b[38;5;241m.\u001b[39mencoder\u001b[38;5;241m.\u001b[39mlayers:\n",
      "File \u001b[0;32m/workspace/venv/lib/python3.10/site-packages/torch/nn/modules/module.py:1511\u001b[0m, in \u001b[0;36mModule._wrapped_call_impl\u001b[0;34m(self, *args, **kwargs)\u001b[0m\n\u001b[1;32m   1509\u001b[0m     \u001b[38;5;28;01mreturn\u001b[39;00m \u001b[38;5;28mself\u001b[39m\u001b[38;5;241m.\u001b[39m_compiled_call_impl(\u001b[38;5;241m*\u001b[39margs, \u001b[38;5;241m*\u001b[39m\u001b[38;5;241m*\u001b[39mkwargs)  \u001b[38;5;66;03m# type: ignore[misc]\u001b[39;00m\n\u001b[1;32m   1510\u001b[0m \u001b[38;5;28;01melse\u001b[39;00m:\n\u001b[0;32m-> 1511\u001b[0m     \u001b[38;5;28;01mreturn\u001b[39;00m \u001b[38;5;28;43mself\u001b[39;49m\u001b[38;5;241;43m.\u001b[39;49m\u001b[43m_call_impl\u001b[49m\u001b[43m(\u001b[49m\u001b[38;5;241;43m*\u001b[39;49m\u001b[43margs\u001b[49m\u001b[43m,\u001b[49m\u001b[43m \u001b[49m\u001b[38;5;241;43m*\u001b[39;49m\u001b[38;5;241;43m*\u001b[39;49m\u001b[43mkwargs\u001b[49m\u001b[43m)\u001b[49m\n",
      "File \u001b[0;32m/workspace/venv/lib/python3.10/site-packages/torch/nn/modules/module.py:1520\u001b[0m, in \u001b[0;36mModule._call_impl\u001b[0;34m(self, *args, **kwargs)\u001b[0m\n\u001b[1;32m   1515\u001b[0m \u001b[38;5;66;03m# If we don't have any hooks, we want to skip the rest of the logic in\u001b[39;00m\n\u001b[1;32m   1516\u001b[0m \u001b[38;5;66;03m# this function, and just call forward.\u001b[39;00m\n\u001b[1;32m   1517\u001b[0m \u001b[38;5;28;01mif\u001b[39;00m \u001b[38;5;129;01mnot\u001b[39;00m (\u001b[38;5;28mself\u001b[39m\u001b[38;5;241m.\u001b[39m_backward_hooks \u001b[38;5;129;01mor\u001b[39;00m \u001b[38;5;28mself\u001b[39m\u001b[38;5;241m.\u001b[39m_backward_pre_hooks \u001b[38;5;129;01mor\u001b[39;00m \u001b[38;5;28mself\u001b[39m\u001b[38;5;241m.\u001b[39m_forward_hooks \u001b[38;5;129;01mor\u001b[39;00m \u001b[38;5;28mself\u001b[39m\u001b[38;5;241m.\u001b[39m_forward_pre_hooks\n\u001b[1;32m   1518\u001b[0m         \u001b[38;5;129;01mor\u001b[39;00m _global_backward_pre_hooks \u001b[38;5;129;01mor\u001b[39;00m _global_backward_hooks\n\u001b[1;32m   1519\u001b[0m         \u001b[38;5;129;01mor\u001b[39;00m _global_forward_hooks \u001b[38;5;129;01mor\u001b[39;00m _global_forward_pre_hooks):\n\u001b[0;32m-> 1520\u001b[0m     \u001b[38;5;28;01mreturn\u001b[39;00m \u001b[43mforward_call\u001b[49m\u001b[43m(\u001b[49m\u001b[38;5;241;43m*\u001b[39;49m\u001b[43margs\u001b[49m\u001b[43m,\u001b[49m\u001b[43m \u001b[49m\u001b[38;5;241;43m*\u001b[39;49m\u001b[38;5;241;43m*\u001b[39;49m\u001b[43mkwargs\u001b[49m\u001b[43m)\u001b[49m\n\u001b[1;32m   1522\u001b[0m \u001b[38;5;28;01mtry\u001b[39;00m:\n\u001b[1;32m   1523\u001b[0m     result \u001b[38;5;241m=\u001b[39m \u001b[38;5;28;01mNone\u001b[39;00m\n",
      "File \u001b[0;32m/workspace/Haea_dev/models/VariableEncoder/models/model.py:35\u001b[0m, in \u001b[0;36mEmbedding.forward\u001b[0;34m(self, x, variable_seq, position_seq)\u001b[0m\n\u001b[1;32m     33\u001b[0m     \u001b[38;5;28;01mreturn\u001b[39;00m \u001b[38;5;28mself\u001b[39m\u001b[38;5;241m.\u001b[39mdropout(x)\n\u001b[1;32m     34\u001b[0m \u001b[38;5;28;01melse\u001b[39;00m:\n\u001b[0;32m---> 35\u001b[0m     x \u001b[38;5;241m=\u001b[39m \u001b[43mx\u001b[49m\u001b[43m \u001b[49m\u001b[38;5;241;43m+\u001b[39;49m\u001b[43m \u001b[49m\u001b[38;5;28;43mself\u001b[39;49m\u001b[38;5;241;43m.\u001b[39;49m\u001b[43mvariable\u001b[49m\u001b[43m(\u001b[49m\u001b[43mvariable_seq\u001b[49m\u001b[43m)\u001b[49m\n\u001b[1;32m     36\u001b[0m     \u001b[38;5;28;01mreturn\u001b[39;00m \u001b[38;5;28mself\u001b[39m\u001b[38;5;241m.\u001b[39mdropout(x)\n",
      "\u001b[0;31mRuntimeError\u001b[0m: The size of tensor a (231) must match the size of tensor b (16) at non-singleton dimension 1"
     ]
    }
   ],
   "source": [
    "device = (\"cuda\" if torch.cuda.is_available() else \"cpu\" )\n",
    "device = torch.device(device)\n",
    "att_map = model.model.get_attention_maps(dataset.source_dataset[:3].to(device))"
   ]
  }
 ],
 "metadata": {
  "kernelspec": {
   "display_name": "venv",
   "language": "python",
   "name": "python3"
  },
  "language_info": {
   "codemirror_mode": {
    "name": "ipython",
    "version": 3
   },
   "file_extension": ".py",
   "mimetype": "text/x-python",
   "name": "python",
   "nbconvert_exporter": "python",
   "pygments_lexer": "ipython3",
   "version": "3.10.13"
  }
 },
 "nbformat": 4,
 "nbformat_minor": 2
}
