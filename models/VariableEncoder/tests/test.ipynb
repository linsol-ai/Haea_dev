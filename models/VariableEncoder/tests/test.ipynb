{
 "cells": [
  {
   "cell_type": "code",
   "execution_count": 1,
   "metadata": {},
   "outputs": [
    {
     "name": "stdout",
     "output_type": "stream",
     "text": [
      "데이터셋 불러오는 중...\n",
      "==== LOAD DATASET ====\n",
      " <xarray.Dataset>\n",
      "Dimensions:                       (time: 43825, latitude: 30, longitude: 30,\n",
      "                                   level: 13)\n",
      "Coordinates:\n",
      "  * latitude                      (latitude) float32 32.0 32.25 ... 39.0 39.25\n",
      "  * level                         (level) int64 50 100 150 200 ... 850 925 1000\n",
      "  * longitude                     (longitude) float32 124.0 124.2 ... 131.2\n",
      "  * time                          (time) datetime64[ns] 2016-12-31 ... 2021-1...\n",
      "Data variables: (12/15)\n",
      "    10m_u_component_of_wind       (time, latitude, longitude) float32 ...\n",
      "    10m_v_component_of_wind       (time, latitude, longitude) float32 ...\n",
      "    2m_temperature                (time, latitude, longitude) float32 ...\n",
      "    geopotential                  (time, level, latitude, longitude) float32 ...\n",
      "    land_sea_mask                 (latitude, longitude) float32 ...\n",
      "    mean_sea_level_pressure       (time, latitude, longitude) float32 ...\n",
      "    ...                            ...\n",
      "    toa_incident_solar_radiation  (time, latitude, longitude) float32 ...\n",
      "    total_cloud_cover             (time, latitude, longitude) float32 ...\n",
      "    total_precipitation           (time, latitude, longitude) float32 ...\n",
      "    u_component_of_wind           (time, level, latitude, longitude) float32 ...\n",
      "    v_component_of_wind           (time, level, latitude, longitude) float32 ...\n",
      "    vertical_velocity             (time, level, latitude, longitude) float32 ...\n"
     ]
    },
    {
     "name": "stderr",
     "output_type": "stream",
     "text": [
      "Processing futures: 12it [00:11,  1.01it/s]\n"
     ]
    },
    {
     "name": "stdout",
     "output_type": "stream",
     "text": [
      "16.24234 sec\n",
      "==== LOAD DATASET ====\n",
      " <xarray.Dataset>\n",
      "Dimensions:                       (time: 43825, latitude: 20, longitude: 20,\n",
      "                                   level: 13)\n",
      "Coordinates:\n",
      "  * latitude                      (latitude) float64 21.0 22.5 ... 48.0 49.5\n",
      "  * level                         (level) int64 50 100 150 200 ... 850 925 1000\n",
      "  * longitude                     (longitude) float64 115.5 117.0 ... 144.0\n",
      "  * time                          (time) datetime64[ns] 2016-12-31 ... 2021-1...\n",
      "Data variables: (12/15)\n",
      "    10m_u_component_of_wind       (time, latitude, longitude) float32 ...\n",
      "    10m_v_component_of_wind       (time, latitude, longitude) float32 ...\n",
      "    2m_temperature                (time, latitude, longitude) float32 ...\n",
      "    geopotential                  (time, level, latitude, longitude) float32 ...\n",
      "    land_sea_mask                 (latitude, longitude) float32 ...\n",
      "    mean_sea_level_pressure       (time, latitude, longitude) float32 ...\n",
      "    ...                            ...\n",
      "    toa_incident_solar_radiation  (time, latitude, longitude) float32 ...\n",
      "    total_cloud_cover             (time, latitude, longitude) float32 ...\n",
      "    total_precipitation           (time, latitude, longitude) float32 ...\n",
      "    u_component_of_wind           (time, level, latitude, longitude) float32 ...\n",
      "    v_component_of_wind           (time, level, latitude, longitude) float32 ...\n",
      "    vertical_velocity             (time, level, latitude, longitude) float32 ...\n"
     ]
    },
    {
     "name": "stderr",
     "output_type": "stream",
     "text": [
      "Processing futures: 12it [00:05,  2.35it/s]\n"
     ]
    },
    {
     "name": "stdout",
     "output_type": "stream",
     "text": [
      "7.87871 sec\n"
     ]
    }
   ],
   "source": [
    "import sys,os\n",
    "import torch\n",
    "\n",
    "sys.path.append(os.path.dirname(os.path.abspath(os.path.dirname(os.path.abspath(os.path.dirname(os.getcwd()))))))\n",
    "from datasets.weather_bench import WeatherDataset\n",
    "from models.VariableEncoder.datasets.dataset import CustomDataset\n",
    "\n",
    "AIR_VARIABLE = ['geopotential', 'specific_humidity', 'temperature', 'u_component_of_wind', 'v_component_of_wind', 'vertical_velocity']\n",
    "\n",
    "SURFACE_VARIABLE = ['2m_temperature', '10m_u_component_of_wind', '10m_v_component_of_wind', 'mean_sea_level_pressure', 'total_cloud_cover', 'total_precipitation']\n",
    "\n",
    "VARIABLES = AIR_VARIABLE + SURFACE_VARIABLE\n",
    "\n",
    "def get_normal_dataset(air_variable, surface_variable, year_offset: int, tgt_time_len: int):\n",
    "    device = (\"cuda\" if torch.cuda.is_available() else \"cpu\" )\n",
    "    device = torch.device(device)\n",
    "\n",
    "    weather = WeatherDataset(year_offset, device=device)\n",
    "    # dataset.shape:  torch.Size([7309, 100, 1450])\n",
    "    source, label, mean_std = weather.load(air_variable, surface_variable)\n",
    "\n",
    "    dataset = CustomDataset(source, label, tgt_time_len)\n",
    "    return (air_variable, surface_variable, WeatherDataset.PRESSURE_LEVELS), dataset, source.shape, mean_std, label.size(-1)\n",
    "\n",
    "\n",
    "\n",
    "dataset_info, dataset, shape, mean_std, out_dim = get_normal_dataset(AIR_VARIABLE, SURFACE_VARIABLE, 0, 24)"
   ]
  },
  {
   "cell_type": "code",
   "execution_count": null,
   "metadata": {},
   "outputs": [],
   "source": []
  }
 ],
 "metadata": {
  "kernelspec": {
   "display_name": "venv",
   "language": "python",
   "name": "python3"
  },
  "language_info": {
   "codemirror_mode": {
    "name": "ipython",
    "version": 3
   },
   "file_extension": ".py",
   "mimetype": "text/x-python",
   "name": "python",
   "nbconvert_exporter": "python",
   "pygments_lexer": "ipython3",
   "version": "3.10.13"
  }
 },
 "nbformat": 4,
 "nbformat_minor": 2
}
