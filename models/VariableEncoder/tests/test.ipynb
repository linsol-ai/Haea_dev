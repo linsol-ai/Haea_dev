{
 "cells": [
  {
   "cell_type": "code",
   "execution_count": null,
   "metadata": {},
   "outputs": [],
   "source": []
  },
  {
   "cell_type": "code",
   "execution_count": 8,
   "metadata": {},
   "outputs": [],
   "source": [
    "import xarray\n",
    "import xarray_beam as xbeam\n",
    "\n",
    "source_dataset, source_chunks = xbeam.open_zarr('gcs://gcp-public-data-arco-era5/ar/1959-2022-full_37-1h-0p25deg-chunk-1.zarr-v2')"
   ]
  },
  {
   "cell_type": "code",
   "execution_count": 10,
   "metadata": {},
   "outputs": [],
   "source": [
    "import pandas as pd\n",
    "start_date = pd.to_datetime('2016-12-31')\n",
    "end_date = pd.to_datetime('2021-12-31')\n",
    "source_dataset = source_dataset.sel(time=slice(start_date, end_date))"
   ]
  },
  {
   "cell_type": "code",
   "execution_count": 16,
   "metadata": {},
   "outputs": [
    {
     "name": "stdout",
     "output_type": "stream",
     "text": [
      "721\n"
     ]
    }
   ],
   "source": [
    "print(source_dataset.latitude.size)"
   ]
  },
  {
   "cell_type": "code",
   "execution_count": 1,
   "metadata": {},
   "outputs": [
    {
     "name": "stdout",
     "output_type": "stream",
     "text": [
      "데이터셋 불러오는 중...\n",
      "==== LOAD DATASET ====\n",
      " <xarray.Dataset>\n",
      "Dimensions:                       (time: 87673, latitude: 30, longitude: 30,\n",
      "                                   level: 37)\n",
      "Coordinates:\n",
      "  * latitude                      (latitude) float32 32.0 32.25 ... 39.0 39.25\n",
      "  * level                         (level) int64 1 2 3 5 7 ... 925 950 975 1000\n",
      "  * longitude                     (longitude) float32 124.0 124.2 ... 131.2\n",
      "  * time                          (time) datetime64[ns] 2011-12-31 ... 2021-1...\n",
      "Data variables: (12/15)\n",
      "    10m_u_component_of_wind       (time, latitude, longitude) float32 ...\n",
      "    10m_v_component_of_wind       (time, latitude, longitude) float32 ...\n",
      "    2m_temperature                (time, latitude, longitude) float32 ...\n",
      "    geopotential                  (time, level, latitude, longitude) float32 ...\n",
      "    geopotential_at_surface       (latitude, longitude) float32 ...\n",
      "    land_sea_mask                 (latitude, longitude) float32 ...\n",
      "    ...                            ...\n",
      "    toa_incident_solar_radiation  (time, latitude, longitude) float32 ...\n",
      "    total_cloud_cover             (time, latitude, longitude) float32 ...\n",
      "    total_precipitation           (time, latitude, longitude) float32 ...\n",
      "    u_component_of_wind           (time, level, latitude, longitude) float32 ...\n",
      "    v_component_of_wind           (time, level, latitude, longitude) float32 ...\n",
      "    vertical_velocity             (time, level, latitude, longitude) float32 ...\n"
     ]
    },
    {
     "name": "stderr",
     "output_type": "stream",
     "text": [
      "Processing futures: 13it [00:45,  3.48s/it]\n"
     ]
    },
    {
     "name": "stdout",
     "output_type": "stream",
     "text": [
      "torch.Size([2, 1, 900])\n",
      "57.60417 sec\n",
      "==== LOAD DATASET ====\n",
      " <xarray.Dataset>\n",
      "Dimensions:                       (time: 87673, latitude: 20, longitude: 20,\n",
      "                                   level: 37)\n",
      "Coordinates:\n",
      "  * latitude                      (latitude) float64 21.0 22.5 ... 48.0 49.5\n",
      "  * level                         (level) int64 1 2 3 5 7 ... 925 950 975 1000\n",
      "  * longitude                     (longitude) float64 115.5 117.0 ... 144.0\n",
      "  * time                          (time) datetime64[ns] 2011-12-31 ... 2021-1...\n",
      "Data variables: (12/15)\n",
      "    10m_u_component_of_wind       (time, latitude, longitude) float32 ...\n",
      "    10m_v_component_of_wind       (time, latitude, longitude) float32 ...\n",
      "    2m_temperature                (time, latitude, longitude) float32 ...\n",
      "    geopotential                  (time, level, latitude, longitude) float32 ...\n",
      "    geopotential_at_surface       (latitude, longitude) float32 ...\n",
      "    land_sea_mask                 (latitude, longitude) float32 ...\n",
      "    ...                            ...\n",
      "    toa_incident_solar_radiation  (time, latitude, longitude) float32 ...\n",
      "    total_cloud_cover             (time, latitude, longitude) float32 ...\n",
      "    total_precipitation           (time, latitude, longitude) float32 ...\n",
      "    u_component_of_wind           (time, level, latitude, longitude) float32 ...\n",
      "    v_component_of_wind           (time, level, latitude, longitude) float32 ...\n",
      "    vertical_velocity             (time, level, latitude, longitude) float32 ...\n"
     ]
    },
    {
     "name": "stderr",
     "output_type": "stream",
     "text": [
      "Processing futures: 13it [00:17,  1.37s/it]\n"
     ]
    },
    {
     "name": "stdout",
     "output_type": "stream",
     "text": [
      "torch.Size([2, 1, 400])\n",
      "24.08766 sec\n",
      "torch.Size([87673, 231, 1300])\n"
     ]
    }
   ],
   "source": [
    "import sys,os\n",
    "import torch\n",
    "\n",
    "sys.path.append(os.path.dirname(os.path.abspath(os.path.dirname(os.path.abspath(os.path.dirname(os.getcwd()))))))\n",
    "from datasets.weather_bench import WeatherDataset\n",
    "from models.VariableEncoder.datasets.dataset import CustomDataset\n",
    "\n",
    "\n",
    "air = [\"geopotential\", 'specific_humidity', 'temperature', 'u_component_of_wind', 'v_component_of_wind', 'vertical_velocity']\n",
    "sur = ['2m_temperature', '10m_u_component_of_wind', '10m_v_component_of_wind', 'mean_sea_level_pressure', 'total_cloud_cover', 'total_precipitation']\n",
    "only_input_variable = ['toa_incident_solar_radiation']\n",
    "constant_variable = ['geopotential_at_surface', 'land_sea_mask']\n",
    "\n",
    "device = (\"cuda\" if torch.cuda.is_available() else \"cpu\" )\n",
    "device = torch.device(device)\n",
    "\n",
    "weather = WeatherDataset(0, device=device, offline=True)\n",
    "print(weather.load(air, sur, only_input_variable=only_input_variable, constant_variables=constant_variable)[0].shape)"
   ]
  },
  {
   "cell_type": "code",
   "execution_count": 11,
   "metadata": {},
   "outputs": [],
   "source": [
    "def denormalize(inputs, mean_std):\n",
    "    # min_max 텐서를 적절히 재구성하여 inputs의 차원에 맞춤\n",
    "    mean = mean_std[:, 0].view(1, 1, mean_std.size(0), 1)\n",
    "    std = mean_std[:, 1].view(1, 1, mean_std.size(0), 1)\n",
    "    # 역정규화 수행\n",
    "    denormalized = (inputs * std) + mean\n",
    "    return denormalized"
   ]
  },
  {
   "cell_type": "code",
   "execution_count": 15,
   "metadata": {},
   "outputs": [],
   "source": [
    "src, tgt, label = dataset[0]\n",
    "\n",
    "reversed_predict = denormalize(tgt.unsqueeze(0), mean_std)"
   ]
  },
  {
   "cell_type": "code",
   "execution_count": 22,
   "metadata": {},
   "outputs": [
    {
     "name": "stdout",
     "output_type": "stream",
     "text": [
      "tensor([[[2.0130e+05, 2.0128e+05, 2.0127e+05,  ..., 1.9970e+05,\n",
      "          1.9969e+05, 1.9969e+05],\n",
      "         [1.6036e+05, 1.6036e+05, 1.6036e+05,  ..., 1.5738e+05,\n",
      "          1.5740e+05, 1.5741e+05],\n",
      "         [1.3633e+05, 1.3634e+05, 1.3634e+05,  ..., 1.3227e+05,\n",
      "          1.3227e+05, 1.3226e+05],\n",
      "         ...,\n",
      "         [1.0308e+05, 1.0309e+05, 1.0310e+05,  ..., 1.0268e+05,\n",
      "          1.0268e+05, 1.0269e+05],\n",
      "         [1.9595e-01, 1.4695e-01, 1.1039e-01,  ..., 7.8946e-01,\n",
      "          8.8265e-01, 9.0048e-01],\n",
      "         [0.0000e+00, 0.0000e+00, 0.0000e+00,  ..., 1.8327e-04,\n",
      "          2.0125e-04, 1.4473e-04]],\n",
      "\n",
      "        [[2.0138e+05, 2.0138e+05, 2.0137e+05,  ..., 1.9979e+05,\n",
      "          1.9979e+05, 1.9978e+05],\n",
      "         [1.6041e+05, 1.6041e+05, 1.6041e+05,  ..., 1.5743e+05,\n",
      "          1.5745e+05, 1.5746e+05],\n",
      "         [1.3637e+05, 1.3638e+05, 1.3638e+05,  ..., 1.3231e+05,\n",
      "          1.3231e+05, 1.3231e+05],\n",
      "         ...,\n",
      "         [1.0310e+05, 1.0311e+05, 1.0312e+05,  ..., 1.0274e+05,\n",
      "          1.0274e+05, 1.0274e+05],\n",
      "         [1.7562e-01, 1.3599e-01, 8.9238e-02,  ..., 7.5367e-01,\n",
      "          9.0371e-01, 9.0576e-01],\n",
      "         [0.0000e+00, 0.0000e+00, 0.0000e+00,  ..., 2.3808e-04,\n",
      "          1.6271e-04, 8.7351e-05]],\n",
      "\n",
      "        [[2.0145e+05, 2.0144e+05, 2.0143e+05,  ..., 1.9979e+05,\n",
      "          1.9978e+05, 1.9977e+05],\n",
      "         [1.6044e+05, 1.6044e+05, 1.6044e+05,  ..., 1.5738e+05,\n",
      "          1.5740e+05, 1.5741e+05],\n",
      "         [1.3640e+05, 1.3640e+05, 1.3641e+05,  ..., 1.3228e+05,\n",
      "          1.3228e+05, 1.3228e+05],\n",
      "         ...,\n",
      "         [1.0311e+05, 1.0311e+05, 1.0312e+05,  ..., 1.0272e+05,\n",
      "          1.0272e+05, 1.0272e+05],\n",
      "         [1.1200e-01, 1.1075e-01, 6.7874e-02,  ..., 9.8099e-01,\n",
      "          9.7479e-01, 9.2401e-01],\n",
      "         [0.0000e+00, 0.0000e+00, 0.0000e+00,  ..., 1.7213e-04,\n",
      "          8.2213e-05, 2.8260e-05]],\n",
      "\n",
      "        ...,\n",
      "\n",
      "        [[2.0143e+05, 2.0144e+05, 2.0144e+05,  ..., 2.0031e+05,\n",
      "          2.0030e+05, 2.0029e+05],\n",
      "         [1.6093e+05, 1.6093e+05, 1.6093e+05,  ..., 1.5803e+05,\n",
      "          1.5800e+05, 1.5796e+05],\n",
      "         [1.3697e+05, 1.3697e+05, 1.3697e+05,  ..., 1.3297e+05,\n",
      "          1.3296e+05, 1.3295e+05],\n",
      "         ...,\n",
      "         [1.0288e+05, 1.0289e+05, 1.0289e+05,  ..., 1.0249e+05,\n",
      "          1.0248e+05, 1.0248e+05],\n",
      "         [1.5351e-01, 1.0865e-02, 0.0000e+00,  ..., 9.6545e-01,\n",
      "          8.4115e-01, 7.9651e-01],\n",
      "         [0.0000e+00, 0.0000e+00, 0.0000e+00,  ..., 1.3702e-05,\n",
      "          7.7058e-06, 1.7984e-05]],\n",
      "\n",
      "        [[2.0144e+05, 2.0144e+05, 2.0144e+05,  ..., 2.0034e+05,\n",
      "          2.0033e+05, 2.0032e+05],\n",
      "         [1.6094e+05, 1.6095e+05, 1.6095e+05,  ..., 1.5813e+05,\n",
      "          1.5811e+05, 1.5809e+05],\n",
      "         [1.3702e+05, 1.3702e+05, 1.3702e+05,  ..., 1.3300e+05,\n",
      "          1.3298e+05, 1.3296e+05],\n",
      "         ...,\n",
      "         [1.0290e+05, 1.0290e+05, 1.0291e+05,  ..., 1.0250e+05,\n",
      "          1.0249e+05, 1.0248e+05],\n",
      "         [7.5931e-02, 1.0987e-02, 0.0000e+00,  ..., 8.1486e-01,\n",
      "          6.8778e-01, 5.9469e-01],\n",
      "         [0.0000e+00, 0.0000e+00, 0.0000e+00,  ..., 2.3121e-05,\n",
      "          9.4194e-06, 2.2266e-05]],\n",
      "\n",
      "        [[2.0151e+05, 2.0152e+05, 2.0152e+05,  ..., 2.0048e+05,\n",
      "          2.0046e+05, 2.0044e+05],\n",
      "         [1.6100e+05, 1.6100e+05, 1.6100e+05,  ..., 1.5824e+05,\n",
      "          1.5822e+05, 1.5820e+05],\n",
      "         [1.3709e+05, 1.3709e+05, 1.3709e+05,  ..., 1.3313e+05,\n",
      "          1.3311e+05, 1.3308e+05],\n",
      "         ...,\n",
      "         [1.0293e+05, 1.0295e+05, 1.0296e+05,  ..., 1.0257e+05,\n",
      "          1.0256e+05, 1.0256e+05],\n",
      "         [2.8657e-02, 1.0865e-02, 0.0000e+00,  ..., 8.9166e-01,\n",
      "          8.0460e-01, 7.6499e-01],\n",
      "         [0.0000e+00, 0.0000e+00, 0.0000e+00,  ..., 2.6546e-05,\n",
      "          1.0276e-05, 1.1133e-05]]])\n"
     ]
    }
   ],
   "source": [
    "print(reversed_predict[0, : , :, :label.size(-1)])"
   ]
  },
  {
   "cell_type": "code",
   "execution_count": 21,
   "metadata": {},
   "outputs": [
    {
     "name": "stdout",
     "output_type": "stream",
     "text": [
      "tensor([[[2.0130e+05, 2.0128e+05, 2.0127e+05,  ..., 1.9970e+05,\n",
      "          1.9969e+05, 1.9969e+05],\n",
      "         [1.6036e+05, 1.6036e+05, 1.6036e+05,  ..., 1.5738e+05,\n",
      "          1.5740e+05, 1.5741e+05],\n",
      "         [1.3633e+05, 1.3634e+05, 1.3634e+05,  ..., 1.3227e+05,\n",
      "          1.3227e+05, 1.3226e+05],\n",
      "         ...,\n",
      "         [1.0308e+05, 1.0309e+05, 1.0310e+05,  ..., 1.0268e+05,\n",
      "          1.0268e+05, 1.0269e+05],\n",
      "         [1.9595e-01, 1.4695e-01, 1.1039e-01,  ..., 7.8946e-01,\n",
      "          8.8265e-01, 9.0048e-01],\n",
      "         [0.0000e+00, 0.0000e+00, 0.0000e+00,  ..., 1.8327e-04,\n",
      "          2.0125e-04, 1.4473e-04]],\n",
      "\n",
      "        [[2.0138e+05, 2.0138e+05, 2.0137e+05,  ..., 1.9979e+05,\n",
      "          1.9979e+05, 1.9978e+05],\n",
      "         [1.6041e+05, 1.6041e+05, 1.6041e+05,  ..., 1.5743e+05,\n",
      "          1.5745e+05, 1.5746e+05],\n",
      "         [1.3637e+05, 1.3638e+05, 1.3638e+05,  ..., 1.3231e+05,\n",
      "          1.3231e+05, 1.3231e+05],\n",
      "         ...,\n",
      "         [1.0310e+05, 1.0311e+05, 1.0312e+05,  ..., 1.0274e+05,\n",
      "          1.0274e+05, 1.0274e+05],\n",
      "         [1.7562e-01, 1.3599e-01, 8.9237e-02,  ..., 7.5367e-01,\n",
      "          9.0371e-01, 9.0576e-01],\n",
      "         [0.0000e+00, 0.0000e+00, 0.0000e+00,  ..., 2.3808e-04,\n",
      "          1.6271e-04, 8.7351e-05]],\n",
      "\n",
      "        [[2.0145e+05, 2.0144e+05, 2.0143e+05,  ..., 1.9979e+05,\n",
      "          1.9978e+05, 1.9977e+05],\n",
      "         [1.6044e+05, 1.6044e+05, 1.6044e+05,  ..., 1.5738e+05,\n",
      "          1.5740e+05, 1.5741e+05],\n",
      "         [1.3640e+05, 1.3640e+05, 1.3641e+05,  ..., 1.3228e+05,\n",
      "          1.3228e+05, 1.3228e+05],\n",
      "         ...,\n",
      "         [1.0311e+05, 1.0311e+05, 1.0312e+05,  ..., 1.0272e+05,\n",
      "          1.0272e+05, 1.0272e+05],\n",
      "         [1.1200e-01, 1.1075e-01, 6.7874e-02,  ..., 9.8099e-01,\n",
      "          9.7479e-01, 9.2401e-01],\n",
      "         [0.0000e+00, 0.0000e+00, 0.0000e+00,  ..., 1.7213e-04,\n",
      "          8.2213e-05, 2.8260e-05]],\n",
      "\n",
      "        ...,\n",
      "\n",
      "        [[2.0143e+05, 2.0144e+05, 2.0144e+05,  ..., 2.0031e+05,\n",
      "          2.0030e+05, 2.0029e+05],\n",
      "         [1.6093e+05, 1.6093e+05, 1.6093e+05,  ..., 1.5803e+05,\n",
      "          1.5800e+05, 1.5796e+05],\n",
      "         [1.3697e+05, 1.3697e+05, 1.3697e+05,  ..., 1.3297e+05,\n",
      "          1.3296e+05, 1.3295e+05],\n",
      "         ...,\n",
      "         [1.0288e+05, 1.0289e+05, 1.0289e+05,  ..., 1.0249e+05,\n",
      "          1.0248e+05, 1.0248e+05],\n",
      "         [1.5351e-01, 1.0865e-02, 0.0000e+00,  ..., 9.6545e-01,\n",
      "          8.4115e-01, 7.9651e-01],\n",
      "         [0.0000e+00, 0.0000e+00, 0.0000e+00,  ..., 1.3702e-05,\n",
      "          7.7058e-06, 1.7984e-05]],\n",
      "\n",
      "        [[2.0144e+05, 2.0144e+05, 2.0144e+05,  ..., 2.0034e+05,\n",
      "          2.0033e+05, 2.0032e+05],\n",
      "         [1.6094e+05, 1.6095e+05, 1.6095e+05,  ..., 1.5813e+05,\n",
      "          1.5811e+05, 1.5809e+05],\n",
      "         [1.3702e+05, 1.3702e+05, 1.3702e+05,  ..., 1.3300e+05,\n",
      "          1.3298e+05, 1.3296e+05],\n",
      "         ...,\n",
      "         [1.0290e+05, 1.0290e+05, 1.0291e+05,  ..., 1.0250e+05,\n",
      "          1.0249e+05, 1.0248e+05],\n",
      "         [7.5931e-02, 1.0987e-02, 0.0000e+00,  ..., 8.1486e-01,\n",
      "          6.8778e-01, 5.9469e-01],\n",
      "         [0.0000e+00, 0.0000e+00, 0.0000e+00,  ..., 2.3121e-05,\n",
      "          9.4194e-06, 2.2266e-05]],\n",
      "\n",
      "        [[2.0151e+05, 2.0152e+05, 2.0152e+05,  ..., 2.0048e+05,\n",
      "          2.0046e+05, 2.0044e+05],\n",
      "         [1.6100e+05, 1.6100e+05, 1.6100e+05,  ..., 1.5824e+05,\n",
      "          1.5822e+05, 1.5820e+05],\n",
      "         [1.3709e+05, 1.3709e+05, 1.3709e+05,  ..., 1.3313e+05,\n",
      "          1.3311e+05, 1.3308e+05],\n",
      "         ...,\n",
      "         [1.0293e+05, 1.0295e+05, 1.0296e+05,  ..., 1.0257e+05,\n",
      "          1.0256e+05, 1.0256e+05],\n",
      "         [2.8657e-02, 1.0865e-02, 0.0000e+00,  ..., 8.9166e-01,\n",
      "          8.0460e-01, 7.6499e-01],\n",
      "         [0.0000e+00, 0.0000e+00, 0.0000e+00,  ..., 2.6546e-05,\n",
      "          1.0276e-05, 1.1133e-05]]])\n"
     ]
    }
   ],
   "source": [
    "print(label)"
   ]
  }
 ],
 "metadata": {
  "kernelspec": {
   "display_name": "venv",
   "language": "python",
   "name": "python3"
  },
  "language_info": {
   "codemirror_mode": {
    "name": "ipython",
    "version": 3
   },
   "file_extension": ".py",
   "mimetype": "text/x-python",
   "name": "python",
   "nbconvert_exporter": "python",
   "pygments_lexer": "ipython3",
   "version": "3.10.13"
  }
 },
 "nbformat": 4,
 "nbformat_minor": 2
}
