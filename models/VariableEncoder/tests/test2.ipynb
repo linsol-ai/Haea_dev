{
 "cells": [
  {
   "cell_type": "code",
   "execution_count": 47,
   "metadata": {},
   "outputs": [],
   "source": [
    "import torch\n",
    "import torch.nn as nn\n",
    "import math\n",
    "\n",
    "\n",
    "def positional_encoding(batch, d_model, var_len, time_len):\n",
    "    pe = torch.zeros(batch, time_len, d_model).float()\n",
    "    pe.require_grad = False\n",
    "\n",
    "    position = torch.arange(0, time_len).float().unsqueeze(1)\n",
    "    div_term = (torch.arange(0, d_model, 2).float() * -(math.log(10000.0) / d_model)).exp()\n",
    "\n",
    "    pe[:, :, 0::2] = torch.sin(position * div_term)\n",
    "    pe[:, :, 1::2] = torch.cos(position * div_term)\n",
    "\n",
    "    return pe.repeat_interleave(var_len, dim=1)"
   ]
  },
  {
   "cell_type": "code",
   "execution_count": 51,
   "metadata": {},
   "outputs": [
    {
     "name": "stdout",
     "output_type": "stream",
     "text": [
      "torch.Size([3, 16, 6])\n"
     ]
    }
   ],
   "source": [
    "pos = positional_encoding(3, 6, 4, 4)\n",
    "\n",
    "print(pos.shape)"
   ]
  },
  {
   "cell_type": "code",
   "execution_count": 4,
   "metadata": {},
   "outputs": [
    {
     "name": "stdout",
     "output_type": "stream",
     "text": [
      "torch.Size([5, 10, 3, 4])\n"
     ]
    }
   ],
   "source": [
    "import torch\n",
    "\n",
    "# Creating a dummy tensor for demonstration, replace this with your actual tensor\n",
    "batch, time, var, hidden = 5, 10, 3, 4  # Example dimensions\n",
    "tensor = torch.rand(batch, time, var, hidden)  # Random tensor for example\n",
    "\n",
    "# Create a zeros tensor to insert\n",
    "zeros_tensor = torch.zeros(batch, 1, var, hidden)\n",
    "\n",
    "# Insert the zeros tensor at the first index of the time dimension\n",
    "new_tensor = torch.cat((zeros_tensor, tensor[:, 1:, :, :]), dim=1)  # Removing last time index while concatenating\n",
    "\n",
    "print(new_tensor.shape)"
   ]
  }
 ],
 "metadata": {
  "kernelspec": {
   "display_name": "venv",
   "language": "python",
   "name": "python3"
  },
  "language_info": {
   "codemirror_mode": {
    "name": "ipython",
    "version": 3
   },
   "file_extension": ".py",
   "mimetype": "text/x-python",
   "name": "python",
   "nbconvert_exporter": "python",
   "pygments_lexer": "ipython3",
   "version": "3.10.13"
  }
 },
 "nbformat": 4,
 "nbformat_minor": 2
}
