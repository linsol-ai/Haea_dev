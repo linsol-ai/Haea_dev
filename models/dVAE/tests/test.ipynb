{
 "cells": [
  {
   "cell_type": "code",
   "execution_count": 10,
   "metadata": {},
   "outputs": [],
   "source": [
    "import sys,os\n",
    "import torch\n",
    "import pytorch_lightning as pl\n",
    "\n",
    "sys.path.append(os.path.dirname(os.path.abspath(os.path.dirname(os.path.abspath(os.path.dirname(os.getcwd()))))))\n",
    "from models.dVAE.models.model import DiscreteVAE\n",
    "from models.dVAE.training.lightning import DVAETrainModule"
   ]
  },
  {
   "cell_type": "code",
   "execution_count": 32,
   "metadata": {},
   "outputs": [
    {
     "ename": "TypeError",
     "evalue": "DVAETrainModule.__init__() missing 1 required keyword-only argument: 'dvae'",
     "output_type": "error",
     "traceback": [
      "\u001b[0;31m---------------------------------------------------------------------------\u001b[0m",
      "\u001b[0;31mTypeError\u001b[0m                                 Traceback (most recent call last)",
      "Cell \u001b[0;32mIn[32], line 14\u001b[0m\n\u001b[1;32m      1\u001b[0m tensor \u001b[38;5;241m=\u001b[39m torch\u001b[38;5;241m.\u001b[39mzeros(\u001b[38;5;241m1\u001b[39m, \u001b[38;5;241m1\u001b[39m, \u001b[38;5;241m64\u001b[39m, \u001b[38;5;241m64\u001b[39m)\n\u001b[1;32m      3\u001b[0m dvae \u001b[38;5;241m=\u001b[39m DiscreteVAE(\n\u001b[1;32m      4\u001b[0m     num_tokens\u001b[38;5;241m=\u001b[39m\u001b[38;5;241m2048\u001b[39m,\n\u001b[1;32m      5\u001b[0m     codebook_dim\u001b[38;5;241m=\u001b[39m\u001b[38;5;241m256\u001b[39m,\n\u001b[0;32m   (...)\u001b[0m\n\u001b[1;32m     11\u001b[0m     temperature\u001b[38;5;241m=\u001b[39m\u001b[38;5;241m0.2\u001b[39m\n\u001b[1;32m     12\u001b[0m )\n\u001b[0;32m---> 14\u001b[0m model \u001b[38;5;241m=\u001b[39m \u001b[43mDVAETrainModule\u001b[49m\u001b[38;5;241;43m.\u001b[39;49m\u001b[43mload_from_checkpoint\u001b[49m\u001b[43m(\u001b[49m\u001b[38;5;124;43m'\u001b[39;49m\u001b[38;5;124;43m/workspace/Haea_dev/models/dVAE/vqvae_logs/geopotential/models/geopotential-epoch=01-val_loss=0.00.ckpt\u001b[39;49m\u001b[38;5;124;43m'\u001b[39;49m\u001b[43m)\u001b[49m\n",
      "File \u001b[0;32m/workspace/Haea_dev/venv/lib/python3.10/site-packages/pytorch_lightning/utilities/model_helpers.py:100\u001b[0m, in \u001b[0;36m_restricted_classmethod_impl.__get__.<locals>.wrapper\u001b[0;34m(*args, **kwargs)\u001b[0m\n\u001b[1;32m     95\u001b[0m \u001b[38;5;28;01mif\u001b[39;00m instance \u001b[38;5;129;01mis\u001b[39;00m \u001b[38;5;129;01mnot\u001b[39;00m \u001b[38;5;28;01mNone\u001b[39;00m \u001b[38;5;129;01mand\u001b[39;00m \u001b[38;5;129;01mnot\u001b[39;00m is_scripting:\n\u001b[1;32m     96\u001b[0m     \u001b[38;5;28;01mraise\u001b[39;00m \u001b[38;5;167;01mTypeError\u001b[39;00m(\n\u001b[1;32m     97\u001b[0m         \u001b[38;5;124mf\u001b[39m\u001b[38;5;124m\"\u001b[39m\u001b[38;5;124mThe classmethod `\u001b[39m\u001b[38;5;132;01m{\u001b[39;00m\u001b[38;5;28mcls\u001b[39m\u001b[38;5;241m.\u001b[39m\u001b[38;5;18m__name__\u001b[39m\u001b[38;5;132;01m}\u001b[39;00m\u001b[38;5;124m.\u001b[39m\u001b[38;5;132;01m{\u001b[39;00m\u001b[38;5;28mself\u001b[39m\u001b[38;5;241m.\u001b[39mmethod\u001b[38;5;241m.\u001b[39m\u001b[38;5;18m__name__\u001b[39m\u001b[38;5;132;01m}\u001b[39;00m\u001b[38;5;124m` cannot be called on an instance.\u001b[39m\u001b[38;5;124m\"\u001b[39m\n\u001b[1;32m     98\u001b[0m         \u001b[38;5;124m\"\u001b[39m\u001b[38;5;124m Please call it on the class type and make sure the return value is used.\u001b[39m\u001b[38;5;124m\"\u001b[39m\n\u001b[1;32m     99\u001b[0m     )\n\u001b[0;32m--> 100\u001b[0m \u001b[38;5;28;01mreturn\u001b[39;00m \u001b[38;5;28;43mself\u001b[39;49m\u001b[38;5;241;43m.\u001b[39;49m\u001b[43mmethod\u001b[49m\u001b[43m(\u001b[49m\u001b[38;5;28;43mcls\u001b[39;49m\u001b[43m,\u001b[49m\u001b[43m \u001b[49m\u001b[38;5;241;43m*\u001b[39;49m\u001b[43margs\u001b[49m\u001b[43m,\u001b[49m\u001b[43m \u001b[49m\u001b[38;5;241;43m*\u001b[39;49m\u001b[38;5;241;43m*\u001b[39;49m\u001b[43mkwargs\u001b[49m\u001b[43m)\u001b[49m\n",
      "File \u001b[0;32m/workspace/Haea_dev/venv/lib/python3.10/site-packages/pytorch_lightning/core/module.py:1561\u001b[0m, in \u001b[0;36mLightningModule.load_from_checkpoint\u001b[0;34m(cls, checkpoint_path, map_location, hparams_file, strict, **kwargs)\u001b[0m\n\u001b[1;32m   1480\u001b[0m \u001b[38;5;129m@_restricted_classmethod\u001b[39m\n\u001b[1;32m   1481\u001b[0m \u001b[38;5;28;01mdef\u001b[39;00m \u001b[38;5;21mload_from_checkpoint\u001b[39m(\n\u001b[1;32m   1482\u001b[0m     \u001b[38;5;28mcls\u001b[39m,\n\u001b[0;32m   (...)\u001b[0m\n\u001b[1;32m   1487\u001b[0m     \u001b[38;5;241m*\u001b[39m\u001b[38;5;241m*\u001b[39mkwargs: Any,\n\u001b[1;32m   1488\u001b[0m ) \u001b[38;5;241m-\u001b[39m\u001b[38;5;241m>\u001b[39m Self:\n\u001b[1;32m   1489\u001b[0m \u001b[38;5;250m    \u001b[39m\u001b[38;5;124mr\u001b[39m\u001b[38;5;124;03m\"\"\"Primary way of loading a model from a checkpoint. When Lightning saves a checkpoint it stores the arguments\u001b[39;00m\n\u001b[1;32m   1490\u001b[0m \u001b[38;5;124;03m    passed to ``__init__``  in the checkpoint under ``\"hyper_parameters\"``.\u001b[39;00m\n\u001b[1;32m   1491\u001b[0m \n\u001b[0;32m   (...)\u001b[0m\n\u001b[1;32m   1559\u001b[0m \n\u001b[1;32m   1560\u001b[0m \u001b[38;5;124;03m    \"\"\"\u001b[39;00m\n\u001b[0;32m-> 1561\u001b[0m     loaded \u001b[38;5;241m=\u001b[39m \u001b[43m_load_from_checkpoint\u001b[49m\u001b[43m(\u001b[49m\n\u001b[1;32m   1562\u001b[0m \u001b[43m        \u001b[49m\u001b[38;5;28;43mcls\u001b[39;49m\u001b[43m,\u001b[49m\u001b[43m  \u001b[49m\u001b[38;5;66;43;03m# type: ignore[arg-type]\u001b[39;49;00m\n\u001b[1;32m   1563\u001b[0m \u001b[43m        \u001b[49m\u001b[43mcheckpoint_path\u001b[49m\u001b[43m,\u001b[49m\n\u001b[1;32m   1564\u001b[0m \u001b[43m        \u001b[49m\u001b[43mmap_location\u001b[49m\u001b[43m,\u001b[49m\n\u001b[1;32m   1565\u001b[0m \u001b[43m        \u001b[49m\u001b[43mhparams_file\u001b[49m\u001b[43m,\u001b[49m\n\u001b[1;32m   1566\u001b[0m \u001b[43m        \u001b[49m\u001b[43mstrict\u001b[49m\u001b[43m,\u001b[49m\n\u001b[1;32m   1567\u001b[0m \u001b[43m        \u001b[49m\u001b[38;5;241;43m*\u001b[39;49m\u001b[38;5;241;43m*\u001b[39;49m\u001b[43mkwargs\u001b[49m\u001b[43m,\u001b[49m\n\u001b[1;32m   1568\u001b[0m \u001b[43m    \u001b[49m\u001b[43m)\u001b[49m\n\u001b[1;32m   1569\u001b[0m     \u001b[38;5;28;01mreturn\u001b[39;00m cast(Self, loaded)\n",
      "File \u001b[0;32m/workspace/Haea_dev/venv/lib/python3.10/site-packages/pytorch_lightning/core/saving.py:89\u001b[0m, in \u001b[0;36m_load_from_checkpoint\u001b[0;34m(cls, checkpoint_path, map_location, hparams_file, strict, **kwargs)\u001b[0m\n\u001b[1;32m     87\u001b[0m     \u001b[38;5;28;01mreturn\u001b[39;00m _load_state(\u001b[38;5;28mcls\u001b[39m, checkpoint, \u001b[38;5;241m*\u001b[39m\u001b[38;5;241m*\u001b[39mkwargs)\n\u001b[1;32m     88\u001b[0m \u001b[38;5;28;01mif\u001b[39;00m \u001b[38;5;28missubclass\u001b[39m(\u001b[38;5;28mcls\u001b[39m, pl\u001b[38;5;241m.\u001b[39mLightningModule):\n\u001b[0;32m---> 89\u001b[0m     model \u001b[38;5;241m=\u001b[39m \u001b[43m_load_state\u001b[49m\u001b[43m(\u001b[49m\u001b[38;5;28;43mcls\u001b[39;49m\u001b[43m,\u001b[49m\u001b[43m \u001b[49m\u001b[43mcheckpoint\u001b[49m\u001b[43m,\u001b[49m\u001b[43m \u001b[49m\u001b[43mstrict\u001b[49m\u001b[38;5;241;43m=\u001b[39;49m\u001b[43mstrict\u001b[49m\u001b[43m,\u001b[49m\u001b[43m \u001b[49m\u001b[38;5;241;43m*\u001b[39;49m\u001b[38;5;241;43m*\u001b[39;49m\u001b[43mkwargs\u001b[49m\u001b[43m)\u001b[49m\n\u001b[1;32m     90\u001b[0m     state_dict \u001b[38;5;241m=\u001b[39m checkpoint[\u001b[38;5;124m\"\u001b[39m\u001b[38;5;124mstate_dict\u001b[39m\u001b[38;5;124m\"\u001b[39m]\n\u001b[1;32m     91\u001b[0m     \u001b[38;5;28;01mif\u001b[39;00m \u001b[38;5;129;01mnot\u001b[39;00m state_dict:\n",
      "File \u001b[0;32m/workspace/Haea_dev/venv/lib/python3.10/site-packages/pytorch_lightning/core/saving.py:156\u001b[0m, in \u001b[0;36m_load_state\u001b[0;34m(cls, checkpoint, strict, **cls_kwargs_new)\u001b[0m\n\u001b[1;32m    152\u001b[0m \u001b[38;5;28;01mif\u001b[39;00m \u001b[38;5;129;01mnot\u001b[39;00m cls_spec\u001b[38;5;241m.\u001b[39mvarkw:\n\u001b[1;32m    153\u001b[0m     \u001b[38;5;66;03m# filter kwargs according to class init unless it allows any argument via kwargs\u001b[39;00m\n\u001b[1;32m    154\u001b[0m     _cls_kwargs \u001b[38;5;241m=\u001b[39m {k: v \u001b[38;5;28;01mfor\u001b[39;00m k, v \u001b[38;5;129;01min\u001b[39;00m _cls_kwargs\u001b[38;5;241m.\u001b[39mitems() \u001b[38;5;28;01mif\u001b[39;00m k \u001b[38;5;129;01min\u001b[39;00m cls_init_args_name}\n\u001b[0;32m--> 156\u001b[0m obj \u001b[38;5;241m=\u001b[39m \u001b[38;5;28;43mcls\u001b[39;49m\u001b[43m(\u001b[49m\u001b[38;5;241;43m*\u001b[39;49m\u001b[38;5;241;43m*\u001b[39;49m\u001b[43m_cls_kwargs\u001b[49m\u001b[43m)\u001b[49m\n\u001b[1;32m    158\u001b[0m \u001b[38;5;28;01mif\u001b[39;00m \u001b[38;5;28misinstance\u001b[39m(obj, pl\u001b[38;5;241m.\u001b[39mLightningModule):\n\u001b[1;32m    159\u001b[0m     \u001b[38;5;66;03m# give model a chance to load something\u001b[39;00m\n\u001b[1;32m    160\u001b[0m     obj\u001b[38;5;241m.\u001b[39mon_load_checkpoint(checkpoint)\n",
      "\u001b[0;31mTypeError\u001b[0m: DVAETrainModule.__init__() missing 1 required keyword-only argument: 'dvae'"
     ]
    }
   ],
   "source": [
    "tensor = torch.zeros(1, 1, 64, 64)\n",
    "\n",
    "dvae = DiscreteVAE(\n",
    "    num_tokens=2048,\n",
    "    codebook_dim=256,\n",
    "    num_layers=1,\n",
    "    num_resnet_blocks=2,\n",
    "    hidden_dim=128,\n",
    "    channels=1,\n",
    "    smooth_l1_loss=True,\n",
    "    temperature=0.2\n",
    ")\n",
    "\n",
    "model = DVAETrainModule.load_from_checkpoint('/workspace/Haea_dev/models/dVAE/vqvae_logs/geopotential/models/geopotential-epoch=01-val_loss=0.00.ckpt')\n",
    "\n",
    "\n"
   ]
  },
  {
   "cell_type": "code",
   "execution_count": 18,
   "metadata": {},
   "outputs": [
    {
     "ename": "RuntimeError",
     "evalue": "Error(s) in loading state_dict for DiscreteVAE:\n\tMissing key(s) in state_dict: \"codebook.weight\", \"encoder.0.0.weight\", \"encoder.0.0.bias\", \"encoder.1.net.0.weight\", \"encoder.1.net.0.bias\", \"encoder.1.net.2.weight\", \"encoder.1.net.2.bias\", \"encoder.1.net.4.weight\", \"encoder.1.net.4.bias\", \"encoder.2.net.0.weight\", \"encoder.2.net.0.bias\", \"encoder.2.net.2.weight\", \"encoder.2.net.2.bias\", \"encoder.2.net.4.weight\", \"encoder.2.net.4.bias\", \"encoder.3.weight\", \"encoder.3.bias\", \"decoder.0.weight\", \"decoder.0.bias\", \"decoder.1.net.0.weight\", \"decoder.1.net.0.bias\", \"decoder.1.net.2.weight\", \"decoder.1.net.2.bias\", \"decoder.1.net.4.weight\", \"decoder.1.net.4.bias\", \"decoder.2.net.0.weight\", \"decoder.2.net.0.bias\", \"decoder.2.net.2.weight\", \"decoder.2.net.2.bias\", \"decoder.2.net.4.weight\", \"decoder.2.net.4.bias\", \"decoder.3.0.weight\", \"decoder.3.0.bias\", \"decoder.4.weight\", \"decoder.4.bias\". \n\tUnexpected key(s) in state_dict: \"dvae.codebook.weight\", \"dvae.encoder.0.0.weight\", \"dvae.encoder.0.0.bias\", \"dvae.encoder.1.net.0.weight\", \"dvae.encoder.1.net.0.bias\", \"dvae.encoder.1.net.2.weight\", \"dvae.encoder.1.net.2.bias\", \"dvae.encoder.1.net.4.weight\", \"dvae.encoder.1.net.4.bias\", \"dvae.encoder.2.net.0.weight\", \"dvae.encoder.2.net.0.bias\", \"dvae.encoder.2.net.2.weight\", \"dvae.encoder.2.net.2.bias\", \"dvae.encoder.2.net.4.weight\", \"dvae.encoder.2.net.4.bias\", \"dvae.encoder.3.weight\", \"dvae.encoder.3.bias\", \"dvae.decoder.0.weight\", \"dvae.decoder.0.bias\", \"dvae.decoder.1.net.0.weight\", \"dvae.decoder.1.net.0.bias\", \"dvae.decoder.1.net.2.weight\", \"dvae.decoder.1.net.2.bias\", \"dvae.decoder.1.net.4.weight\", \"dvae.decoder.1.net.4.bias\", \"dvae.decoder.2.net.0.weight\", \"dvae.decoder.2.net.0.bias\", \"dvae.decoder.2.net.2.weight\", \"dvae.decoder.2.net.2.bias\", \"dvae.decoder.2.net.4.weight\", \"dvae.decoder.2.net.4.bias\", \"dvae.decoder.3.0.weight\", \"dvae.decoder.3.0.bias\", \"dvae.decoder.4.weight\", \"dvae.decoder.4.bias\". ",
     "output_type": "error",
     "traceback": [
      "\u001b[0;31m---------------------------------------------------------------------------\u001b[0m",
      "\u001b[0;31mRuntimeError\u001b[0m                              Traceback (most recent call last)",
      "Cell \u001b[0;32mIn[18], line 1\u001b[0m\n\u001b[0;32m----> 1\u001b[0m \u001b[43mdvae\u001b[49m\u001b[38;5;241;43m.\u001b[39;49m\u001b[43mload_state_dict\u001b[49m\u001b[43m(\u001b[49m\u001b[43mcheckpoint\u001b[49m\u001b[43m[\u001b[49m\u001b[38;5;124;43m'\u001b[39;49m\u001b[38;5;124;43mstate_dict\u001b[39;49m\u001b[38;5;124;43m'\u001b[39;49m\u001b[43m]\u001b[49m\u001b[43m)\u001b[49m\n",
      "File \u001b[0;32m/workspace/Haea_dev/venv/lib/python3.10/site-packages/torch/nn/modules/module.py:2153\u001b[0m, in \u001b[0;36mModule.load_state_dict\u001b[0;34m(self, state_dict, strict, assign)\u001b[0m\n\u001b[1;32m   2148\u001b[0m         error_msgs\u001b[38;5;241m.\u001b[39minsert(\n\u001b[1;32m   2149\u001b[0m             \u001b[38;5;241m0\u001b[39m, \u001b[38;5;124m'\u001b[39m\u001b[38;5;124mMissing key(s) in state_dict: \u001b[39m\u001b[38;5;132;01m{}\u001b[39;00m\u001b[38;5;124m. \u001b[39m\u001b[38;5;124m'\u001b[39m\u001b[38;5;241m.\u001b[39mformat(\n\u001b[1;32m   2150\u001b[0m                 \u001b[38;5;124m'\u001b[39m\u001b[38;5;124m, \u001b[39m\u001b[38;5;124m'\u001b[39m\u001b[38;5;241m.\u001b[39mjoin(\u001b[38;5;124mf\u001b[39m\u001b[38;5;124m'\u001b[39m\u001b[38;5;124m\"\u001b[39m\u001b[38;5;132;01m{\u001b[39;00mk\u001b[38;5;132;01m}\u001b[39;00m\u001b[38;5;124m\"\u001b[39m\u001b[38;5;124m'\u001b[39m \u001b[38;5;28;01mfor\u001b[39;00m k \u001b[38;5;129;01min\u001b[39;00m missing_keys)))\n\u001b[1;32m   2152\u001b[0m \u001b[38;5;28;01mif\u001b[39;00m \u001b[38;5;28mlen\u001b[39m(error_msgs) \u001b[38;5;241m>\u001b[39m \u001b[38;5;241m0\u001b[39m:\n\u001b[0;32m-> 2153\u001b[0m     \u001b[38;5;28;01mraise\u001b[39;00m \u001b[38;5;167;01mRuntimeError\u001b[39;00m(\u001b[38;5;124m'\u001b[39m\u001b[38;5;124mError(s) in loading state_dict for \u001b[39m\u001b[38;5;132;01m{}\u001b[39;00m\u001b[38;5;124m:\u001b[39m\u001b[38;5;130;01m\\n\u001b[39;00m\u001b[38;5;130;01m\\t\u001b[39;00m\u001b[38;5;132;01m{}\u001b[39;00m\u001b[38;5;124m'\u001b[39m\u001b[38;5;241m.\u001b[39mformat(\n\u001b[1;32m   2154\u001b[0m                        \u001b[38;5;28mself\u001b[39m\u001b[38;5;241m.\u001b[39m\u001b[38;5;18m__class__\u001b[39m\u001b[38;5;241m.\u001b[39m\u001b[38;5;18m__name__\u001b[39m, \u001b[38;5;124m\"\u001b[39m\u001b[38;5;130;01m\\n\u001b[39;00m\u001b[38;5;130;01m\\t\u001b[39;00m\u001b[38;5;124m\"\u001b[39m\u001b[38;5;241m.\u001b[39mjoin(error_msgs)))\n\u001b[1;32m   2155\u001b[0m \u001b[38;5;28;01mreturn\u001b[39;00m _IncompatibleKeys(missing_keys, unexpected_keys)\n",
      "\u001b[0;31mRuntimeError\u001b[0m: Error(s) in loading state_dict for DiscreteVAE:\n\tMissing key(s) in state_dict: \"codebook.weight\", \"encoder.0.0.weight\", \"encoder.0.0.bias\", \"encoder.1.net.0.weight\", \"encoder.1.net.0.bias\", \"encoder.1.net.2.weight\", \"encoder.1.net.2.bias\", \"encoder.1.net.4.weight\", \"encoder.1.net.4.bias\", \"encoder.2.net.0.weight\", \"encoder.2.net.0.bias\", \"encoder.2.net.2.weight\", \"encoder.2.net.2.bias\", \"encoder.2.net.4.weight\", \"encoder.2.net.4.bias\", \"encoder.3.weight\", \"encoder.3.bias\", \"decoder.0.weight\", \"decoder.0.bias\", \"decoder.1.net.0.weight\", \"decoder.1.net.0.bias\", \"decoder.1.net.2.weight\", \"decoder.1.net.2.bias\", \"decoder.1.net.4.weight\", \"decoder.1.net.4.bias\", \"decoder.2.net.0.weight\", \"decoder.2.net.0.bias\", \"decoder.2.net.2.weight\", \"decoder.2.net.2.bias\", \"decoder.2.net.4.weight\", \"decoder.2.net.4.bias\", \"decoder.3.0.weight\", \"decoder.3.0.bias\", \"decoder.4.weight\", \"decoder.4.bias\". \n\tUnexpected key(s) in state_dict: \"dvae.codebook.weight\", \"dvae.encoder.0.0.weight\", \"dvae.encoder.0.0.bias\", \"dvae.encoder.1.net.0.weight\", \"dvae.encoder.1.net.0.bias\", \"dvae.encoder.1.net.2.weight\", \"dvae.encoder.1.net.2.bias\", \"dvae.encoder.1.net.4.weight\", \"dvae.encoder.1.net.4.bias\", \"dvae.encoder.2.net.0.weight\", \"dvae.encoder.2.net.0.bias\", \"dvae.encoder.2.net.2.weight\", \"dvae.encoder.2.net.2.bias\", \"dvae.encoder.2.net.4.weight\", \"dvae.encoder.2.net.4.bias\", \"dvae.encoder.3.weight\", \"dvae.encoder.3.bias\", \"dvae.decoder.0.weight\", \"dvae.decoder.0.bias\", \"dvae.decoder.1.net.0.weight\", \"dvae.decoder.1.net.0.bias\", \"dvae.decoder.1.net.2.weight\", \"dvae.decoder.1.net.2.bias\", \"dvae.decoder.1.net.4.weight\", \"dvae.decoder.1.net.4.bias\", \"dvae.decoder.2.net.0.weight\", \"dvae.decoder.2.net.0.bias\", \"dvae.decoder.2.net.2.weight\", \"dvae.decoder.2.net.2.bias\", \"dvae.decoder.2.net.4.weight\", \"dvae.decoder.2.net.4.bias\", \"dvae.decoder.3.0.weight\", \"dvae.decoder.3.0.bias\", \"dvae.decoder.4.weight\", \"dvae.decoder.4.bias\". "
     ]
    }
   ],
   "source": [
    "dvae.load_state_dict(checkpoint['state_dict'])"
   ]
  }
 ],
 "metadata": {
  "kernelspec": {
   "display_name": "venv",
   "language": "python",
   "name": "python3"
  },
  "language_info": {
   "codemirror_mode": {
    "name": "ipython",
    "version": 3
   },
   "file_extension": ".py",
   "mimetype": "text/x-python",
   "name": "python",
   "nbconvert_exporter": "python",
   "pygments_lexer": "ipython3",
   "version": "3.10.13"
  }
 },
 "nbformat": 4,
 "nbformat_minor": 2
}
