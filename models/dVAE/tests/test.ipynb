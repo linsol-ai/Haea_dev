{
 "cells": [
  {
   "cell_type": "code",
   "execution_count": 10,
   "metadata": {},
   "outputs": [],
   "source": [
    "import sys,os\n",
    "import torch\n",
    "import pytorch_lightning as pl\n",
    "\n",
    "sys.path.append(os.path.dirname(os.path.abspath(os.path.dirname(os.path.abspath(os.path.dirname(os.getcwd()))))))\n",
    "from models.dVAE.models.model import DiscreteVAE\n",
    "from models.dVAE.training.lightning import DVAETrainModule"
   ]
  },
  {
   "cell_type": "code",
   "execution_count": 16,
   "metadata": {},
   "outputs": [],
   "source": [
    "tensor = torch.zeros(1, 1, 64, 64)\n",
    "\n",
    "dvae = DiscreteVAE(\n",
    "    image_size=64,\n",
    "    num_tokens=8192,\n",
    "    codebook_dim=512,\n",
    "    num_layers=1,\n",
    "    num_resnet_blocks=2,\n",
    "    hidden_dim=256,\n",
    "    channels=1,\n",
    ")\n",
    "\n",
    "checkpoint = torch.load('/workspace/Haea_dev/models/dVAE/vqvae_logs/geopotential/vqvae/qw3tfjq3/checkpoints/epoch=5-step=3120.ckpt')\n",
    "\n"
   ]
  },
  {
   "cell_type": "code",
   "execution_count": 18,
   "metadata": {},
   "outputs": [
    {
     "ename": "RuntimeError",
     "evalue": "Error(s) in loading state_dict for DiscreteVAE:\n\tMissing key(s) in state_dict: \"codebook.weight\", \"encoder.0.0.weight\", \"encoder.0.0.bias\", \"encoder.1.net.0.weight\", \"encoder.1.net.0.bias\", \"encoder.1.net.2.weight\", \"encoder.1.net.2.bias\", \"encoder.1.net.4.weight\", \"encoder.1.net.4.bias\", \"encoder.2.net.0.weight\", \"encoder.2.net.0.bias\", \"encoder.2.net.2.weight\", \"encoder.2.net.2.bias\", \"encoder.2.net.4.weight\", \"encoder.2.net.4.bias\", \"encoder.3.weight\", \"encoder.3.bias\", \"decoder.0.weight\", \"decoder.0.bias\", \"decoder.1.net.0.weight\", \"decoder.1.net.0.bias\", \"decoder.1.net.2.weight\", \"decoder.1.net.2.bias\", \"decoder.1.net.4.weight\", \"decoder.1.net.4.bias\", \"decoder.2.net.0.weight\", \"decoder.2.net.0.bias\", \"decoder.2.net.2.weight\", \"decoder.2.net.2.bias\", \"decoder.2.net.4.weight\", \"decoder.2.net.4.bias\", \"decoder.3.0.weight\", \"decoder.3.0.bias\", \"decoder.4.weight\", \"decoder.4.bias\". \n\tUnexpected key(s) in state_dict: \"dvae.codebook.weight\", \"dvae.encoder.0.0.weight\", \"dvae.encoder.0.0.bias\", \"dvae.encoder.1.net.0.weight\", \"dvae.encoder.1.net.0.bias\", \"dvae.encoder.1.net.2.weight\", \"dvae.encoder.1.net.2.bias\", \"dvae.encoder.1.net.4.weight\", \"dvae.encoder.1.net.4.bias\", \"dvae.encoder.2.net.0.weight\", \"dvae.encoder.2.net.0.bias\", \"dvae.encoder.2.net.2.weight\", \"dvae.encoder.2.net.2.bias\", \"dvae.encoder.2.net.4.weight\", \"dvae.encoder.2.net.4.bias\", \"dvae.encoder.3.weight\", \"dvae.encoder.3.bias\", \"dvae.decoder.0.weight\", \"dvae.decoder.0.bias\", \"dvae.decoder.1.net.0.weight\", \"dvae.decoder.1.net.0.bias\", \"dvae.decoder.1.net.2.weight\", \"dvae.decoder.1.net.2.bias\", \"dvae.decoder.1.net.4.weight\", \"dvae.decoder.1.net.4.bias\", \"dvae.decoder.2.net.0.weight\", \"dvae.decoder.2.net.0.bias\", \"dvae.decoder.2.net.2.weight\", \"dvae.decoder.2.net.2.bias\", \"dvae.decoder.2.net.4.weight\", \"dvae.decoder.2.net.4.bias\", \"dvae.decoder.3.0.weight\", \"dvae.decoder.3.0.bias\", \"dvae.decoder.4.weight\", \"dvae.decoder.4.bias\". ",
     "output_type": "error",
     "traceback": [
      "\u001b[0;31m---------------------------------------------------------------------------\u001b[0m",
      "\u001b[0;31mRuntimeError\u001b[0m                              Traceback (most recent call last)",
      "Cell \u001b[0;32mIn[18], line 1\u001b[0m\n\u001b[0;32m----> 1\u001b[0m \u001b[43mdvae\u001b[49m\u001b[38;5;241;43m.\u001b[39;49m\u001b[43mload_state_dict\u001b[49m\u001b[43m(\u001b[49m\u001b[43mcheckpoint\u001b[49m\u001b[43m[\u001b[49m\u001b[38;5;124;43m'\u001b[39;49m\u001b[38;5;124;43mstate_dict\u001b[39;49m\u001b[38;5;124;43m'\u001b[39;49m\u001b[43m]\u001b[49m\u001b[43m)\u001b[49m\n",
      "File \u001b[0;32m/workspace/Haea_dev/venv/lib/python3.10/site-packages/torch/nn/modules/module.py:2153\u001b[0m, in \u001b[0;36mModule.load_state_dict\u001b[0;34m(self, state_dict, strict, assign)\u001b[0m\n\u001b[1;32m   2148\u001b[0m         error_msgs\u001b[38;5;241m.\u001b[39minsert(\n\u001b[1;32m   2149\u001b[0m             \u001b[38;5;241m0\u001b[39m, \u001b[38;5;124m'\u001b[39m\u001b[38;5;124mMissing key(s) in state_dict: \u001b[39m\u001b[38;5;132;01m{}\u001b[39;00m\u001b[38;5;124m. \u001b[39m\u001b[38;5;124m'\u001b[39m\u001b[38;5;241m.\u001b[39mformat(\n\u001b[1;32m   2150\u001b[0m                 \u001b[38;5;124m'\u001b[39m\u001b[38;5;124m, \u001b[39m\u001b[38;5;124m'\u001b[39m\u001b[38;5;241m.\u001b[39mjoin(\u001b[38;5;124mf\u001b[39m\u001b[38;5;124m'\u001b[39m\u001b[38;5;124m\"\u001b[39m\u001b[38;5;132;01m{\u001b[39;00mk\u001b[38;5;132;01m}\u001b[39;00m\u001b[38;5;124m\"\u001b[39m\u001b[38;5;124m'\u001b[39m \u001b[38;5;28;01mfor\u001b[39;00m k \u001b[38;5;129;01min\u001b[39;00m missing_keys)))\n\u001b[1;32m   2152\u001b[0m \u001b[38;5;28;01mif\u001b[39;00m \u001b[38;5;28mlen\u001b[39m(error_msgs) \u001b[38;5;241m>\u001b[39m \u001b[38;5;241m0\u001b[39m:\n\u001b[0;32m-> 2153\u001b[0m     \u001b[38;5;28;01mraise\u001b[39;00m \u001b[38;5;167;01mRuntimeError\u001b[39;00m(\u001b[38;5;124m'\u001b[39m\u001b[38;5;124mError(s) in loading state_dict for \u001b[39m\u001b[38;5;132;01m{}\u001b[39;00m\u001b[38;5;124m:\u001b[39m\u001b[38;5;130;01m\\n\u001b[39;00m\u001b[38;5;130;01m\\t\u001b[39;00m\u001b[38;5;132;01m{}\u001b[39;00m\u001b[38;5;124m'\u001b[39m\u001b[38;5;241m.\u001b[39mformat(\n\u001b[1;32m   2154\u001b[0m                        \u001b[38;5;28mself\u001b[39m\u001b[38;5;241m.\u001b[39m\u001b[38;5;18m__class__\u001b[39m\u001b[38;5;241m.\u001b[39m\u001b[38;5;18m__name__\u001b[39m, \u001b[38;5;124m\"\u001b[39m\u001b[38;5;130;01m\\n\u001b[39;00m\u001b[38;5;130;01m\\t\u001b[39;00m\u001b[38;5;124m\"\u001b[39m\u001b[38;5;241m.\u001b[39mjoin(error_msgs)))\n\u001b[1;32m   2155\u001b[0m \u001b[38;5;28;01mreturn\u001b[39;00m _IncompatibleKeys(missing_keys, unexpected_keys)\n",
      "\u001b[0;31mRuntimeError\u001b[0m: Error(s) in loading state_dict for DiscreteVAE:\n\tMissing key(s) in state_dict: \"codebook.weight\", \"encoder.0.0.weight\", \"encoder.0.0.bias\", \"encoder.1.net.0.weight\", \"encoder.1.net.0.bias\", \"encoder.1.net.2.weight\", \"encoder.1.net.2.bias\", \"encoder.1.net.4.weight\", \"encoder.1.net.4.bias\", \"encoder.2.net.0.weight\", \"encoder.2.net.0.bias\", \"encoder.2.net.2.weight\", \"encoder.2.net.2.bias\", \"encoder.2.net.4.weight\", \"encoder.2.net.4.bias\", \"encoder.3.weight\", \"encoder.3.bias\", \"decoder.0.weight\", \"decoder.0.bias\", \"decoder.1.net.0.weight\", \"decoder.1.net.0.bias\", \"decoder.1.net.2.weight\", \"decoder.1.net.2.bias\", \"decoder.1.net.4.weight\", \"decoder.1.net.4.bias\", \"decoder.2.net.0.weight\", \"decoder.2.net.0.bias\", \"decoder.2.net.2.weight\", \"decoder.2.net.2.bias\", \"decoder.2.net.4.weight\", \"decoder.2.net.4.bias\", \"decoder.3.0.weight\", \"decoder.3.0.bias\", \"decoder.4.weight\", \"decoder.4.bias\". \n\tUnexpected key(s) in state_dict: \"dvae.codebook.weight\", \"dvae.encoder.0.0.weight\", \"dvae.encoder.0.0.bias\", \"dvae.encoder.1.net.0.weight\", \"dvae.encoder.1.net.0.bias\", \"dvae.encoder.1.net.2.weight\", \"dvae.encoder.1.net.2.bias\", \"dvae.encoder.1.net.4.weight\", \"dvae.encoder.1.net.4.bias\", \"dvae.encoder.2.net.0.weight\", \"dvae.encoder.2.net.0.bias\", \"dvae.encoder.2.net.2.weight\", \"dvae.encoder.2.net.2.bias\", \"dvae.encoder.2.net.4.weight\", \"dvae.encoder.2.net.4.bias\", \"dvae.encoder.3.weight\", \"dvae.encoder.3.bias\", \"dvae.decoder.0.weight\", \"dvae.decoder.0.bias\", \"dvae.decoder.1.net.0.weight\", \"dvae.decoder.1.net.0.bias\", \"dvae.decoder.1.net.2.weight\", \"dvae.decoder.1.net.2.bias\", \"dvae.decoder.1.net.4.weight\", \"dvae.decoder.1.net.4.bias\", \"dvae.decoder.2.net.0.weight\", \"dvae.decoder.2.net.0.bias\", \"dvae.decoder.2.net.2.weight\", \"dvae.decoder.2.net.2.bias\", \"dvae.decoder.2.net.4.weight\", \"dvae.decoder.2.net.4.bias\", \"dvae.decoder.3.0.weight\", \"dvae.decoder.3.0.bias\", \"dvae.decoder.4.weight\", \"dvae.decoder.4.bias\". "
     ]
    }
   ],
   "source": [
    "dvae.load_state_dict(checkpoint['state_dict'])"
   ]
  }
 ],
 "metadata": {
  "kernelspec": {
   "display_name": "venv",
   "language": "python",
   "name": "python3"
  },
  "language_info": {
   "codemirror_mode": {
    "name": "ipython",
    "version": 3
   },
   "file_extension": ".py",
   "mimetype": "text/x-python",
   "name": "python",
   "nbconvert_exporter": "python",
   "pygments_lexer": "ipython3",
   "version": "3.10.13"
  }
 },
 "nbformat": 4,
 "nbformat_minor": 2
}
