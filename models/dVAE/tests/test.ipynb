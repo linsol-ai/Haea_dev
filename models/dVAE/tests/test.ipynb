{
 "cells": [
  {
   "cell_type": "code",
   "execution_count": 1,
   "metadata": {},
   "outputs": [],
   "source": [
    "import sys,os\n",
    "import torch\n",
    "import pytorch_lightning as pl\n",
    "\n",
    "sys.path.append(os.path.dirname(os.path.abspath(os.path.dirname(os.path.abspath(os.path.dirname(os.getcwd()))))))\n",
    "from models.dVAE.models.model import DiscreteVAE\n",
    "from models.dVAE.training.lightning import DVAETrainModule"
   ]
  },
  {
   "cell_type": "code",
   "execution_count": 3,
   "metadata": {},
   "outputs": [],
   "source": [
    "tensor = torch.zeros(1, 1, 64, 64)\n",
    "\n",
    "dvae = DiscreteVAE(\n",
    "    num_tokens=2048,\n",
    "    codebook_dim=256,\n",
    "    num_layers=1,\n",
    "    num_resnet_blocks=2,\n",
    "    hidden_dim=128,\n",
    "    channels=1,\n",
    "    smooth_l1_loss=True,\n",
    "    temperature=0.2\n",
    ")\n",
    "\n",
    "model = DVAETrainModule.load_from_checkpoint('/workspace/Haea_dev/models/dVAE/vqvae_logs/2m_temperature/models/2m_temperature-epoch=10-val_loss=0.00.ckpt')\n",
    "\n",
    "\n"
   ]
  },
  {
   "cell_type": "code",
   "execution_count": null,
   "metadata": {},
   "outputs": [],
   "source": []
  },
  {
   "cell_type": "code",
   "execution_count": 36,
   "metadata": {},
   "outputs": [
    {
     "name": "stdout",
     "output_type": "stream",
     "text": [
      "dict_keys(['epoch', 'global_step', 'pytorch-lightning_version', 'state_dict', 'loops', 'callbacks', 'optimizer_states', 'lr_schedulers', 'hparams_name', 'hyper_parameters', 'dvae_state'])\n"
     ]
    },
    {
     "data": {
      "text/plain": [
       "<All keys matched successfully>"
      ]
     },
     "execution_count": 36,
     "metadata": {},
     "output_type": "execute_result"
    }
   ],
   "source": [
    "checkpoint = torch.load('/workspace/Haea_dev/models/dVAE/vqvae_logs/geopotential/models/geopotential-epoch=00-val_loss=0.00.ckpt')\n",
    "print(checkpoint.keys())\n",
    "dvae.load_state_dict(checkpoint['dvae_state'])"
   ]
  }
 ],
 "metadata": {
  "kernelspec": {
   "display_name": "venv",
   "language": "python",
   "name": "python3"
  },
  "language_info": {
   "codemirror_mode": {
    "name": "ipython",
    "version": 3
   },
   "file_extension": ".py",
   "mimetype": "text/x-python",
   "name": "python",
   "nbconvert_exporter": "python",
   "pygments_lexer": "ipython3",
   "version": "3.10.13"
  }
 },
 "nbformat": 4,
 "nbformat_minor": 2
}
