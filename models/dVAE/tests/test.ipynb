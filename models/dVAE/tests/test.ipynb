{
 "cells": [
  {
   "cell_type": "code",
   "execution_count": 1,
   "metadata": {},
   "outputs": [],
   "source": [
    "import sys,os\n",
    "import torch\n",
    "import pytorch_lightning as pl\n",
    "\n",
    "sys.path.append(os.path.dirname(os.path.abspath(os.path.dirname(os.path.abspath(os.path.dirname(os.getcwd()))))))\n",
    "from models.dVAE.models.model import DiscreteVAE\n",
    "from models.dVAE.training.lightning import DVAETrainModule\n",
    "from datasets.weather_bench import WeatherDataset"
   ]
  },
  {
   "cell_type": "code",
   "execution_count": 2,
   "metadata": {},
   "outputs": [
    {
     "name": "stderr",
     "output_type": "stream",
     "text": [
      "/workspace/Haea_dev/venv/lib/python3.10/site-packages/pytorch_lightning/utilities/parsing.py:198: Attribute 'dvae' is an instance of `nn.Module` and is already saved during checkpointing. It is recommended to ignore them using `self.save_hyperparameters(ignore=['dvae'])`.\n"
     ]
    }
   ],
   "source": [
    "tensor = torch.zeros(1, 1, 64, 64)\n",
    "\n",
    "dvae = DiscreteVAE(\n",
    "    num_tokens=2048,\n",
    "    codebook_dim=256,\n",
    "    num_layers=1,\n",
    "    num_resnet_blocks=2,\n",
    "    hidden_dim=128,\n",
    "    channels=1,\n",
    "    smooth_l1_loss=True,\n",
    "    temperature=0.2\n",
    ")\n",
    "\n",
    "model = DVAETrainModule.load_from_checkpoint('/workspace/Haea_dev/checkpoints/dVAE/2m_temperature/2m_temperature-epoch=32-val_loss=0.00.ckpt')\n",
    "\n",
    "\n"
   ]
  },
  {
   "cell_type": "code",
   "execution_count": 3,
   "metadata": {},
   "outputs": [
    {
     "name": "stdout",
     "output_type": "stream",
     "text": [
      "데이터셋 불러오는 중...\n",
      "==== LOAD DATASET ====\n",
      " <xarray.Dataset>\n",
      "Dimensions:                       (time: 17545, latitude: 64, longitude: 64,\n",
      "                                   level: 13)\n",
      "Coordinates:\n",
      "  * latitude                      (latitude) float32 27.0 27.25 ... 42.5 42.75\n",
      "  * level                         (level) int64 50 100 150 200 ... 850 925 1000\n",
      "  * longitude                     (longitude) float32 119.2 119.5 ... 135.0\n",
      "  * time                          (time) datetime64[ns] 2019-12-31 ... 2021-1...\n",
      "Data variables: (12/15)\n",
      "    10m_u_component_of_wind       (time, latitude, longitude) float32 ...\n",
      "    10m_v_component_of_wind       (time, latitude, longitude) float32 ...\n",
      "    2m_temperature                (time, latitude, longitude) float32 ...\n",
      "    geopotential                  (time, level, latitude, longitude) float32 ...\n",
      "    land_sea_mask                 (latitude, longitude) float32 ...\n",
      "    mean_sea_level_pressure       (time, latitude, longitude) float32 ...\n",
      "    ...                            ...\n",
      "    toa_incident_solar_radiation  (time, latitude, longitude) float32 ...\n",
      "    total_cloud_cover             (time, latitude, longitude) float32 ...\n",
      "    total_precipitation           (time, latitude, longitude) float32 ...\n",
      "    u_component_of_wind           (time, level, latitude, longitude) float32 ...\n",
      "    v_component_of_wind           (time, level, latitude, longitude) float32 ...\n",
      "    vertical_velocity             (time, level, latitude, longitude) float32 ...\n"
     ]
    },
    {
     "name": "stderr",
     "output_type": "stream",
     "text": [
      "Processing futures: 0it [00:00, ?it/s]"
     ]
    },
    {
     "name": "stderr",
     "output_type": "stream",
     "text": [
      "Processing futures: 1it [00:00,  1.93it/s]"
     ]
    },
    {
     "name": "stdout",
     "output_type": "stream",
     "text": [
      "0.54582 sec\n"
     ]
    },
    {
     "name": "stderr",
     "output_type": "stream",
     "text": [
      "\n"
     ]
    }
   ],
   "source": [
    "device = (\"cuda\" if torch.cuda.is_available() else \"cpu\" )\n",
    "device = torch.device(device)\n",
    "weather = WeatherDataset(0, device=device, offline=True)\n",
    "\n",
    "lat = (32, 39.3)\n",
    "lon = (124, 131.4)\n",
    "input, _, _ = weather.load_2D(variables=['2m_temperature'], latitude=lat, longitude=lon)"
   ]
  },
  {
   "cell_type": "code",
   "execution_count": 4,
   "metadata": {},
   "outputs": [
    {
     "name": "stdout",
     "output_type": "stream",
     "text": [
      "torch.Size([17545, 1, 64, 64])\n",
      "torch.Size([2, 2048, 32, 32])\n"
     ]
    }
   ],
   "source": [
    "print(input['2m_temperature'].shape)\n",
    "\n",
    "dataset = input['2m_temperature']\n",
    "\n",
    "predict = model(dataset[:2].to(device))"
   ]
  },
  {
   "cell_type": "code",
   "execution_count": 5,
   "metadata": {},
   "outputs": [
    {
     "name": "stdout",
     "output_type": "stream",
     "text": [
      "torch.Size([2, 1024])\n"
     ]
    }
   ],
   "source": [
    "print(predict.shape)"
   ]
  }
 ],
 "metadata": {
  "kernelspec": {
   "display_name": "venv",
   "language": "python",
   "name": "python3"
  },
  "language_info": {
   "codemirror_mode": {
    "name": "ipython",
    "version": 3
   },
   "file_extension": ".py",
   "mimetype": "text/x-python",
   "name": "python",
   "nbconvert_exporter": "python",
   "pygments_lexer": "ipython3",
   "version": "3.10.13"
  }
 },
 "nbformat": 4,
 "nbformat_minor": 2
}
