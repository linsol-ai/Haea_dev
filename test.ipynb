{
 "cells": [
  {
   "cell_type": "code",
   "execution_count": null,
   "metadata": {},
   "outputs": [],
   "source": [
    "def get_tgt_mask(var_len, time_len) -> torch.Tensor:\n",
    "    size = var_len * time_len\n",
    "    matrix = torch.full((size, size), float('-inf'))\n",
    "    for i in range(time_len):\n",
    "        s =  (i * var_len) + 1\n",
    "        e =  ((i+1) * var_len) + 1\n",
    "        matrix[s:e, :e] = 0\n",
    "    return matrix\n"
   ]
  }
 ],
 "metadata": {
  "kernelspec": {
   "display_name": "venv",
   "language": "python",
   "name": "python3"
  },
  "language_info": {
   "name": "python",
   "version": "3.10.13"
  }
 },
 "nbformat": 4,
 "nbformat_minor": 2
}
