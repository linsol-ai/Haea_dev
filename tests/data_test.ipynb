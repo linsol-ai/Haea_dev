{
 "cells": [
  {
   "cell_type": "code",
   "execution_count": 1,
   "metadata": {},
   "outputs": [
    {
     "name": "stdout",
     "output_type": "stream",
     "text": [
      "[1, 2, 3, 4]\n"
     ]
    }
   ],
   "source": [
    "data = [1, 2, 3, 4, 5]\n",
    "\n",
    "print(data[:-1])"
   ]
  },
  {
   "cell_type": "code",
   "execution_count": 1,
   "metadata": {},
   "outputs": [
    {
     "name": "stdout",
     "output_type": "stream",
     "text": [
      "84453.77358148\n"
     ]
    }
   ],
   "source": [
    "import xarray_beam as xbeam\n",
    "import xarray\n",
    "\n",
    "ds, _ = xbeam.open_zarr('gcs://weatherbench2/datasets/era5/1959-2023_01_10-full_37-1h-512x256_equiangular_conservative.zarr')\n",
    "print(ds.nbytes / (10**9))"
   ]
  },
  {
   "cell_type": "code",
   "execution_count": 3,
   "metadata": {},
   "outputs": [],
   "source": [
    "import pandas as pd\n",
    "import numpy as np\n",
    "\n",
    "start_date = pd.to_datetime('2021-01-01')\n",
    "end_date = pd.to_datetime('2021-01-03')\n",
    "\n",
    "lat_min, lat_max = (32, 39.3)\n",
    "lon_min, lon_max = (124, 131.4)\n",
    "\n",
    "# 해당 범위에 속하는 위도와 경도의 인덱스 d\n",
    "lat_indices = np.where((ds.latitude >= lat_min) & (ds.latitude <= lat_max))[0]\n",
    "lon_indices = np.where((ds.longitude >= lon_min) & (ds.longitude <= lon_max))[0]\n",
    "\n",
    "source_dataset = ds.sel(time=slice(start_date, end_date))\n",
    "\n",
    "source_dataset = source_dataset.isel(latitude=lat_indices, longitude=lon_indices)"
   ]
  },
  {
   "cell_type": "code",
   "execution_count": 4,
   "metadata": {},
   "outputs": [
    {
     "name": "stdout",
     "output_type": "stream",
     "text": [
      "<xarray.Dataset>\n",
      "Dimensions:                                           (time: 49, longitude: 10,\n",
      "                                                       latitude: 10, level: 37)\n",
      "Coordinates:\n",
      "  * latitude                                          (latitude) float64 32.7...\n",
      "  * level                                             (level) int64 1 2 ... 1000\n",
      "  * longitude                                         (longitude) float64 124...\n",
      "  * time                                              (time) datetime64[ns] 2...\n",
      "Data variables: (12/48)\n",
      "    10m_u_component_of_wind                           (time, longitude, latitude) float32 ...\n",
      "    10m_v_component_of_wind                           (time, longitude, latitude) float32 ...\n",
      "    2m_dewpoint_temperature                           (time, longitude, latitude) float32 ...\n",
      "    2m_temperature                                    (time, longitude, latitude) float32 ...\n",
      "    angle_of_sub_gridscale_orography                  (longitude, latitude) float32 ...\n",
      "    anisotropy_of_sub_gridscale_orography             (longitude, latitude) float32 ...\n",
      "    ...                                                ...\n",
      "    v_component_of_wind                               (time, level, longitude, latitude) float32 ...\n",
      "    vertical_velocity                                 (time, level, longitude, latitude) float32 ...\n",
      "    volumetric_soil_water_layer_1                     (time, longitude, latitude) float32 ...\n",
      "    volumetric_soil_water_layer_2                     (time, longitude, latitude) float32 ...\n",
      "    volumetric_soil_water_layer_3                     (time, longitude, latitude) float32 ...\n",
      "    volumetric_soil_water_layer_4                     (time, longitude, latitude) float32 ...\n"
     ]
    }
   ],
   "source": [
    "print(source_dataset)"
   ]
  },
  {
   "cell_type": "code",
   "execution_count": null,
   "metadata": {},
   "outputs": [],
   "source": [
    "dar = ds_kor['2m_temperature']\n",
    "dar = dar.sel(level=100)\n",
    "\n",
    "data = dar.to_numpy()\n",
    "print(data.shape)"
   ]
  },
  {
   "cell_type": "code",
   "execution_count": null,
   "metadata": {},
   "outputs": [],
   "source": [
    "print(data)"
   ]
  },
  {
   "cell_type": "code",
   "execution_count": null,
   "metadata": {},
   "outputs": [],
   "source": [
    "import pandas as pd\n",
    "dar = ds['2m_temperature']\n",
    "i2 = pd.to_datetime(str(2018) + '-03-01T00:00:00.000000000') \n",
    "dar = dar.sel(time=i2)\n",
    "print(dar)"
   ]
  },
  {
   "cell_type": "code",
   "execution_count": null,
   "metadata": {},
   "outputs": [],
   "source": [
    "ds_kor = dar.isel(latitude=lat_indices, longitude=lon_indices)\n",
    "print(ds_kor.latitude)\n",
    "print(ds_kor.longitude)\n"
   ]
  },
  {
   "cell_type": "code",
   "execution_count": null,
   "metadata": {},
   "outputs": [],
   "source": [
    "import matplotlib.font_manager as fm\n",
    "import matplotlib.pyplot as plt\n",
    "import warnings\n",
    "warnings.filterwarnings(action='ignore')\n",
    "\n",
    "%matplotlib inline\n",
    "%config InlineBackend.figure_format = 'retina'\n",
    "plt.rcParams[\"figure.figsize\"] = (6,6) #차트 사이즈\n",
    "from mpl_toolkits.basemap import Basemap, cm\n",
    "m = Basemap(llcrnrlon=min(ds_kor.longitude),llcrnrlat=min(ds_kor.latitude),urcrnrlon=max(ds_kor.longitude),urcrnrlat=max(ds_kor.latitude), resolution='i',projection='cyl',lon_0=(max(ds_kor.longitude)-min(ds_kor.longitude)) / 2,lat_0=(max(ds_kor.latitude)-min(ds_kor.latitude)) / 2)\n",
    "ds_kor.plot()\n",
    "m.drawcoastlines()"
   ]
  }
 ],
 "metadata": {
  "kernelspec": {
   "display_name": "venv",
   "language": "python",
   "name": "python3"
  },
  "language_info": {
   "codemirror_mode": {
    "name": "ipython",
    "version": 3
   },
   "file_extension": ".py",
   "mimetype": "text/x-python",
   "name": "python",
   "nbconvert_exporter": "python",
   "pygments_lexer": "ipython3",
   "version": "3.10.13"
  }
 },
 "nbformat": 4,
 "nbformat_minor": 2
}
