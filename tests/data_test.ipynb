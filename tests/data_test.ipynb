{
 "cells": [
  {
   "cell_type": "code",
   "execution_count": 6,
   "metadata": {},
   "outputs": [
    {
     "name": "stdout",
     "output_type": "stream",
     "text": [
      "534392.622804012\n"
     ]
    }
   ],
   "source": [
    "import xarray_beam as xbeam\n",
    "import xarray\n",
    "import apache_beam as beam\n",
    "import pandas as pd\n",
    "import numpy as np \n",
    "\n",
    "ds = xarray.open_zarr('gcs://gcp-public-data-arco-era5/ar/1959-2022-full_37-1h-0p25deg-chunk-1.zarr-v2')\n",
    "print(ds.nbytes / (10**9))"
   ]
  },
  {
   "cell_type": "code",
   "execution_count": 7,
   "metadata": {},
   "outputs": [
    {
     "name": "stdout",
     "output_type": "stream",
     "text": [
      "<bound method Mapping.keys of <xarray.Dataset>\n",
      "Dimensions:                                           (time: 43825, spatial: 900)\n",
      "Coordinates:\n",
      "  * time                                              (time) datetime64[ns] 2...\n",
      "  * spatial                                           (spatial) object MultiIndex\n",
      "  * latitude                                          (spatial) float32 32.0 ...\n",
      "  * longitude                                         (spatial) float32 124.0...\n",
      "Data variables: (12/740)\n",
      "    10m_u_component_of_wind                           (time, spatial) float32 dask.array<chunksize=(1, 900), meta=np.ndarray>\n",
      "    10m_v_component_of_wind                           (time, spatial) float32 dask.array<chunksize=(1, 900), meta=np.ndarray>\n",
      "    2m_temperature                                    (time, spatial) float32 dask.array<chunksize=(1, 900), meta=np.ndarray>\n",
      "    angle_of_sub_gridscale_orography                  (spatial) float32 dask.array<chunksize=(900,), meta=np.ndarray>\n",
      "    anisotropy_of_sub_gridscale_orography             (spatial) float32 dask.array<chunksize=(900,), meta=np.ndarray>\n",
      "    geopotential_at_surface                           (spatial) float32 dask.array<chunksize=(900,), meta=np.ndarray>\n",
      "    ...                                                ...\n",
      "    vertical_velocity_std_level_875                   float32 dask.array<chunksize=(), meta=np.ndarray>\n",
      "    vertical_velocity_std_level_900                   float32 dask.array<chunksize=(), meta=np.ndarray>\n",
      "    vertical_velocity_std_level_925                   float32 dask.array<chunksize=(), meta=np.ndarray>\n",
      "    vertical_velocity_std_level_950                   float32 dask.array<chunksize=(), meta=np.ndarray>\n",
      "    vertical_velocity_std_level_975                   float32 dask.array<chunksize=(), meta=np.ndarray>\n",
      "    vertical_velocity_std_level_1000                  float32 dask.array<chunksize=(), meta=np.ndarray>>\n"
     ]
    }
   ],
   "source": [
    "import dask.array as da\n",
    "\n",
    "AIR_VARIABLE = ['geopotential', 'specific_humidity', 'temperature', 'u_component_of_wind', 'v_component_of_wind', 'vertical_velocity']\n",
    "\n",
    "SURFACE_VARIABLE = ['2m_temperature', '10m_u_component_of_wind', '10m_v_component_of_wind', 'mean_sea_level_pressure', 'total_cloud_cover', 'total_precipitation']\n",
    "\n",
    "VARIABLES = AIR_VARIABLE + SURFACE_VARIABLE\n",
    "\n",
    "\n",
    "start_date = pd.to_datetime('2016-12-31')\n",
    "end_date = pd.to_datetime('2021-12-31')\n",
    "\n",
    "lat_min, lat_max = (32, 39.3)\n",
    "lon_min, lon_max = (124, 131.4)\n",
    "\n",
    "\n",
    "# 해당 범위에 속하는 위도와 경도의 인덱스 찾기\n",
    "lat_indices = np.where((ds.latitude >= lat_min) & (ds.latitude <= lat_max))[0]\n",
    "lon_indices = np.where((ds.longitude >= lon_min) & (ds.longitude <= lon_max))[0]\n",
    "\n",
    "ds = ds.sel(time=slice(start_date, end_date))\n",
    "\n",
    "ds = ds.isel(latitude=lat_indices, longitude=lon_indices).sortby('latitude', ascending=True)\n",
    "\n",
    "\n",
    "def standardize(data):\n",
    "    mean = data.mean(dim=['time', 'latitude', 'longitude'], keep_attrs=True)\n",
    "    std = data.std(dim=['time', 'latitude', 'longitude'], keep_attrs=True)\n",
    "    standardized_data = (data - mean) / std\n",
    "    return standardized_data, mean, std\n",
    "\n",
    "for val in VARIABLES:\n",
    "    standardized_data, mean, std = standardize(ds[val])\n",
    "    ds[val] = standardized_data\n",
    "    ds[val + \"_mean\"] = mean\n",
    "    ds[val + \"_std\"] = std\n",
    "\n",
    "\n",
    "ds_stacked = ds.stack(spatial=('latitude', 'longitude'))\n",
    "\n",
    "variables_with_level = [var for var in ds_stacked.data_vars if 'level' in ds_stacked[var].dims]\n",
    "\n",
    "level_vars = [var for var in ds_stacked.variables if 'level' in ds_stacked[var].dims and var in mean]\n",
    "\n",
    "# 각 level 차원마다 새 변수 생성\n",
    "for var_name in level_vars:\n",
    "    for level in ds_stacked.level:\n",
    "        # 새 변수 이름 형식: 원본변수명_level값\n",
    "        new_var_name = f\"{var_name}_level_{level.values}\"\n",
    "        \n",
    "        # 선택한 level에 대한 데이터를 새 변수로 할당\n",
    "        ds_stacked[new_var_name] = ds_stacked[var_name].sel(level=level)\n",
    "        \n",
    "        # 필요하다면, 새로운 변수에서 level 차원을 제거\n",
    "        ds_stacked[new_var_name] = ds_stacked[new_var_name].drop_vars('level', errors='ignore')\n",
    "    \n",
    "\n",
    "ds_stacked = ds_stacked.drop_vars(level_vars)\n",
    "\n",
    "print(ds_stacked.keys)\n",
    "\n"
   ]
  },
  {
   "cell_type": "code",
   "execution_count": 9,
   "metadata": {},
   "outputs": [
    {
     "name": "stdout",
     "output_type": "stream",
     "text": [
      "<xarray.DataArray 'vertical_velocity_level_875' (time: 43825, spatial: 900)>\n",
      "dask.array<getitem, shape=(43825, 900), dtype=float32, chunksize=(1, 900), chunktype=numpy.ndarray>\n",
      "Coordinates:\n",
      "  * time       (time) datetime64[ns] 2016-12-31 ... 2021-12-31\n",
      "  * spatial    (spatial) object MultiIndex\n",
      "  * latitude   (spatial) float32 32.0 32.0 32.0 32.0 ... 39.25 39.25 39.25 39.25\n",
      "  * longitude  (spatial) float32 124.0 124.2 124.5 124.8 ... 130.8 131.0 131.2\n"
     ]
    }
   ],
   "source": [
    "print(ds_stacked['vertical_velocity_level_875'])"
   ]
  },
  {
   "cell_type": "code",
   "execution_count": null,
   "metadata": {},
   "outputs": [],
   "source": [
    "ds_stacked = ds_stacked.drop_vars(AIR_VARIABLE)\n",
    "\n",
    "print(len(list(ds_stacked.keys())))"
   ]
  },
  {
   "cell_type": "code",
   "execution_count": null,
   "metadata": {},
   "outputs": [],
   "source": [
    "print(ds_stacked['vertical_velocity_level_875'])"
   ]
  },
  {
   "cell_type": "code",
   "execution_count": 9,
   "metadata": {},
   "outputs": [
    {
     "name": "stdout",
     "output_type": "stream",
     "text": [
      "<xarray.Dataset>\n",
      "Dimensions:                       (time: 43825, spatial: 900, level: 37)\n",
      "Coordinates:\n",
      "  * level                         (level) int64 1 2 3 5 7 ... 925 950 975 1000\n",
      "  * time                          (time) datetime64[ns] 2016-12-31 ... 2021-1...\n",
      "  * spatial                       (spatial) object MultiIndex\n",
      "  * latitude                      (spatial) float32 32.0 32.0 ... 39.25 39.25\n",
      "  * longitude                     (spatial) float32 124.0 124.2 ... 131.0 131.2\n",
      "Data variables: (12/39)\n",
      "    10m_u_component_of_wind       (time, spatial) float32 dask.array<chunksize=(64, 900), meta=np.ndarray>\n",
      "    10m_v_component_of_wind       (time, spatial) float32 dask.array<chunksize=(64, 900), meta=np.ndarray>\n",
      "    2m_temperature                (time, spatial) float32 dask.array<chunksize=(64, 900), meta=np.ndarray>\n",
      "    geopotential                  (time, level, spatial) float32 dask.array<chunksize=(64, 37, 900), meta=np.ndarray>\n",
      "    land_sea_mask                 (spatial) float32 dask.array<chunksize=(900,), meta=np.ndarray>\n",
      "    mean_sea_level_pressure       (time, spatial) float32 dask.array<chunksize=(64, 900), meta=np.ndarray>\n",
      "    ...                            ...\n",
      "    mean_sea_level_pressure_mean  float32 dask.array<chunksize=(), meta=np.ndarray>\n",
      "    mean_sea_level_pressure_std   float32 dask.array<chunksize=(), meta=np.ndarray>\n",
      "    total_cloud_cover_mean        float32 dask.array<chunksize=(), meta=np.ndarray>\n",
      "    total_cloud_cover_std         float32 dask.array<chunksize=(), meta=np.ndarray>\n",
      "    total_precipitation_mean      float32 dask.array<chunksize=(), meta=np.ndarray>\n",
      "    total_precipitation_std       float32 dask.array<chunksize=(), meta=np.ndarray>\n"
     ]
    }
   ],
   "source": [
    "print(ds_stacked)\n",
    "\n",
    "dataset = []\n",
    "for val in ds_stacked.keys():\n",
    "    dataset.append(ds_stacked[val].values)"
   ]
  },
  {
   "cell_type": "code",
   "execution_count": null,
   "metadata": {},
   "outputs": [],
   "source": [
    "import matplotlib.pyplot as plt\n",
    "import numpy as np\n",
    "\n",
    "# 2차원 넘파이 배열 생성\n",
    "\n",
    "# 히트맵 생성\n",
    "plt.imshow(sea_data, cmap='hot', interpolation='nearest')\n",
    "plt.colorbar()  # 색상 바 추가\n",
    "plt.show()"
   ]
  },
  {
   "cell_type": "code",
   "execution_count": null,
   "metadata": {},
   "outputs": [],
   "source": [
    "HAS_LEVEL_VARIABLE = [ 'geopotential', 'specific_humidity', 'temperature', 'u_component_of_wind', 'v_component_of_wind', 'vertical_velocity']\n",
    "\n",
    "# 새 차원을 추가하고 데이터 변수를 결합\n",
    "data_arrays = [ds[var].expand_dims('variable').assign_coords(variable=[var]) for var in HAS_LEVEL_VARIABLE]\n",
    "combined_ds = xarray.concat(data_arrays, dim='variable')\n",
    "# 결과 확인\n",
    "stacked_ds = combined_ds.stack(variable_level=('variable', 'level'))\n",
    "stacked_ds = stacked_ds.stack(hidden_dim=('latitude', 'longitude'))\n",
    "print(stacked_ds.values.shape)"
   ]
  },
  {
   "cell_type": "code",
   "execution_count": null,
   "metadata": {},
   "outputs": [],
   "source": [
    "HAS_LEVEL_VARIABLE = [ 'geopotential', 'specific_humidity', 'temperature', 'u_component_of_wind', 'v_component_of_wind', 'vertical_velocity']\n",
    "\n",
    "# 새 차원을 추가하고 데이터 변수를 결합\n",
    "data_arrays = [ds[var].expand_dims('variable').assign_coords(variable=[var]) for var in HAS_LEVEL_VARIABLE]\n",
    "combined_ds = xarray.concat(data_arrays, dim='variable')\n",
    "# 결과 확인\n",
    "stacked_ds = combined_ds.stack(variable_level=('variable', 'level'))"
   ]
  },
  {
   "cell_type": "code",
   "execution_count": null,
   "metadata": {},
   "outputs": [],
   "source": [
    "print(stacked_ds.values)"
   ]
  },
  {
   "cell_type": "code",
   "execution_count": null,
   "metadata": {},
   "outputs": [],
   "source": [
    "new_dataset = ds.isel(latitude=lat_indices, longitude=lon_indices)"
   ]
  },
  {
   "cell_type": "code",
   "execution_count": null,
   "metadata": {},
   "outputs": [],
   "source": [
    "print(new_dataset)"
   ]
  },
  {
   "cell_type": "code",
   "execution_count": null,
   "metadata": {},
   "outputs": [],
   "source": [
    "variable = ['geopotential', 'specific_humidity', 'temperature', 'u_component_of_wind', 'v_component_of_wind', 'vertical_velocity']\n",
    "arr = ds[variable]"
   ]
  },
  {
   "cell_type": "code",
   "execution_count": null,
   "metadata": {},
   "outputs": [],
   "source": [
    "print(arr)"
   ]
  },
  {
   "cell_type": "code",
   "execution_count": null,
   "metadata": {},
   "outputs": [],
   "source": [
    "# 새 차원을 추가하고 데이터 변수를 결합\n",
    "data_arrays = [arr[var].expand_dims('variable').assign_coords(variable=[var]) for var in variable]\n",
    "combined_ds = xarray.concat(data_arrays, dim='variable')\n",
    "# 결과 확인\n",
    "stacked_ds = combined_ds.stack(variable_level=('variable', 'level'))\n",
    "stacked_ds = stacked_ds.stack(hidden_dim=('latitude', 'longitude'))\n"
   ]
  },
  {
   "cell_type": "code",
   "execution_count": null,
   "metadata": {},
   "outputs": [],
   "source": [
    "print(stacked_ds)"
   ]
  },
  {
   "cell_type": "code",
   "execution_count": null,
   "metadata": {},
   "outputs": [],
   "source": [
    "arr = stacked_ds.compute()\n",
    "print(arr)"
   ]
  },
  {
   "cell_type": "code",
   "execution_count": null,
   "metadata": {},
   "outputs": [],
   "source": [
    "import numpy as np\n",
    "\n",
    "lat_min, lat_max = 32.2, 39.0\n",
    "lon_min, lon_max = 124.2, 131\n",
    "\n",
    "# 해당 범위에 속하는 위도와 경도의 인덱스 찾기\n",
    "lat_indices = np.where((ds.latitude >= lat_min) & (ds.latitude <= lat_max))[0]\n",
    "lon_indices = np.where((ds.longitude >= lon_min) & (ds.longitude <= lon_max))[0]\n",
    "\n",
    "print(\"Latitude indices:\", len(lat_indices))\n",
    "print(\"Longitude indices:\", len(lon_indices))"
   ]
  },
  {
   "cell_type": "code",
   "execution_count": null,
   "metadata": {},
   "outputs": [],
   "source": [
    "ds_kor = arr.isel(latitude=lat_indices, longitude=lon_indices)\n",
    "print(ds_kor)"
   ]
  },
  {
   "cell_type": "code",
   "execution_count": null,
   "metadata": {},
   "outputs": [],
   "source": [
    "dar = ds_kor['2m_temperature']\n",
    "dar = dar.sel(level=100)\n",
    "\n",
    "data = dar.to_numpy()\n",
    "print(data.shape)"
   ]
  },
  {
   "cell_type": "code",
   "execution_count": null,
   "metadata": {},
   "outputs": [],
   "source": [
    "print(data)"
   ]
  },
  {
   "cell_type": "code",
   "execution_count": null,
   "metadata": {},
   "outputs": [],
   "source": [
    "import pandas as pd\n",
    "dar = ds['2m_temperature']\n",
    "i2 = pd.to_datetime(str(2018) + '-03-01T00:00:00.000000000') \n",
    "dar = dar.sel(time=i2)\n",
    "print(dar)"
   ]
  },
  {
   "cell_type": "code",
   "execution_count": null,
   "metadata": {},
   "outputs": [],
   "source": [
    "ds_kor = dar.isel(latitude=lat_indices, longitude=lon_indices)\n",
    "print(ds_kor.latitude)\n",
    "print(ds_kor.longitude)\n"
   ]
  },
  {
   "cell_type": "code",
   "execution_count": null,
   "metadata": {},
   "outputs": [],
   "source": [
    "import matplotlib.font_manager as fm\n",
    "import matplotlib.pyplot as plt\n",
    "import warnings\n",
    "warnings.filterwarnings(action='ignore')\n",
    "\n",
    "%matplotlib inline\n",
    "%config InlineBackend.figure_format = 'retina'\n",
    "plt.rcParams[\"figure.figsize\"] = (6,6) #차트 사이즈\n",
    "from mpl_toolkits.basemap import Basemap, cm\n",
    "m = Basemap(llcrnrlon=min(ds_kor.longitude),llcrnrlat=min(ds_kor.latitude),urcrnrlon=max(ds_kor.longitude),urcrnrlat=max(ds_kor.latitude), resolution='i',projection='cyl',lon_0=(max(ds_kor.longitude)-min(ds_kor.longitude)) / 2,lat_0=(max(ds_kor.latitude)-min(ds_kor.latitude)) / 2)\n",
    "ds_kor.plot()\n",
    "m.drawcoastlines()"
   ]
  }
 ],
 "metadata": {
  "kernelspec": {
   "display_name": "venv",
   "language": "python",
   "name": "python3"
  },
  "language_info": {
   "codemirror_mode": {
    "name": "ipython",
    "version": 3
   },
   "file_extension": ".py",
   "mimetype": "text/x-python",
   "name": "python",
   "nbconvert_exporter": "python",
   "pygments_lexer": "ipython3",
   "version": "3.10.13"
  }
 },
 "nbformat": 4,
 "nbformat_minor": 2
}
