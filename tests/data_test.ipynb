{
 "cells": [
  {
   "cell_type": "code",
   "execution_count": 1,
   "metadata": {},
   "outputs": [
    {
     "name": "stdout",
     "output_type": "stream",
     "text": [
      "36.287454736\n"
     ]
    }
   ],
   "source": [
    "import xarray_beam as xbeam\n",
    "import xarray\n",
    "import apache_beam as beam\n",
    "import pandas as pd\n",
    "import numpy as np \n",
    "\n",
    "ds, _ = xbeam.open_zarr('/workspace/Haea_dev/resource/1440x720/2016-12-31_2021-12-31.zarr')\n",
    "print(ds.nbytes / (10**9))"
   ]
  },
  {
   "cell_type": "code",
   "execution_count": 2,
   "metadata": {},
   "outputs": [],
   "source": [
    "import dask.array as da\n",
    "\n",
    "AIR_VARIABLE = ['geopotential', 'specific_humidity', 'temperature', 'u_component_of_wind', 'v_component_of_wind', 'vertical_velocity']\n",
    "\n",
    "SURFACE_VARIABLE = ['2m_temperature', '10m_u_component_of_wind', '10m_v_component_of_wind', 'mean_sea_level_pressure', 'total_cloud_cover', 'total_precipitation']\n",
    "\n",
    "VARIABLES = AIR_VARIABLE + SURFACE_VARIABLE\n",
    "\n",
    "\n",
    "def standardize(data):\n",
    "    mean = data.mean(dim=['time', 'latitude', 'longitude'], keep_attrs=True)\n",
    "    std = data.std(dim=['time', 'latitude', 'longitude'], keep_attrs=True)\n",
    "    standardized_data = (data - mean) / std\n",
    "    return standardized_data, mean, std\n",
    "\n",
    "for val in VARIABLES:\n",
    "    standardized_data, mean, std = standardize(ds[val])\n",
    "    ds[val + \"_st\"] = standardized_data\n",
    "    ds[val + \"_mean\"] = mean\n",
    "    ds[val + \"_std\"] = std\n",
    "\n",
    "\n",
    "ds_stacked = ds.stack(spatial=('latitude', 'longitude'))\n",
    "\n",
    "variables_with_level = [var for var in ds_stacked.data_vars if 'level' in ds_stacked[var].dims]\n",
    "\n",
    "level_vars = [var for var in ds_stacked.variables if 'level' in ds_stacked[var].dims]\n",
    "\n",
    "# 각 level 차원마다 새 변수 생성\n",
    "for var_name in level_vars:\n",
    "    for level in ds_stacked.level:\n",
    "        # 새 변수 이름 형식: 원본변수명_level값\n",
    "        new_var_name = f\"{var_name}_level_{level.values}\"\n",
    "        \n",
    "        # 선택한 level에 대한 데이터를 새 변수로 할당\n",
    "        ds_stacked[new_var_name] = ds_stacked[var_name].sel(level=level)\n",
    "        \n",
    "        # 필요하다면, 새로운 변수에서 level 차원을 제거\n",
    "        ds_stacked[new_var_name] = ds_stacked[new_var_name].drop_vars('level', errors='ignore')\n",
    "    \n",
    "\n",
    "ds_stacked = ds_stacked.drop_vars(level_vars)\n",
    "\n",
    "print(ds_stacked.keys)\n",
    "\n"
   ]
  },
  {
   "cell_type": "code",
   "execution_count": 3,
   "metadata": {},
   "outputs": [
    {
     "name": "stdout",
     "output_type": "stream",
     "text": [
      "<xarray.DataArray 'vertical_velocity_level_875' (time: 43825, spatial: 900)>\n",
      "array([[ 0.07863677,  0.07172513,  0.06135774, ..., -1.0056858 ,\n",
      "        -0.6670177 , -0.19835865],\n",
      "       [ 0.08953583,  0.07783926,  0.09352326, ..., -1.1457784 ,\n",
      "        -0.6832334 , -0.07953238],\n",
      "       [ 0.04195213,  0.04381299,  0.08023179, ..., -1.0083442 ,\n",
      "        -0.71194315, -0.19915605],\n",
      "       ...,\n",
      "       [ 0.3654706 ,  0.39827365,  0.39087296, ..., -0.36599767,\n",
      "        -0.22158419, -0.22118415],\n",
      "       [ 0.42067575,  0.40707445,  0.3428685 , ..., -0.32299364,\n",
      "        -0.23358531, -0.05516866],\n",
      "       [ 0.22757697,  0.27604812,  0.30767095, ..., -0.2579121 ,\n",
      "         0.06894416,  0.2560894 ]], dtype=float32)\n",
      "Coordinates:\n",
      "  * time       (time) datetime64[ns] 2016-12-31 ... 2021-12-31\n",
      "  * spatial    (spatial) object MultiIndex\n",
      "  * latitude   (spatial) float32 32.0 32.0 32.0 32.0 ... 39.25 39.25 39.25 39.25\n",
      "  * longitude  (spatial) float32 124.0 124.2 124.5 124.8 ... 130.8 131.0 131.2\n",
      "Attributes:\n",
      "    long_name:      Vertical velocity\n",
      "    short_name:     w\n",
      "    standard_name:  lagrangian_tendency_of_air_pressure\n",
      "    units:          Pa s**-1\n"
     ]
    }
   ],
   "source": [
    "print(ds_stacked['vertical_velocity_level_875'])"
   ]
  },
  {
   "cell_type": "code",
   "execution_count": 4,
   "metadata": {},
   "outputs": [
    {
     "name": "stdout",
     "output_type": "stream",
     "text": [
      "<xarray.Dataset>\n",
      "Dimensions:                              (time: 43825, spatial: 900)\n",
      "Coordinates:\n",
      "  * time                                 (time) datetime64[ns] 2016-12-31 ......\n",
      "  * spatial                              (spatial) object MultiIndex\n",
      "  * latitude                             (spatial) float32 32.0 32.0 ... 39.25\n",
      "  * longitude                            (spatial) float32 124.0 124.2 ... 131.2\n",
      "Data variables: (12/952)\n",
      "    10m_u_component_of_wind              (time, spatial) float32 -3.736 ... 0...\n",
      "    10m_v_component_of_wind              (time, spatial) float32 -1.479 ... -...\n",
      "    2m_temperature                       (time, spatial) float32 283.8 ... 269.6\n",
      "    land_sea_mask                        (spatial) float32 0.0 0.0 ... 0.0 0.0\n",
      "    mean_sea_level_pressure              (time, spatial) float32 1.031e+05 .....\n",
      "    sea_surface_temperature              (time, spatial) float32 287.3 ... 284.6\n",
      "    ...                                   ...\n",
      "    vertical_velocity_std_level_875      float32 0.3481\n",
      "    vertical_velocity_std_level_900      float32 0.3372\n",
      "    vertical_velocity_std_level_925      float32 0.3105\n",
      "    vertical_velocity_std_level_950      float32 0.2628\n",
      "    vertical_velocity_std_level_975      float32 0.1972\n",
      "    vertical_velocity_std_level_1000     float32 0.1309\n"
     ]
    }
   ],
   "source": [
    "print(ds_stacked)\n",
    "\n",
    "dataset = []\n",
    "for val in ds_stacked.keys():\n",
    "    dataset.append(ds_stacked[val].values)"
   ]
  },
  {
   "cell_type": "code",
   "execution_count": 11,
   "metadata": {},
   "outputs": [
    {
     "name": "stdout",
     "output_type": "stream",
     "text": [
      "(43825, 900)\n"
     ]
    },
    {
     "ename": "",
     "evalue": "",
     "output_type": "error",
     "traceback": [
      "\u001b[1;31m현재 셀 또는 이전 셀에서 코드를 실행하는 동안 Kernel이 충돌했습니다. \n",
      "\u001b[1;31m셀의 코드를 검토하여 가능한 오류 원인을 식별하세요. \n",
      "\u001b[1;31m자세한 내용을 보려면 <a href='https://aka.ms/vscodeJupyterKernelCrash'>여기</a>를 클릭하세요. \n",
      "\u001b[1;31m자세한 내용은 Jupyter <a href='command:jupyter.viewOutput'>로그</a>를 참조하세요."
     ]
    }
   ],
   "source": [
    "print(dataset[0].shape)"
   ]
  },
  {
   "cell_type": "code",
   "execution_count": null,
   "metadata": {},
   "outputs": [],
   "source": [
    "import matplotlib.pyplot as plt\n",
    "import numpy as np\n",
    "\n",
    "# 2차원 넘파이 배열 생성\n",
    "\n",
    "# 히트맵 생성\n",
    "plt.imshow(sea_data, cmap='hot', interpolation='nearest')\n",
    "plt.colorbar()  # 색상 바 추가\n",
    "plt.show()"
   ]
  },
  {
   "cell_type": "code",
   "execution_count": null,
   "metadata": {},
   "outputs": [],
   "source": [
    "HAS_LEVEL_VARIABLE = [ 'geopotential', 'specific_humidity', 'temperature', 'u_component_of_wind', 'v_component_of_wind', 'vertical_velocity']\n",
    "\n",
    "# 새 차원을 추가하고 데이터 변수를 결합\n",
    "data_arrays = [ds[var].expand_dims('variable').assign_coords(variable=[var]) for var in HAS_LEVEL_VARIABLE]\n",
    "combined_ds = xarray.concat(data_arrays, dim='variable')\n",
    "# 결과 확인\n",
    "stacked_ds = combined_ds.stack(variable_level=('variable', 'level'))\n",
    "stacked_ds = stacked_ds.stack(hidden_dim=('latitude', 'longitude'))\n",
    "print(stacked_ds.values.shape)"
   ]
  },
  {
   "cell_type": "code",
   "execution_count": null,
   "metadata": {},
   "outputs": [],
   "source": [
    "HAS_LEVEL_VARIABLE = [ 'geopotential', 'specific_humidity', 'temperature', 'u_component_of_wind', 'v_component_of_wind', 'vertical_velocity']\n",
    "\n",
    "# 새 차원을 추가하고 데이터 변수를 결합\n",
    "data_arrays = [ds[var].expand_dims('variable').assign_coords(variable=[var]) for var in HAS_LEVEL_VARIABLE]\n",
    "combined_ds = xarray.concat(data_arrays, dim='variable')\n",
    "# 결과 확인\n",
    "stacked_ds = combined_ds.stack(variable_level=('variable', 'level'))"
   ]
  },
  {
   "cell_type": "code",
   "execution_count": null,
   "metadata": {},
   "outputs": [],
   "source": [
    "print(stacked_ds.values)"
   ]
  },
  {
   "cell_type": "code",
   "execution_count": null,
   "metadata": {},
   "outputs": [],
   "source": [
    "new_dataset = ds.isel(latitude=lat_indices, longitude=lon_indices)"
   ]
  },
  {
   "cell_type": "code",
   "execution_count": null,
   "metadata": {},
   "outputs": [],
   "source": [
    "print(new_dataset)"
   ]
  },
  {
   "cell_type": "code",
   "execution_count": null,
   "metadata": {},
   "outputs": [],
   "source": [
    "variable = ['geopotential', 'specific_humidity', 'temperature', 'u_component_of_wind', 'v_component_of_wind', 'vertical_velocity']\n",
    "arr = ds[variable]"
   ]
  },
  {
   "cell_type": "code",
   "execution_count": null,
   "metadata": {},
   "outputs": [],
   "source": [
    "print(arr)"
   ]
  },
  {
   "cell_type": "code",
   "execution_count": null,
   "metadata": {},
   "outputs": [],
   "source": [
    "# 새 차원을 추가하고 데이터 변수를 결합\n",
    "data_arrays = [arr[var].expand_dims('variable').assign_coords(variable=[var]) for var in variable]\n",
    "combined_ds = xarray.concat(data_arrays, dim='variable')\n",
    "# 결과 확인\n",
    "stacked_ds = combined_ds.stack(variable_level=('variable', 'level'))\n",
    "stacked_ds = stacked_ds.stack(hidden_dim=('latitude', 'longitude'))\n"
   ]
  },
  {
   "cell_type": "code",
   "execution_count": null,
   "metadata": {},
   "outputs": [],
   "source": [
    "print(stacked_ds)"
   ]
  },
  {
   "cell_type": "code",
   "execution_count": null,
   "metadata": {},
   "outputs": [],
   "source": [
    "arr = stacked_ds.compute()\n",
    "print(arr)"
   ]
  },
  {
   "cell_type": "code",
   "execution_count": null,
   "metadata": {},
   "outputs": [],
   "source": [
    "import numpy as np\n",
    "\n",
    "lat_min, lat_max = 32.2, 39.0\n",
    "lon_min, lon_max = 124.2, 131\n",
    "\n",
    "# 해당 범위에 속하는 위도와 경도의 인덱스 찾기\n",
    "lat_indices = np.where((ds.latitude >= lat_min) & (ds.latitude <= lat_max))[0]\n",
    "lon_indices = np.where((ds.longitude >= lon_min) & (ds.longitude <= lon_max))[0]\n",
    "\n",
    "print(\"Latitude indices:\", len(lat_indices))\n",
    "print(\"Longitude indices:\", len(lon_indices))"
   ]
  },
  {
   "cell_type": "code",
   "execution_count": null,
   "metadata": {},
   "outputs": [],
   "source": [
    "ds_kor = arr.isel(latitude=lat_indices, longitude=lon_indices)\n",
    "print(ds_kor)"
   ]
  },
  {
   "cell_type": "code",
   "execution_count": null,
   "metadata": {},
   "outputs": [],
   "source": [
    "dar = ds_kor['2m_temperature']\n",
    "dar = dar.sel(level=100)\n",
    "\n",
    "data = dar.to_numpy()\n",
    "print(data.shape)"
   ]
  },
  {
   "cell_type": "code",
   "execution_count": null,
   "metadata": {},
   "outputs": [],
   "source": [
    "print(data)"
   ]
  },
  {
   "cell_type": "code",
   "execution_count": null,
   "metadata": {},
   "outputs": [],
   "source": [
    "import pandas as pd\n",
    "dar = ds['2m_temperature']\n",
    "i2 = pd.to_datetime(str(2018) + '-03-01T00:00:00.000000000') \n",
    "dar = dar.sel(time=i2)\n",
    "print(dar)"
   ]
  },
  {
   "cell_type": "code",
   "execution_count": null,
   "metadata": {},
   "outputs": [],
   "source": [
    "ds_kor = dar.isel(latitude=lat_indices, longitude=lon_indices)\n",
    "print(ds_kor.latitude)\n",
    "print(ds_kor.longitude)\n"
   ]
  },
  {
   "cell_type": "code",
   "execution_count": null,
   "metadata": {},
   "outputs": [],
   "source": [
    "import matplotlib.font_manager as fm\n",
    "import matplotlib.pyplot as plt\n",
    "import warnings\n",
    "warnings.filterwarnings(action='ignore')\n",
    "\n",
    "%matplotlib inline\n",
    "%config InlineBackend.figure_format = 'retina'\n",
    "plt.rcParams[\"figure.figsize\"] = (6,6) #차트 사이즈\n",
    "from mpl_toolkits.basemap import Basemap, cm\n",
    "m = Basemap(llcrnrlon=min(ds_kor.longitude),llcrnrlat=min(ds_kor.latitude),urcrnrlon=max(ds_kor.longitude),urcrnrlat=max(ds_kor.latitude), resolution='i',projection='cyl',lon_0=(max(ds_kor.longitude)-min(ds_kor.longitude)) / 2,lat_0=(max(ds_kor.latitude)-min(ds_kor.latitude)) / 2)\n",
    "ds_kor.plot()\n",
    "m.drawcoastlines()"
   ]
  }
 ],
 "metadata": {
  "kernelspec": {
   "display_name": "venv",
   "language": "python",
   "name": "python3"
  },
  "language_info": {
   "codemirror_mode": {
    "name": "ipython",
    "version": 3
   },
   "file_extension": ".py",
   "mimetype": "text/x-python",
   "name": "python",
   "nbconvert_exporter": "python",
   "pygments_lexer": "ipython3",
   "version": "3.10.13"
  }
 },
 "nbformat": 4,
 "nbformat_minor": 2
}
